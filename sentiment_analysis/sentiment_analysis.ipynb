{
  "nbformat": 4,
  "nbformat_minor": 0,
  "metadata": {
    "colab": {
      "name": "sentiment_analysis",
      "provenance": [],
      "collapsed_sections": [],
      "toc_visible": true,
      "mount_file_id": "1BqcF6hyMT2QmFW_sfN--56Xl9XygM1hC",
      "authorship_tag": "ABX9TyMkKDK4yS34u2AN1ZRO/mqa",
      "include_colab_link": true
    },
    "kernelspec": {
      "name": "python3",
      "display_name": "Python 3"
    },
    "accelerator": "GPU"
  },
  "cells": [
    {
      "cell_type": "markdown",
      "metadata": {
        "id": "view-in-github",
        "colab_type": "text"
      },
      "source": [
        "<a href=\"https://colab.research.google.com/github/DatDoc/CS114.K21.KHTN/blob/master/sentiment_analysis/sentiment_analysis.ipynb\" target=\"_parent\"><img src=\"https://colab.research.google.com/assets/colab-badge.svg\" alt=\"Open In Colab\"/></a>"
      ]
    },
    {
      "cell_type": "markdown",
      "metadata": {
        "id": "2vIspnR4TJ2U",
        "colab_type": "text"
      },
      "source": [
        "# PHÂN TÍCH CẢM XÚC (SENTIMENT ANALYSIS)\n"
      ]
    },
    {
      "cell_type": "markdown",
      "metadata": {
        "id": "1tMDALc2Tafd",
        "colab_type": "text"
      },
      "source": [
        "## **Giới thiệu**"
      ]
    },
    {
      "cell_type": "markdown",
      "metadata": {
        "id": "_TGwvvigS0qv",
        "colab_type": "text"
      },
      "source": [
        "### 1.1 Đặt vấn đề\n",
        "Với sự phát triển của các trang buôn bán điện tử ngày nay thì việc thu thập đánh giá từ các bình luận của người dùng là rất cần thiết. Các bình luận của người dùng giúp cho các trang web dễ dàng lọc, đề xuất các mặt hàng, địa điểm phù hợp với từng người dùng và đánh giá chất lượng dịch vụ của các đối tác. Với hàng chục nghìn cho tới hàng trăm nghìn bình luận mỗi ngày hiện nay thì việc phân loại (tốt, xấu) cho các bình luận từ người dùng không phải là điều dễ dàng cần đòi hỏi rất nhiều nhân lực. Cùng sự phát triển của AI, hiện nay chúng ta có thể giải quyết bài toán này bằng các mô hình học sâu với độ chính xác cao tương đương với con người\n",
        "\n",
        "![](https://storage.googleapis.com/vietai/comments.png)"
      ]
    },
    {
      "cell_type": "markdown",
      "metadata": {
        "id": "mU1hnvrDTW75",
        "colab_type": "text"
      },
      "source": [
        "### 1.2 Bài toán cụ thể\n",
        "\n",
        "\n",
        "- Trong assignment này, chúng ta tiếp cận bài toán phân tích cảm xúc (Sentiment Analysis) thông qua tập dữ liệu chứa các bình luận được crawl trực tiếp từ foody. Nếu nhìn theo kiểu black box, đầu vào của bài toán là một câu hoặc đoạn văn bản và đầu ra là trạng thái tích cực, tiêu cực hay trung hoà (positive - negative - neutral). Trong phạm vi của assignment này, chúng ta chỉ quan tâm đến hai trạng thái cảm xúc là positive và negative.\n",
        "\n",
        "![caption](https://drive.google.com/uc?export=view&id=1cg-W4IXMKP9jfpCcADKXqXwpgEV19I-f)\n",
        "\n",
        "- Dataset chứa hơn 61.870 bình luận và điểm đánh giá của mỗi bình luận đó trên thang điểm từ 0.0 đến 10.0. Download bộ dữ liệu tại https://github.com/DatDoc/CS114.K21.KHTN/tree/master/sentiment_analysis\n",
        "\n",
        ">>![image.png](data:image/png;base64,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)\n",
        "\n",
        "- Để bộ dữ liệu phù hợp với bài toán là đánh giá cảm xúc tiêu cực hay tích cực, nên trong bước tiền xử lý dữ liệu, các bình luận được đánh giá >= 8.0 thì sẽ được gán nhãn tích cực (1), các bình luận được đánh giá <= 5.0 thì được gán nhãn tiêu cực (0). Do đó số lượng bình luận trong bộ dữ liệu sẽ bị giảm xuống còn 34.985 bình luận bao gồm 8366 bình luận tiêu cực và 53504 bình luận tích cực.\n",
        "\n",
        "- Các bước thực hiện bao gồm:\n",
        "\n",
        ">1.   Tiền xử lý dữ liệu (preprocessing)\n",
        "2.   Đúc trích đặc trưng (Feature Engineering)\n",
        "3.   Lựa chọn thuật toán máy học\n",
        "4.   Cài đặt, tinh chỉnh tham số\n",
        "5.   Đánh giá kết quả, kết luận\n",
        "\n",
        "\n",
        "\n",
        "\n",
        "\n",
        "\n",
        " \n",
        "\n",
        "\n"
      ]
    },
    {
      "cell_type": "markdown",
      "metadata": {
        "id": "eGtYo9q7lwxb",
        "colab_type": "text"
      },
      "source": [
        "## Xây dựng kế hoạch giải quyết bài toán"
      ]
    },
    {
      "cell_type": "markdown",
      "metadata": {
        "id": "-q7Id6yWmMzf",
        "colab_type": "text"
      },
      "source": [
        "#### 2.1 Phân tích bài toán dưới góc nhìn Word Vectors"
      ]
    },
    {
      "cell_type": "markdown",
      "metadata": {
        "id": "F_zrJtUymThv",
        "colab_type": "text"
      },
      "source": [
        "Nếu như chúng ta giữ nguyên định dạng đầu vào là chuỗi ký tự thì rất khó để thực hiện các thao tác biến đổi như tích vô hướng (dot product) hoặc các thuật toán trên mạng neural network như backpropagation. Thay vì dữ liệu đầu vào là một chuỗi, chúng ta cần chuyển đổi các từ trong tập từ điển sang dạng vector số học trong đó có thể thực hiện được các phép toán nêu trên.\n",
        "\n",
        "![Word2Vec](https://drive.google.com/uc?export=view&id=12xKP6pFzDzj-0ToZX-27RjOhRcMFrfeb)\n",
        "\n",
        "Trong hình minh hoạ ở trên, ta có thể hình dung dữ liệu đầu vào của thuật toán phân tích cảm xúc là một ma trận 16 x D chiều. Trong đó 16 là số lượng từ trong câu và D là số chiều của không gian vector để biểu diễn từ. Để ánh xạ từ một từ sang một vector, chúng ta sử dụng ma trận word embedding như đã thực hiện."
      ]
    },
    {
      "cell_type": "markdown",
      "metadata": {
        "id": "BTnnL_JumZay",
        "colab_type": "text"
      },
      "source": [
        "####2.2 Phân tích bài toán dưới góc nhìn TF IDF"
      ]
    },
    {
      "cell_type": "markdown",
      "metadata": {
        "id": "HvOOh_0YmdTy",
        "colab_type": "text"
      },
      "source": [
        "TF-IDF (Term Frequency – Inverse Document Frequency) là 1 kĩ thuật sử dụng trong khai phá dữ liệu văn bản. Trọng số này được sử dụng để đánh giá tầm quan trọng của một từ trong một văn bản. Giá trị cao thể hiện độ quan trọng cao và nó phụ thuộc vào số lần từ xuất hiện trong văn bản nhưng bù lại bởi tần suất của từ đó trong tập dữ liệu. Một vài biến thể của tf-idf thường được sử dụng trong các hệ thống tìm kiếm như một công cụ chính để đánh giá và sắp xếp văn bản dựa vào truy vấn của người dùng.  Tf-idf cũng được sử dụng để lọc những từ stopwords trong các bài toán như tóm tắt văn bản và phân loại văn bản."
      ]
    },
    {
      "cell_type": "markdown",
      "metadata": {
        "id": "5Zg6jnPgt69D",
        "colab_type": "text"
      },
      "source": [
        "###2.3 Cài đặt các thư viện\n"
      ]
    },
    {
      "cell_type": "code",
      "metadata": {
        "id": "7rD6U9rNZEZG",
        "colab_type": "code",
        "colab": {}
      },
      "source": [
        "pip install underthesea"
      ],
      "execution_count": null,
      "outputs": []
    },
    {
      "cell_type": "code",
      "metadata": {
        "id": "pOZz38UN2KQD",
        "colab_type": "code",
        "colab": {}
      },
      "source": [
        "pip install emoji"
      ],
      "execution_count": null,
      "outputs": []
    },
    {
      "cell_type": "code",
      "metadata": {
        "id": "caabFibW2ShC",
        "colab_type": "code",
        "colab": {}
      },
      "source": [
        "pip install flask-ngrok"
      ],
      "execution_count": null,
      "outputs": []
    },
    {
      "cell_type": "markdown",
      "metadata": {
        "id": "5tFcLOZAdUvH",
        "colab_type": "text"
      },
      "source": [
        "###2.4 Import các thư viện cần thiết"
      ]
    },
    {
      "cell_type": "code",
      "metadata": {
        "id": "B2JVm_NOdWLA",
        "colab_type": "code",
        "colab": {}
      },
      "source": [
        "from sklearn import metrics\n",
        "from sklearn.feature_extraction.text import TfidfVectorizer\n",
        "from sklearn.model_selection import train_test_split, cross_val_score, GridSearchCV, RepeatedStratifiedKFold\n",
        "from sklearn.svm import LinearSVC, SVC\n",
        "from sklearn.naive_bayes import MultinomialNB\n",
        "from sklearn.linear_model import LogisticRegression\n",
        "import tensorflow as tf\n",
        "from tensorflow.keras.preprocessing.text import Tokenizer\n",
        "from tensorflow.keras.preprocessing.sequence import pad_sequences\n",
        "from tensorflow.keras.models import Sequential\n",
        "from tensorflow.keras.layers import Embedding, Flatten, Dense\n",
        "import matplotlib.pyplot as plt\n",
        "import pandas as pd\n",
        "import numpy as np\n",
        "import seaborn as sns\n",
        "import io\n",
        "from underthesea import word_tokenize\n",
        "import re\n",
        "import sys\n",
        "import string\n",
        "import codecs\n",
        "import itertools\n",
        "import emoji\n",
        "import pickle\n",
        "from flask import Flask, render_template, request\n",
        "from flask_ngrok import run_with_ngrok"
      ],
      "execution_count": 68,
      "outputs": []
    },
    {
      "cell_type": "markdown",
      "metadata": {
        "id": "gWE_AD55dpny",
        "colab_type": "text"
      },
      "source": [
        "## Phân tích dữ liệu"
      ]
    },
    {
      "cell_type": "markdown",
      "metadata": {
        "id": "Cy2L-ynJlSuP",
        "colab_type": "text"
      },
      "source": [
        "###3.1 Load tập dữ liệu \n"
      ]
    },
    {
      "cell_type": "code",
      "metadata": {
        "id": "2768LKhVlTI-",
        "colab_type": "code",
        "colab": {
          "base_uri": "https://localhost:8080/",
          "height": 221
        },
        "outputId": "83e10454-fc28-482a-e406-832217241815"
      },
      "source": [
        "df = pd.read_excel(\"/content/drive/My Drive/Colab Notebooks/sentiment_analysis/foody-dataset.xlsx\")\n",
        "print(df.head(10))\n",
        "print(df.shape)"
      ],
      "execution_count": 6,
      "outputs": [
        {
          "output_type": "stream",
          "text": [
            "                                            comments  ratings\n",
            "0                                      Mì quảng ngon     10.0\n",
            "1  Quán sạch sẽ, chủ quán vui vẻ, giá rất ok Mình...     10.0\n",
            "2  Trời sg mấy nay nóng bức ko muốn ăn cơm, thấy ...      7.4\n",
            "3     Ngon, vừa tiền, hương vị đậm chất miền trung,,      8.6\n",
            "4  Bơ đúng ngon. Nghe đâu bơ quê siêu sạch không ...     10.0\n",
            "5  Nghỉ tết dài hạn , nay vào lại tp nên đặt món ...      7.6\n",
            "6  Quán làm ăn có tâm. Hôm nay mình order bánh tr...      9.2\n",
            "7  Quán xá ở Tân Phú đóng cửa hết rồi, may mắn Ta...     10.0\n",
            "8  Mì quảng ngon, mít trộn ngon, bánh tráng thịt ...     10.0\n",
            "9  Mình order 2 lần rồi. mít trộn và bánh tráng t...      9.2\n",
            "(61870, 2)\n"
          ],
          "name": "stdout"
        }
      ]
    },
    {
      "cell_type": "markdown",
      "metadata": {
        "id": "vqV75Zuplffb",
        "colab_type": "text"
      },
      "source": [
        "###3.2 Loại bỏ các bình luận có điểm số > 5.0 và < 8.0 và gán nhãn tích cực(1) cho những bình luận >= 8.0, tiêu cực(0) cho những bình luận <= 5.0"
      ]
    },
    {
      "cell_type": "code",
      "metadata": {
        "id": "dQ-EktgKa__s",
        "colab_type": "code",
        "colab": {
          "base_uri": "https://localhost:8080/",
          "height": 221
        },
        "outputId": "b06d0f89-1176-4002-bd64-932b063af663"
      },
      "source": [
        "df = df[((df[\"ratings\"] <= 5.0) | (df[\"ratings\"] >= 8.0))] # remove the neutral comments (5 < x < 8)\n",
        "df.loc[df[\"ratings\"] <= 5, \"ratings\"] = 0\n",
        "df.loc[df[\"ratings\"] >= 8, \"ratings\"] = 1\n",
        "df[\"ratings\"] = df[\"ratings\"].astype(int)\n",
        "\n",
        "df.reset_index(inplace=True)\n",
        "df = df.drop(\"index\", axis= 1)\n",
        "print(df.head(10))\n",
        "print(df.shape)"
      ],
      "execution_count": 7,
      "outputs": [
        {
          "output_type": "stream",
          "text": [
            "                                            comments  ratings\n",
            "0                                      Mì quảng ngon        1\n",
            "1  Quán sạch sẽ, chủ quán vui vẻ, giá rất ok Mình...        1\n",
            "2     Ngon, vừa tiền, hương vị đậm chất miền trung,,        1\n",
            "3  Bơ đúng ngon. Nghe đâu bơ quê siêu sạch không ...        1\n",
            "4  Quán làm ăn có tâm. Hôm nay mình order bánh tr...        1\n",
            "5  Quán xá ở Tân Phú đóng cửa hết rồi, may mắn Ta...        1\n",
            "6  Mì quảng ngon, mít trộn ngon, bánh tráng thịt ...        1\n",
            "7  Mình order 2 lần rồi. mít trộn và bánh tráng t...        1\n",
            "8  Đã tới ăn , vị ổn , nhưng mình tưởng như hình ...        0\n",
            "9  Mì gà rất ngon. Ga ta siêu ngon không mỡ không...        1\n",
            "(34985, 2)\n"
          ],
          "name": "stdout"
        }
      ]
    },
    {
      "cell_type": "code",
      "metadata": {
        "id": "IhWe0TSD5Jw9",
        "colab_type": "code",
        "colab": {
          "base_uri": "https://localhost:8080/",
          "height": 330
        },
        "outputId": "f285106b-9bfe-4791-b3db-957f3de4ff14"
      },
      "source": [
        "sns.countplot(x='ratings', data=df)\n",
        "print(df['ratings'].value_counts())"
      ],
      "execution_count": 8,
      "outputs": [
        {
          "output_type": "stream",
          "text": [
            "1    26619\n",
            "0     8366\n",
            "Name: ratings, dtype: int64\n"
          ],
          "name": "stdout"
        },
        {
          "output_type": "display_data",
          "data": {
            "image/png": "[encoded data removed]",
            "text/plain": [
              "<Figure size 432x288 with 1 Axes>"
            ]
          },
          "metadata": {
            "tags": [],
            "needs_background": "light"
          }
        }
      ]
    },
    {
      "cell_type": "markdown",
      "metadata": {
        "id": "5oX8n0w_l1iV",
        "colab_type": "text"
      },
      "source": [
        "###3.3 Tiền xử lý dữ liệu\n",
        "\n",
        "* Dữ liệu bình luận (văn nói) nên người dùng thường không quan \n",
        "tâm đến chữ hoa thường khi gõ, đưa hết về lower case.\n",
        "* Loại bỏ những ký tự kéo dài: Ví dụ: Áo đẹp quáaaaaaaa--> Áo đẹp quá.\n",
        "* Tiếng Việt có 2 cách bỏ dấu nên đưa về 1 chuẩn. Ví dụ, chữ \"Hòa\" và \"Hoà\" đều được chấp nhận trong tiếng Việt. Ngoài ra còn một số trường hợp lỗi font chữ cũng cần chuẩn hóa lại. (các trường hợp dính chữ như: \"Giao hàngnhanh\" xử ý đc sẽ tốt hơn).\n",
        "* Chuẩn hóa một số sentiment word: \"okie\"-->\"ok\", \"okey\"-->\"ok\", authentic--> \"chuẩn chính hãng\",vv...\n",
        "* Emoj quy về 2 loại: emojs mang ý nghĩa tích cực (positive): '💯','💗' và emojs mang nghĩa tiêu cực (negative): '👎','😣'.\n",
        "* Loại bỏ dấu câu (puntuations) và các ký tự nhiễu.\n",
        "* Xử lý vấn đề phủ định, TF-IDF không xử lý được vấn đề phủ định trong bài toán sentiment. Ví dụ: Cái áo này rất đẹp và Cái áo này chẳng đẹp sẽ không khác nhau nhiều khi chọn feature tf-idf, giải pháp của mình là biến chẳng đẹp thành not-positive, hay không tệ thành not-negative bằng cách dùng từ điển phủ định. \n",
        "Augmentation data bằng cách thêm vào các sample của chính tập train nhưng không dấu. (Bình luận không dấu khá phổ biến).\n",
        "* Ngoài ra, mình bổ sung vào tập train các sample mới lấy từ chính 2 từ điển positive và negative. Các từ vựng trong từ điển tích cực gán nhãn 0, các từ vựng từ từ điển tiêu cực gán nhãn 1.\n"
      ]
    },
    {
      "cell_type": "markdown",
      "metadata": {
        "id": "9ujCsYw0pTZq",
        "colab_type": "text"
      },
      "source": [
        "####3.3.1 Loại bỏ các ký tự lặp lại"
      ]
    },
    {
      "cell_type": "code",
      "metadata": {
        "id": "bHjhMidKVfUr",
        "colab_type": "code",
        "colab": {}
      },
      "source": [
        "def remove_repeat_char(text):\n",
        "  text = re.compile(r'(.)\\1{1,}', re.IGNORECASE).sub(r'\\1', str(text))\n",
        "  return text"
      ],
      "execution_count": 9,
      "outputs": []
    },
    {
      "cell_type": "code",
      "metadata": {
        "id": "toQIXO7PpbLB",
        "colab_type": "code",
        "colab": {
          "base_uri": "https://localhost:8080/",
          "height": 51
        },
        "outputId": "7a18f7f2-a277-4e2c-ca1c-59d303ec6aa7"
      },
      "source": [
        "input = \"Món này ngon quáaaaaaaaa :)) Trà sữa thì không tệ 🧋 <3 \\n. Mời các bạn ghé thăm quán tại trang web foody.com\"\n",
        "input = remove_repeat_char(input)\n",
        "print(input)"
      ],
      "execution_count": 10,
      "outputs": [
        {
          "output_type": "stream",
          "text": [
            "Món này ngon quáa :) Trà sữa thì không tệ 🧋 <3 \n",
            ". Mời các bạn ghé thăm quán tại trang web fody.com\n"
          ],
          "name": "stdout"
        }
      ]
    },
    {
      "cell_type": "markdown",
      "metadata": {
        "id": "7pbWX9-bAGCh",
        "colab_type": "text"
      },
      "source": [
        "####3.3.2 Chuẩn hóa về ký tự in thường"
      ]
    },
    {
      "cell_type": "code",
      "metadata": {
        "id": "PFi7-8IdWRv5",
        "colab_type": "code",
        "colab": {}
      },
      "source": [
        "def lowercase(text):\n",
        "  return text.lower()"
      ],
      "execution_count": 11,
      "outputs": []
    },
    {
      "cell_type": "code",
      "metadata": {
        "id": "CribJmvQb017",
        "colab_type": "code",
        "colab": {
          "base_uri": "https://localhost:8080/",
          "height": 51
        },
        "outputId": "e3f8a488-c316-4d24-d333-718a0c098ce9"
      },
      "source": [
        "input = lowercase(input)\n",
        "print(lowercase(input))"
      ],
      "execution_count": 12,
      "outputs": [
        {
          "output_type": "stream",
          "text": [
            "món này ngon quáa :) trà sữa thì không tệ 🧋 <3 \n",
            ". mời các bạn ghé thăm quán tại trang web fody.com\n"
          ],
          "name": "stdout"
        }
      ]
    },
    {
      "cell_type": "markdown",
      "metadata": {
        "id": "t7FNv_92ARE0",
        "colab_type": "text"
      },
      "source": [
        "####3.3.3 Chuẩn hóa dấu câu và từ viết tắt trong Tiếng Việt"
      ]
    },
    {
      "cell_type": "code",
      "metadata": {
        "id": "-KCt0Im9ZPSj",
        "colab_type": "code",
        "colab": {}
      },
      "source": [
        "def normalize_word(text):\n",
        "  replace_list = {\n",
        "        #Chuẩn hóa các kí tự kéo dài đặc biệt vd : quáaaaaa -> quá\n",
        "        'íi' : 'í', 'ìi' : 'ì', 'ỉi' : 'ỉ', 'ĩi':'ĩ', 'áa':'á', 'àa' : 'à', 'ảa' : 'ả', 'ãa' : 'ã', 'âa' :'â', 'ầa' : 'ầ', 'ấa' : 'ấ', 'ẩa' : 'ẩ', 'ẫa' : 'ẫ',\n",
        "        'ée' : 'é' , 'èe' : 'è', 'ẻe' : 'ẻ', 'ẽe' : 'ẽ' , 'êe' : 'ê', 'ếe' : 'ế', 'ềe' : 'ề', 'ểe' : 'ể', 'ễe' : 'ễ', 'ềê' : 'ề', 'ếê' : 'ế', 'ểê' : 'ể', 'ễê' : 'ễ',\n",
        "        'ôo' : 'ô', 'ồo' : 'ồ' , 'ốo' : 'ố', 'ồo' : 'ồ' , 'ổo':'ổ', 'ỗo' : 'ỗ', 'ồô' : 'ồ', 'ốô' : 'ố', 'ổô' : 'ổ', 'ỗô' : 'ỗ',\n",
        "        'ờo' : 'ờ', 'ớo' :'ớ', 'ởo' : 'ở', 'ỡo' : 'ỡ', 'ờơ' : 'ờ', 'ớơ' : 'ớ', 'ởơ' : 'ở', 'ỡơ' : 'ỡ',\n",
        "        'ùu' :'ù', 'úu' : 'ú', 'ủu' :'ủ', 'ũu' : 'ũ', 'ừư' : 'ừ', 'ứư' : 'ứ', 'ửư' : 'ử', 'ữư' : 'ữ',\n",
        "        'ýy' :'ý', 'ỳy' : 'ỳ', 'ỷy' : 'ỷ', 'ỹy' : 'ỹ',\n",
        "        #Chuẩn hóa các vị trí của dấu câu\n",
        "        'òa': 'oà', 'óa': 'oá', 'ỏa': 'oả', 'õa': 'oã', 'ọa': 'oạ', 'òe': 'oè', 'óe': 'oé','ỏe': 'oẻ',\n",
        "        'õe': 'oẽ', 'ọe': 'oẹ', 'ùy': 'uỳ', 'úy': 'uý', 'ủy': 'uỷ', 'ũy': 'uỹ','ụy': 'uỵ', 'uả': 'ủa',\n",
        "        'ả': 'ả', 'ố': 'ố', 'u´': 'ố','ỗ': 'ỗ', 'ồ': 'ồ', 'ổ': 'ổ', 'ấ': 'ấ', 'ẫ': 'ẫ', 'ẩ': 'ẩ',\n",
        "        'ầ': 'ầ', 'ỏ': 'ỏ', 'ề': 'ề','ễ': 'ễ', 'ắ': 'ắ', 'ủ': 'ủ', 'ế': 'ế', 'ở': 'ở', 'ỉ': 'ỉ',\n",
        "        'ẻ': 'ẻ', 'àk': u' à ','aˋ': 'à', 'iˋ': 'ì', 'ă´': 'ắ','ử': 'ử', 'e˜': 'ẽ', 'y˜': 'ỹ', 'a´': 'á',\n",
        "        #Quy các icon về 2 loại emoj: Tích cực hoặc tiêu cực\n",
        "        \"👹\": \" negative \", \"👻\": \" positive \", \"💃\": \" positive \",'🤙': ' positive ', '👍': ' positive ', '🥰' : \" positive \", \"=)\" : ' positive ',\n",
        "        \"💄\": \" positive \", \"💎\": \" positive \", \"💩\": \" positive \",\"😕\": \" negative \", \"😱\": \" negative \", \"😸\": \" positive \",\n",
        "        \"😾\": \" negative \", \"🚫\": \" negative \",  \"🤬\": \" negative \",\"🧚\": \" positive \", \"🧡\": \" positive \",'🐶': ' positive ',\n",
        "        '👎': ' negative ', '😣': ' negative ','✨': ' positive ', '❣': ' positive ','☀': ' positive ', '😅' : ' positive ',\n",
        "        '♥': ' positive ', '🤩': ' positive ', 'like': ' positive ', '💌': ' positive ', '^^' : ' positive ',\n",
        "        '🤣': ' positive ', '🖤': ' positive ', '🤤': ' positive ', ':(': ' negative ', '😢': ' negative ',\n",
        "        '❤': ' positive ', '😍': ' positive ', '😘': ' positive ', '😪': ' negative ', '😊': ' positive ',\n",
        "        '?': ' ? ', '😁': ' positive ', '💖': ' positive ', '😟': ' negative ', '😭': ' negative ',\n",
        "        '💯': ' positive ', '💗': ' positive ', '♡': ' positive ', '💜': ' positive ', '🤗': ' positive ',\n",
        "        '^^': ' positive ', '😨': ' negative ', '☺': ' positive ', '💋': ' positive ', '👌': ' positive ',\n",
        "        '😖': ' negative ', '😀': ' positive ', ':(': ' negative ', '😡': ' negative ', '😠': ' negative ',\n",
        "        '😒': ' negative ', '🙂': ' positive ', '😏': ' negative ', '😝': ' positive ', '😄': ' positive ',\n",
        "        '😙': ' positive ', '😤': ' negative ', '😎': ' positive ', '😆': ' positive ', '💚': ' positive ',\n",
        "        '✌': ' positive ', '💕': ' positive ', '😞': ' negative ', '😓': ' negative ', '️🆗️': ' positive ',\n",
        "        '😉': ' positive ', '😂': ' positive ', ':v': '  positive ', '=)': '  positive ', '😋': ' positive ', ':-)' : ' positive ', ':)': '  positive ', ':>': ' positive ', ':-]' : ' positive ' ,\n",
        "        '💓': ' positive ', '😐': ' negative ', ':3': ' positive ', '😫': ' negative ', '😥': ' negative ',\n",
        "        '😃': ' positive ', '😬': ' 😬 ', '😌': ' 😌 ', '💛': ' positive ', '🤝': ' positive ', '🎈': ' positive ',\n",
        "        '😗': ' positive ', '🤔': ' negative ', '😑': ' negative ', '🔥': ' negative ', '🙏': ' negative ',\n",
        "        '🆗': ' positive ', '😻': ' positive ', '💙': ' positive ', '💟': ' positive ',\n",
        "        '😚': ' positive ', '❌': ' negative ', '👏': ' positive ', ';)': ' positive ', '<3': ' positive ',\n",
        "        '🌝': ' positive ',  '🌷': ' positive ', '🌸': ' positive ', '🌺': ' positive ',\n",
        "        '🌼': ' positive ', '🍓': ' positive ', '🐅': ' positive ', '🐾': ' positive ', '👉': ' positive ',\n",
        "        '💐': ' positive ', '💞': ' positive ', '💥': ' positive ', '💪': ' positive ',\n",
        "        '💰': ' positive ',  '😇': ' positive ', '😛': ' positive ', '😜': ' positive ',\n",
        "        '🙃': ' positive ', '🤑': ' positive ', '🤪': ' positive ','☹': ' negative ',  '💀': ' negative ',\n",
        "        '😔': ' negative ', '😧': ' negative ', '😩': ' negative ', '😰': ' negative ', '😳': ' negative ',\n",
        "        '😵': ' negative ', '😶': ' negative ', '🙁': ' negative ',\n",
        "        #Chuẩn hóa 1 số sentiment words/English words\n",
        "        'ô kêi': ' ok ', 'okie': ' ok ', ' o kê ': ' ok ',\n",
        "        'okey': ' ok ', 'ôkê': ' ok ', 'oki': ' ok ', ' oke ':  ' ok ',' okay':' ok ','okê':' ok ', 'okela' : ' ok ', \n",
        "        ' tks ': u' cám ơn ', 'thks': u' cám ơn ', 'thanks': u' cám ơn ', 'ths': u' cám ơn ', 'thank': u' cám ơn ',\n",
        "        '⭐': ' star ', '*': ' star ', '🌟': ' star ', '🎉': u' positive ', 'great' : u' tuyệt ',\n",
        "        'kg ': u' không ','not': u' không ', u' kg ': u' không ', '\"k ': u' không ',' kh ':u' không ','kô':u' không ','hok':u' không ',' kp ': u' không phải ',u' kô ': u' không ', '\"ko ': u' không ', u' ko ': u' không ', u' k ': u' không ', 'khong': u' không ', u' hok ': u' không ', 'khôg' : u' không ',\n",
        "        'he he': ' positive ','hehe': ' positive ','hihi': ' positive ', 'haha': ' positive ', 'hjhj': ' positive ', 'hí hí': ' positive ', 'ha ha':' positive ','hi hi' : 'positive',\n",
        "        ' lol ': ' negative ',' cc ': ' negative ', ' đm ': ' negative ','cute': u' dễ thương ','huhu': ' negative ', ' vs ': u' với ', 'wa': ' quá ', 'wá': u' quá', 'j': u' gì ', '“': ' ',\n",
        "        ' sz ': u' cỡ ', 'size': u' cỡ ', u' đx ': u' được ', 'dk': u' được ', 'dc': u' được ', 'đk': u' được ', \n",
        "        'đc': u' được ','authentic': u' chuẩn chính hãng ',u' aut ': u' chuẩn chính hãng ', u' auth ': u' chuẩn chính hãng ', 'thick': u' positive ', 'store': u' cửa hàng ',\n",
        "        'shop': u' cửa hàng ', 'sp': u' sản phẩm ', 'gud': u' tốt ','god': u' tốt ','wel done':' tốt ', 'good': u' tốt ', 'gút': u' tốt ',\n",
        "        'sấu': u' xấu ','gut': u' tốt ', u' tot ': u' tốt ', u' nice ': u' tốt ', 'perfect': 'rất tốt', 'bt': u' bình thường ',\n",
        "        'time': u' thời gian ', 'qá': u' quá ', u' ship ': u' giao hàng ', u' m ': u' mình ', u' mik ': u' mình ', 'chil' : ' thư giản ',\n",
        "        'ể': 'ể', 'product': 'sản phẩm', 'quality': 'chất lượng','chat':' chất ', 'excelent': ' hoàn hảo ', 'bad': ' tệ ','fresh': ' tươi ','sad': ' tệ ',\n",
        "        'date': u' hạn sử dụng ', 'hsd': u' hạn sử dụng ','quickly': u' nhanh ', 'quick': u' nhanh ','fast': u' nhanh ','delivery': u' giao hàng ',u' síp ': u' giao hàng ',\n",
        "        'beautiful': u' đẹp tuyệt vời ', u' tl ': u' trả lời ', u' r ': u' rồi ', u' shopE ': u' cửa hàng ',u' order ': u' đặt hàng ', 'ord' : ' đặt hàng ',\n",
        "        'chất lg': u' chất lượng ',u' sd ': u' sử dụng ',u' dt ': u' điện thoại ',u' nt ': u' nhắn tin ',u' tl ': u' trả lời ',u' sài ': u' xài ',u'bjo':u' bao giờ ', \n",
        "        'thik': u' thích ',u' sop ': u' cửa hàng ', ' fb ': ' facebook ', ' face ': ' facebook ', ' very ': u' rất ','qủa' : u' quả ' ,u'quả ng ':u' quảng ',\n",
        "        'dep': u' đẹp ',u' xau ': u' xấu ','delicious': u' ngon ', u'hàg': u' hàng ', '&' : ' và ', 'cool' : u' tuyệt ', 'tsua' : ' trà sữa ', 'mn' : ' mọi người ',\n",
        "        'iu': u' yêu ','fake': u' giả mạo ', 'trl': 'trả lời', '><': u' positive ', 'bil' : u' hóa đơn ', 'awesome' : ' tuyệt vời ', \n",
        "        ' por ': u' tệ ', 'rep':u' trả lời ',u'fback':' feedback ','fedback':' feedback ', 'awful' : u' tệ ', 'hssv' : ' học sinh sinh viên ', 'cofe' : ' cà phê '\n",
        "        }\n",
        "\n",
        "  for k, v in replace_list.items():\n",
        "    text = text.replace(k, v)\n",
        "  return text"
      ],
      "execution_count": 13,
      "outputs": []
    },
    {
      "cell_type": "code",
      "metadata": {
        "id": "8u1TnL_zc2Dm",
        "colab_type": "code",
        "colab": {
          "base_uri": "https://localhost:8080/",
          "height": 51
        },
        "outputId": "de5ac9fb-e607-41cb-b642-534405bfc0fb"
      },
      "source": [
        "input = normalize_word(input)\n",
        "print(input)"
      ],
      "execution_count": 14,
      "outputs": [
        {
          "output_type": "stream",
          "text": [
            "món này ngon quá   positive  trà sữa thì không tệ 🧋  positive  \n",
            ". mời các bạn ghé thăm quán tại trang web fody.com\n"
          ],
          "name": "stdout"
        }
      ]
    },
    {
      "cell_type": "markdown",
      "metadata": {
        "id": "Y3Le8a2JAiSg",
        "colab_type": "text"
      },
      "source": [
        "####3.3.4 Loại bỏ các ký tự trong HTML"
      ]
    },
    {
      "cell_type": "code",
      "metadata": {
        "id": "THgpnRSjZqu2",
        "colab_type": "code",
        "colab": {}
      },
      "source": [
        "def remove_html(text):\n",
        "  HTML_TAGS = p = re.compile(r'<.*?>')\n",
        "  text = HTML_TAGS.sub(\"\", text)\n",
        "  return text"
      ],
      "execution_count": 15,
      "outputs": []
    },
    {
      "cell_type": "code",
      "metadata": {
        "id": "D4K0gqmkfknY",
        "colab_type": "code",
        "colab": {
          "base_uri": "https://localhost:8080/",
          "height": 51
        },
        "outputId": "66dd33a5-1d82-4a50-84fa-840fd1ad7c0b"
      },
      "source": [
        "input = remove_html(input)\n",
        "print(input)"
      ],
      "execution_count": 16,
      "outputs": [
        {
          "output_type": "stream",
          "text": [
            "món này ngon quá   positive  trà sữa thì không tệ 🧋  positive  \n",
            ". mời các bạn ghé thăm quán tại trang web fody.com\n"
          ],
          "name": "stdout"
        }
      ]
    },
    {
      "cell_type": "markdown",
      "metadata": {
        "id": "uxXXDLY8AxlO",
        "colab_type": "text"
      },
      "source": [
        "####3.3.5 Loại bỏ các punctuations"
      ]
    },
    {
      "cell_type": "code",
      "metadata": {
        "id": "m80aQOPNb-LM",
        "colab_type": "code",
        "colab": {}
      },
      "source": [
        "def remove_punctuation(text):\n",
        "  remove_punc = str.maketrans(string.punctuation, ' ' * len(string.punctuation))\n",
        "  text = text.translate(remove_punc)\n",
        "  return text"
      ],
      "execution_count": 17,
      "outputs": []
    },
    {
      "cell_type": "code",
      "metadata": {
        "id": "J8MzhQr2gktF",
        "colab_type": "code",
        "colab": {
          "base_uri": "https://localhost:8080/",
          "height": 51
        },
        "outputId": "cf9624b9-1d68-447b-dced-4bdc7763cfd6"
      },
      "source": [
        "input = remove_punctuation(input)\n",
        "print(input)"
      ],
      "execution_count": 18,
      "outputs": [
        {
          "output_type": "stream",
          "text": [
            "món này ngon quá   positive  trà sữa thì không tệ 🧋  positive  \n",
            "  mời các bạn ghé thăm quán tại trang web fody com\n"
          ],
          "name": "stdout"
        }
      ]
    },
    {
      "cell_type": "markdown",
      "metadata": {
        "id": "bWnBHFizCc9s",
        "colab_type": "text"
      },
      "source": [
        "####3.3.6 Loại bỏ các emoji không cần thiết"
      ]
    },
    {
      "cell_type": "code",
      "metadata": {
        "id": "yngmvDIVd7Aw",
        "colab_type": "code",
        "colab": {}
      },
      "source": [
        "\n",
        "def remove_emoji(text):\n",
        "  emoji_pattern = re.compile(\"[\"\n",
        "                               u\"\\U0001F600-\\U0001F64F\"  # emoticons\n",
        "                               u\"\\U0001F300-\\U0001F5FF\"  # symbols & pictographs\n",
        "                               u\"\\U0001F680-\\U0001F6FF\"  # transport & map symbols\n",
        "                               u\"\\U0001F1E0-\\U0001F1FF\"  # flags (iOS)\n",
        "                               u\"\\U00002500-\\U00002BEF\"  # chinese char\n",
        "                               u\"\\U00002702-\\U000027B0\"\n",
        "                               u\"\\U00002702-\\U000027B0\"\n",
        "                               u\"\\U000024C2-\\U0001F251\"\n",
        "                               u\"\\U0001f926-\\U0001f937\"\n",
        "                               u\"\\U00010000-\\U0010ffff\"\n",
        "                               u\"\\u2640-\\u2642\"\n",
        "                               u\"\\u2600-\\u2B55\"\n",
        "                               u\"\\u200d\"\n",
        "                               u\"\\u23cf\"\n",
        "                               u\"\\u23e9\"\n",
        "                               u\"\\u231a\"\n",
        "                               u\"\\ufe0f\"  # dingbats\n",
        "                               u\"\\u3030\"\n",
        "                               \"]+\", flags=re.UNICODE)\n",
        "  text = emoji_pattern.sub(r'', text)\n",
        "  return text"
      ],
      "execution_count": 19,
      "outputs": []
    },
    {
      "cell_type": "code",
      "metadata": {
        "id": "_5Hty-08hRpO",
        "colab_type": "code",
        "colab": {
          "base_uri": "https://localhost:8080/",
          "height": 51
        },
        "outputId": "c2994048-e27a-4d9f-fd24-d1029b9f3b03"
      },
      "source": [
        "input = remove_emoji(input)\n",
        "print(input)"
      ],
      "execution_count": 20,
      "outputs": [
        {
          "output_type": "stream",
          "text": [
            "món này ngon quá   positive  trà sữa thì không tệ   positive  \n",
            "  mời các bạn ghé thăm quán tại trang web fody com\n"
          ],
          "name": "stdout"
        }
      ]
    },
    {
      "cell_type": "code",
      "metadata": {
        "id": "380vkcDUTNSk",
        "colab_type": "code",
        "colab": {}
      },
      "source": [
        "def no_accent(s):\n",
        "    s = re.sub(r'[àáạảãâầấậẩẫăằắặẳẵ]', 'a', s)\n",
        "    s = re.sub(r'[ÀÁẠẢÃĂẰẮẶẲẴÂẦẤẬẨẪ]', 'A', s)\n",
        "    s = re.sub(r'[èéẹẻẽêềếệểễ]', 'e', s)\n",
        "    s = re.sub(r'[ÈÉẸẺẼÊỀẾỆỂỄ]', 'E', s)\n",
        "    s = re.sub(r'[òóọỏõôồốộổỗơờớợởỡ]', 'o', s)\n",
        "    s = re.sub(r'[ÒÓỌỎÕÔỒỐỘỔỖƠỜỚỢỞỠ]', 'O', s)\n",
        "    s = re.sub(r'[ìíịỉĩ]', 'i', s)\n",
        "    s = re.sub(r'[ÌÍỊỈĨ]', 'I', s)\n",
        "    s = re.sub(r'[ùúụủũưừứựửữ]', 'u', s)\n",
        "    s = re.sub(r'[ƯỪỨỰỬỮÙÚỤỦŨ]', 'U', s)\n",
        "    s = re.sub(r'[ỳýỵỷỹ]', 'y', s)\n",
        "    s = re.sub(r'[ỲÝỴỶỸ]', 'Y', s)\n",
        "    s = re.sub(r'[Đ]', 'D', s)\n",
        "    s = re.sub(r'[đ]', 'd', s)\n",
        "    return s\n"
      ],
      "execution_count": 21,
      "outputs": []
    },
    {
      "cell_type": "markdown",
      "metadata": {
        "id": "uY6PdVv2E2D8",
        "colab_type": "text"
      },
      "source": [
        "####3.3.7 Tách từ"
      ]
    },
    {
      "cell_type": "code",
      "metadata": {
        "id": "1KMBfO1Jl-7r",
        "colab_type": "code",
        "colab": {}
      },
      "source": [
        "def word_segmentation(text):\n",
        "  text = word_tokenize(text, format=\"text\")\n",
        "  return text"
      ],
      "execution_count": 22,
      "outputs": []
    },
    {
      "cell_type": "code",
      "metadata": {
        "id": "OK75HyVblvcz",
        "colab_type": "code",
        "colab": {
          "base_uri": "https://localhost:8080/",
          "height": 34
        },
        "outputId": "21e6654f-6fb3-4e5e-e752-11c91f5ae4d1"
      },
      "source": [
        "input = word_segmentation(input)\n",
        "print(input)"
      ],
      "execution_count": 23,
      "outputs": [
        {
          "output_type": "stream",
          "text": [
            "món này ngon quá positive trà sữa thì không tệ positive mời các bạn ghé thăm quán tại trang_web fody com\n"
          ],
          "name": "stdout"
        }
      ]
    },
    {
      "cell_type": "code",
      "metadata": {
        "id": "SoKxKHFKwY0j",
        "colab_type": "code",
        "colab": {}
      },
      "source": [
        "# -*- coding: utf-8 -*-\n",
        "\n",
        "\n",
        "def normalize_text(text):\n",
        "      \n",
        "    #Remove các ký tự kéo dài: vd: đẹppppppp\n",
        "    text = remove_repeat_char(text)\n",
        "    \n",
        "    #lowercase the text\n",
        "    text = lowercase(text)\n",
        "\n",
        "    #normalize word\n",
        "    text = normalize_word(text)\n",
        "    \n",
        "\n",
        "    #remove HTML_tags\n",
        "    text = remove_html(text)\n",
        "\n",
        "    # remove extra spaces between words\n",
        "    text = \" \".join(text.split()) \n",
        "    \n",
        "    #remove punctuations\n",
        "    text = remove_punctuation(text)\n",
        "  \n",
        "    # remove unwanted emojis\n",
        "    text = remove_emoji(text)\n",
        "\n",
        "    #word segmentation   \n",
        "    text = word_segmentation(text)\n",
        "    return text"
      ],
      "execution_count": 24,
      "outputs": []
    },
    {
      "cell_type": "code",
      "metadata": {
        "id": "HA2x-Vqq7OZr",
        "colab_type": "code",
        "colab": {}
      },
      "source": [
        "def transform_to_dataset(x_set, y_set):\n",
        "  X, y = [], []\n",
        "  for comment, rating in zip(x_set, y_set):\n",
        "      comment = normalize_text(comment)\n",
        "      X.append(comment)\n",
        "      y.append(rating)\n",
        "      #Augmentation bằng cách remove dấu tiếng Việt\n",
        "      X.append(no_accent(comment))\n",
        "      y.append(rating)\n",
        "  return X, y"
      ],
      "execution_count": 25,
      "outputs": []
    },
    {
      "cell_type": "markdown",
      "metadata": {
        "id": "69lw74T54iqX",
        "colab_type": "text"
      },
      "source": [
        "## Đúc trích đặc trưng (Feature engineering)\n"
      ]
    },
    {
      "cell_type": "markdown",
      "metadata": {
        "id": "zQuV99niTXjM",
        "colab_type": "text"
      },
      "source": [
        "###4.1 Chia dữ liệu thành train, validation và test"
      ]
    },
    {
      "cell_type": "markdown",
      "metadata": {
        "id": "43XadIy9Td75",
        "colab_type": "text"
      },
      "source": [
        "Chia dữ liệu thành 2 tập **train : validation = 0.7 : 0.3**\n",
        "\n",
        "\n"
      ]
    },
    {
      "cell_type": "code",
      "metadata": {
        "id": "gJX0p3c9tu9U",
        "colab_type": "code",
        "colab": {}
      },
      "source": [
        "X_train, X_val, y_train, y_val = train_test_split(df.comments, df.ratings, test_size=0.3,random_state=42)\n",
        "X_train, y_train = transform_to_dataset(X_train, y_train)\n",
        "X_train = np.array(X_train)\n",
        "y_train = np.array(y_train)\n",
        "X_val, y_val = transform_to_dataset(X_val, y_val)\n",
        "X_val = np.array(X_val)\n",
        "y_val = np.array(y_val)"
      ],
      "execution_count": 26,
      "outputs": []
    },
    {
      "cell_type": "code",
      "metadata": {
        "id": "03cPfznfIRnP",
        "colab_type": "code",
        "colab": {
          "base_uri": "https://localhost:8080/",
          "height": 394
        },
        "outputId": "3c99113f-5ad1-4851-e732-a5ede1e98a51"
      },
      "source": [
        "print(X_train.shape)\n",
        "print(X_train[0:10])\n",
        "print(X_val.shape)\n",
        "print(X_val[0:10])"
      ],
      "execution_count": 27,
      "outputs": [
        {
          "output_type": "stream",
          "text": [
            "(48978,)\n",
            "['gọi trên now về ăn ngon thực_sự một bát đầy ụ ăn no căng luôn có dịp sẽ ra quán nhiều nhiều positive positive'\n",
            " 'goi tren now ve an ngon thuc_su mot bat day u an no cang luon co dip se ra quan nhieu nhieu positive positive'\n",
            " 'ăn đây 5 6 lần rồi thì túm lại là steak ngon so với giá lần trước ăn burger không ngon miếng thịt ba_chỉ bên trong lạnh_ngắt như mới lôi ở tủ_lạnh ra nói_chung ăn bỏ nửa cái nước ép dứa cà_rốt không bỏ thêm đường uống là vừa vì dứa ngọt sẵn rồi đi ăn một_mình nên cũng không quan_tâm là không_gian kín hay mở ồn hay yên_tĩnh được cái gần phòng gym rạp chiếu_phim tiện cho việc đi tập ăn xem phim'\n",
            " 'an day 5 6 lan roi thi tum lai la steak ngon so voi gia lan truoc an burger khong ngon mieng thit ba_chi ben trong lanh_ngat nhu moi loi o tu_lanh ra noi_chung an bo nua cai nuoc ep dua ca_rot khong bo them duong uong la vua vi dua ngot san roi di an mot_minh nen cung khong quan_tam la khong_gian kin hay mo on hay yen_tinh duoc cai gan phong gym rap chieu_phim tien cho viec di tap an xem phim'\n",
            " 'lần đầu_tiên mình biết đến quán qua một bài share trên fb khoảng tháng 6 quán mới có trên fody chứ chưa có dịch_vụ giao hàng now như bây_giờ mỗi lần đặt_hàng phải cmt trên facebook và chờ cũng khá lâu nhưng bù lại chất_lượng khá đồng_đều gỏi cuốn thịt thơm tôm cũng khá ngọt không bị bở và có mùi ôi như một_số quán mình ăn cơm cũng khá ngon dẻo không bị rời_rạc đồ ăn kèm nêm nếm vừa_miệng giá_cả hợp_lý bây_giờ có thêm dịch_vụ giao hàng now cũng tiện hơn'\n",
            " 'lan dau_tien minh biet den quan qua mot bai share tren fb khoang thang 6 quan moi co tren fody chu chua co dich_vu giao hang now nhu bay_gio moi lan dat_hang phai cmt tren facebook va cho cung kha lau nhung bu lai chat_luong kha dong_deu goi cuon thit thom tom cung kha ngot khong bi bo va co mui oi nhu mot_so quan minh an com cung kha ngon deo khong bi roi_rac do an kem nem nem vua_mieng gia_ca hop_ly bay_gio co them dich_vu giao hang now cung tien hon'\n",
            " 'thái_độ nhan_viên chán chậm đồ ướp không có vị không mặn không ngọt đồ không được tươi lẩu ngon nhưng gọi đồ lẩu cũng chán nói_chung không nên thà ăn_ở nhất nướng còn hơn positive'\n",
            " 'thai_do nhan_vien chan cham do uop khong co vi khong man khong ngot do khong duoc tuoi lau ngon nhung goi do lau cung chan noi_chung khong nen tha an_o nhat nuong con hon positive'\n",
            " 'mình thường_xuyên ăn ở đây nhưng lần gần nhất qua thì có 1 bạn thu_ngân phục_vụ với thái_độ khó_chịu lạnh_lùng và mặt cau có trong khi mình mất rất ít thời_gian để gọi món'\n",
            " 'minh thuong_xuyen an o day nhung lan gan nhat qua thi co 1 ban thu_ngan phuc_vu voi thai_do kho_chiu lanh_lung va mat cau co trong khi minh mat rat it thoi_gian de goi mon']\n",
            "(20992,)\n",
            "['quán được giới_thiệu trên nhiều diễn_đàn nay có dịp nên đi ăn thử chất_lượng rất tốt từ phục_vụ đến sản_phẩm lẩu 180k ăn ba người là no căng bụng nước lẩu bao đậm_đà cá_đuối nhiều ngon đi hai người chỉ ăn lẩu uống nước_ngọt thì khoảng 230k'\n",
            " 'quan duoc gioi_thieu tren nhieu dien_dan nay co dip nen di an thu chat_luong rat tot tu phuc_vu den san_pham lau 180k an ba nguoi la no cang bung nuoc lau bao dam_da ca_duoi nhieu ngon di hai nguoi chi an lau uong nuoc_ngot thi khoang 230k'\n",
            " 'ngồi đợi nước_ép cam bổ_sung vitamin c vì dạo này thiếu c cả trong lẫn ngoài nên nhan_sắc hao_mòn quá'\n",
            " 'ngoi doi nuoc_ep cam bo_sung vitamin c vi dao nay thieu c ca trong lan ngoai nen nhan_sac hao_mon qua'\n",
            " 'kem chese ngon nhất trong tất_cả các chỗ mình đã uống positive thật_sự kem chese rất đặc_trưng và rất thơm luôn mình cũng khá thích trà olong cam đào dâu_tây của quán phải nói là nắng nóng mà uống trà trái_cây là hết_sẩy luôn í positive sữa_tươi trân_châu đường đen cũng ngon rất đáng đề thử positive'\n",
            " 'kem chese ngon nhat trong tat_ca cac cho minh da uong positive that_su kem chese rat dac_trung va rat thom luon minh cung kha thich tra olong cam dao dau_tay cua quan phai noi la nang nong ma uong tra trai_cay la het_say luon i positive sua_tuoi tran_chau duong den cung ngon rat dang de thu positive'\n",
            " 'quán có nhân_viên thân_thiện' 'quan co nhan_vien than_thien'\n",
            " 'không_gian quá rộng_rãi sạch_sẽ dễ tìm nhân_viên thân_thiện phục_vụ nhanh gọi đồ xong có luôn hôm đi ăn với bạn còn là một bà phục_vụ cho bọn mình chắc bà là chủ quán giá_cả phải_chăng nhưng mì nước thì ít mì nhiều nước nước_lèo không thơm lắm mì khô thì nước sốt loãng không đậm_đà nhưng nói_chung là ăn cũng ngon và giá phù_hợp học_sinh sinh_viên mỳ vằn_thắn'\n",
            " 'khong_gian qua rong_rai sach_se de tim nhan_vien than_thien phuc_vu nhanh goi do xong co luon hom di an voi ban con la mot ba phuc_vu cho bon minh chac ba la chu quan gia_ca phai_chang nhung mi nuoc thi it mi nhieu nuoc nuoc_leo khong thom lam mi kho thi nuoc sot loang khong dam_da nhung noi_chung la an cung ngon va gia phu_hop hoc_sinh sinh_vien my van_than']\n"
          ],
          "name": "stdout"
        }
      ]
    },
    {
      "cell_type": "markdown",
      "metadata": {
        "id": "2tTLZE4Csgjl",
        "colab_type": "text"
      },
      "source": [
        "###4.2 **TF-IDF**"
      ]
    },
    {
      "cell_type": "code",
      "metadata": {
        "id": "7Of00vd0drYl",
        "colab_type": "code",
        "colab": {
          "base_uri": "https://localhost:8080/",
          "height": 105
        },
        "outputId": "ed736cac-ea14-4852-ee92-ebede3704090"
      },
      "source": [
        "tfidf = TfidfVectorizer(min_df=5,max_df= 0.8,max_features=3000,sublinear_tf=True)\n",
        "tfidf.fit(X_train)\n",
        "print(\"Size of the vocabulary: \" + str(len(tfidf.vocabulary_)))\n",
        "vector_train = tfidf.transform(X_train)\n",
        "vector_val = tfidf.transform(X_val)\n",
        "print(\"print 10 words from the vocabulary\")\n",
        "vocab = {k: tfidf.vocabulary_[k] for k in list(tfidf.vocabulary_)[:10]}\n",
        "print(vocab)\n",
        "\n",
        "rr = dict(zip(tfidf.get_feature_names(), tfidf.idf_))\n",
        "print(dict(zip(tfidf.get_feature_names()[:10], tfidf.idf_)))"
      ],
      "execution_count": 28,
      "outputs": [
        {
          "output_type": "stream",
          "text": [
            "Size of the vocabulary: 3000\n",
            "print 10 words from the vocabulary\n",
            "{'gọi': 941, 'trên': 2483, 'now': 1778, 'về': 2717, 'ăn': 2845, 'ngon': 1620, 'thực_sự': 2365, 'một': 1551, 'bát': 259, 'đầy': 2914}\n",
            "{'10': 4.028923709642425, '10h': 6.781867076986286, '10k': 4.3357838682811884, '10p': 7.003356368204469, '12': 6.356729203279417, '120k': 6.836302283541302, '12h': 7.036972979003454, '12k': 6.526147355237463, '130k': 7.3332387951466265, '14': 7.28828740728436}\n"
          ],
          "name": "stdout"
        }
      ]
    },
    {
      "cell_type": "markdown",
      "metadata": {
        "id": "ZthxhrpyY2IC",
        "colab_type": "text"
      },
      "source": [
        "####4.2.1 Lựa chọn thuật toán máy học"
      ]
    },
    {
      "cell_type": "code",
      "metadata": {
        "id": "QzkfBqDwMWJU",
        "colab_type": "code",
        "colab": {
          "base_uri": "https://localhost:8080/",
          "height": 530
        },
        "outputId": "ee3f3334-fa64-4ecb-c6ed-169e269ac50d"
      },
      "source": [
        "#Try some models\n",
        "classifiers = [\n",
        "            MultinomialNB(),\n",
        "            LogisticRegression(),\n",
        "            LinearSVC(),\n",
        "        ]\n",
        "model = []\n",
        "for classifier in classifiers:\n",
        "    clf = classifier\n",
        "    #print(classifier)\n",
        "    model.append(clf.fit(vector_train, y_train))\n",
        "    y_pred = clf.predict(vector_val)\n",
        "    report = metrics.classification_report(y_val, y_pred, labels=[0, 1], digits=3)\n",
        "    print(report)\n"
      ],
      "execution_count": 29,
      "outputs": [
        {
          "output_type": "stream",
          "text": [
            "              precision    recall  f1-score   support\n",
            "\n",
            "           0      0.968     0.547     0.699      4964\n",
            "           1      0.876     0.994     0.932     16028\n",
            "\n",
            "   micro avg      0.889     0.889     0.889     20992\n",
            "   macro avg      0.922     0.771     0.815     20992\n",
            "weighted avg      0.898     0.889     0.877     20992\n",
            "\n"
          ],
          "name": "stdout"
        },
        {
          "output_type": "stream",
          "text": [
            "/usr/local/lib/python3.6/dist-packages/sklearn/linear_model/logistic.py:433: FutureWarning: Default solver will be changed to 'lbfgs' in 0.22. Specify a solver to silence this warning.\n",
            "  FutureWarning)\n"
          ],
          "name": "stderr"
        },
        {
          "output_type": "stream",
          "text": [
            "              precision    recall  f1-score   support\n",
            "\n",
            "           0      0.914     0.796     0.851      4964\n",
            "           1      0.939     0.977     0.958     16028\n",
            "\n",
            "   micro avg      0.934     0.934     0.934     20992\n",
            "   macro avg      0.926     0.886     0.904     20992\n",
            "weighted avg      0.933     0.934     0.932     20992\n",
            "\n",
            "              precision    recall  f1-score   support\n",
            "\n",
            "           0      0.878     0.810     0.843      4964\n",
            "           1      0.942     0.965     0.954     16028\n",
            "\n",
            "   micro avg      0.929     0.929     0.929     20992\n",
            "   macro avg      0.910     0.888     0.898     20992\n",
            "weighted avg      0.927     0.929     0.928     20992\n",
            "\n"
          ],
          "name": "stdout"
        }
      ]
    },
    {
      "cell_type": "markdown",
      "metadata": {
        "id": "AEAkYQ7W4c-J",
        "colab_type": "text"
      },
      "source": [
        "####4.2.2 Hyperparameter tuning"
      ]
    },
    {
      "cell_type": "markdown",
      "metadata": {
        "id": "WHWRreJzZdnX",
        "colab_type": "text"
      },
      "source": [
        "##### Naive Bayes"
      ]
    },
    {
      "cell_type": "code",
      "metadata": {
        "id": "GbqNiKNRSi91",
        "colab_type": "code",
        "colab": {}
      },
      "source": [
        "nb_training_accuracy = []\n",
        "nb_val_accuracy = []\n",
        "\n",
        "alpha = np.arange(0.01, 500.01, 10)\n",
        "\n",
        "for alpha_ in alpha:\n",
        "  nb = MultinomialNB(alpha=alpha_).fit(vector_train, y_train)\n",
        "\n",
        "  # Record\n",
        "  nb_training_accuracy.append(nb.score(vector_train, y_train))\n",
        "  nb_val_accuracy.append(nb.score(vector_val, y_val))"
      ],
      "execution_count": 107,
      "outputs": []
    },
    {
      "cell_type": "code",
      "metadata": {
        "id": "yZEsMEV-e-3x",
        "colab_type": "code",
        "colab": {
          "base_uri": "https://localhost:8080/",
          "height": 526
        },
        "outputId": "4b031458-80f2-4ccb-bb4c-a2a080e62229"
      },
      "source": [
        "fig, ax = plt.subplots(1, figsize=(16,8))\n",
        "\n",
        "ax.plot(alpha, nb_training_accuracy, label=\"training accuracy\")\n",
        "ax.plot(alpha, nb_val_accuracy, label=\"val accuracy\")\n",
        "ax.set_title(\"MultinomialNB\")\n",
        "ax.set_ylabel(\"Accuracy\")\n",
        "ax.set_xlabel(\"alpha parameter\")\n",
        "ax.legend()\n"
      ],
      "execution_count": 110,
      "outputs": [
        {
          "output_type": "execute_result",
          "data": {
            "text/plain": [
              "<matplotlib.legend.Legend at 0x7f571e5200b8>"
            ]
          },
          "metadata": {
            "tags": []
          },
          "execution_count": 110
        },
        {
          "output_type": "display_data",
          "data": {
            "image/png": "[encoded data removed]",
            "text/plain": [
              "<Figure size 1152x576 with 1 Axes>"
            ]
          },
          "metadata": {
            "tags": [],
            "needs_background": "light"
          }
        }
      ]
    },
    {
      "cell_type": "code",
      "metadata": {
        "id": "SfoulKKYZLkE",
        "colab_type": "code",
        "colab": {
          "base_uri": "https://localhost:8080/",
          "height": 88
        },
        "outputId": "0f3834e1-59d1-4165-b75d-7536163bb13b"
      },
      "source": [
        "alpha = np.arange(0, 100, 20)\n",
        "# define grid search\n",
        "grid = dict(alpha=alpha)\n",
        "cv = RepeatedStratifiedKFold(n_splits=10, n_repeats=3, random_state=1)\n",
        "grid_search = GridSearchCV(estimator=MultinomialNB(), param_grid=grid, n_jobs=-1, cv=cv, scoring='accuracy',error_score=0)\n",
        "grid_result = grid_search.fit(vector_train, y_train)\n",
        "# summarize results\n",
        "print(\"Best: %f using %s\" % (grid_result.best_score_, grid_result.best_params_))"
      ],
      "execution_count": 45,
      "outputs": [
        {
          "output_type": "stream",
          "text": [
            "Best: 0.888678 using {'alpha': 0}\n"
          ],
          "name": "stdout"
        },
        {
          "output_type": "stream",
          "text": [
            "/usr/local/lib/python3.6/dist-packages/sklearn/naive_bayes.py:480: UserWarning: alpha too small will result in numeric errors, setting alpha = 1.0e-10\n",
            "  'setting alpha = %.1e' % _ALPHA_MIN)\n"
          ],
          "name": "stderr"
        }
      ]
    },
    {
      "cell_type": "code",
      "metadata": {
        "id": "q-tKONLfMPy6",
        "colab_type": "code",
        "colab": {
          "base_uri": "https://localhost:8080/",
          "height": 224
        },
        "outputId": "7dfd5535-14bb-497b-e74b-0d3013f97452"
      },
      "source": [
        "model[0] = MultinomialNB(alpha=0).fit(vector_train, y_train)\n",
        "report = metrics.classification_report(y_val, model[0].predict(vector_val), labels=[0, 1], digits=3)\n",
        "print(report)"
      ],
      "execution_count": 40,
      "outputs": [
        {
          "output_type": "stream",
          "text": [
            "              precision    recall  f1-score   support\n",
            "\n",
            "           0      0.967     0.556     0.706      4964\n",
            "           1      0.878     0.994     0.933     16028\n",
            "\n",
            "   micro avg      0.890     0.890     0.890     20992\n",
            "   macro avg      0.923     0.775     0.819     20992\n",
            "weighted avg      0.899     0.890     0.879     20992\n",
            "\n"
          ],
          "name": "stdout"
        },
        {
          "output_type": "stream",
          "text": [
            "/usr/local/lib/python3.6/dist-packages/sklearn/naive_bayes.py:480: UserWarning: alpha too small will result in numeric errors, setting alpha = 1.0e-10\n",
            "  'setting alpha = %.1e' % _ALPHA_MIN)\n"
          ],
          "name": "stderr"
        }
      ]
    },
    {
      "cell_type": "markdown",
      "metadata": {
        "id": "5U3jTtvYU0uU",
        "colab_type": "text"
      },
      "source": [
        "##### Logistic Regression"
      ]
    },
    {
      "cell_type": "code",
      "metadata": {
        "id": "R76APQn2TWKK",
        "colab_type": "code",
        "colab": {
          "base_uri": "https://localhost:8080/",
          "height": 71
        },
        "outputId": "5b90ce9c-d125-4d88-eae4-aeee79d782fd"
      },
      "source": [
        "lr_training_accuracy = []\n",
        "lr_val_accuracy = []\n",
        "\n",
        "C = np.arange(0.01, 500.001, 10)\n",
        "\n",
        "for C_ in C:\n",
        "  lr = LogisticRegression(C=C_).fit(vector_train, y_train)\n",
        "\n",
        "  # Record\n",
        "  lr_training_accuracy.append(lr.score(vector_train, y_train))\n",
        "  lr_val_accuracy.append(lr.score(vector_val, y_val))"
      ],
      "execution_count": 29,
      "outputs": [
        {
          "output_type": "stream",
          "text": [
            "/usr/local/lib/python3.6/dist-packages/sklearn/linear_model/logistic.py:433: FutureWarning: Default solver will be changed to 'lbfgs' in 0.22. Specify a solver to silence this warning.\n",
            "  FutureWarning)\n"
          ],
          "name": "stderr"
        }
      ]
    },
    {
      "cell_type": "code",
      "metadata": {
        "id": "l5YomO8oW00A",
        "colab_type": "code",
        "colab": {
          "base_uri": "https://localhost:8080/",
          "height": 523
        },
        "outputId": "c3c63845-0707-44ff-900f-c9eae39e542a"
      },
      "source": [
        "fig, ax = plt.subplots(1, figsize=(16,8))\n",
        "\n",
        "ax.plot(C, lr_training_accuracy, label=\"training accuracy\")\n",
        "ax.plot(C, lr_val_accuracy, label=\"test accuracy\")\n",
        "ax.set_title(\"Logistic Regression\")\n",
        "ax.set_ylabel(\"Accuracy\")\n",
        "ax.set_xlabel(\"C parameter\")\n",
        "ax.legend()\n"
      ],
      "execution_count": 91,
      "outputs": [
        {
          "output_type": "execute_result",
          "data": {
            "text/plain": [
              "<matplotlib.legend.Legend at 0x7f571f110fd0>"
            ]
          },
          "metadata": {
            "tags": []
          },
          "execution_count": 91
        },
        {
          "output_type": "display_data",
          "data": {
            "image/png": "[encoded data removed]",
            "text/plain": [
              "<Figure size 1152x576 with 1 Axes>"
            ]
          },
          "metadata": {
            "tags": [],
            "needs_background": "light"
          }
        }
      ]
    },
    {
      "cell_type": "code",
      "metadata": {
        "id": "counw7sZ4cWr",
        "colab_type": "code",
        "colab": {
          "base_uri": "https://localhost:8080/",
          "height": 34
        },
        "outputId": "b2c0c38d-0f6b-4831-dee0-d4646c3eb797"
      },
      "source": [
        "solvers = ['newton-cg', 'lbfgs', 'liblinear']\n",
        "c_values = np.arange(10, 50, 10)\n",
        "# define grid search\n",
        "grid = dict(solver=solvers,C=c_values)\n",
        "cv = RepeatedStratifiedKFold(n_splits=10, n_repeats=3, random_state=1)\n",
        "grid_search = GridSearchCV(estimator=model, param_grid=grid, n_jobs=-1, cv=cv, scoring='accuracy',error_score=0)\n",
        "grid_result = grid_search.fit(vector_train, y_train)\n",
        "print(\"Best: %f using %s\" % (grid_result.best_score_, grid_result.best_params_))\n"
      ],
      "execution_count": 34,
      "outputs": [
        {
          "output_type": "stream",
          "text": [
            "Best: 0.933678 using {'C': 10, 'solver': 'newton-cg'}\n"
          ],
          "name": "stdout"
        }
      ]
    },
    {
      "cell_type": "code",
      "metadata": {
        "id": "t76RR_zwNOrh",
        "colab_type": "code",
        "colab": {
          "base_uri": "https://localhost:8080/",
          "height": 170
        },
        "outputId": "9c869877-4cb3-4533-e8e1-9ca29d84878b"
      },
      "source": [
        "model[1] = LogisticRegression(C=10, solver='newton-cg').fit(vector_train, y_train)\n",
        "report = metrics.classification_report(y_val, model[1].predict(vector_val), labels=[0, 1], digits=3)\n",
        "print(report)"
      ],
      "execution_count": 41,
      "outputs": [
        {
          "output_type": "stream",
          "text": [
            "              precision    recall  f1-score   support\n",
            "\n",
            "           0      0.881     0.812     0.845      4964\n",
            "           1      0.943     0.966     0.954     16028\n",
            "\n",
            "   micro avg      0.930     0.930     0.930     20992\n",
            "   macro avg      0.912     0.889     0.900     20992\n",
            "weighted avg      0.928     0.930     0.929     20992\n",
            "\n"
          ],
          "name": "stdout"
        }
      ]
    },
    {
      "cell_type": "markdown",
      "metadata": {
        "id": "sJwuI8uIXHpJ",
        "colab_type": "text"
      },
      "source": [
        "##### LinearSVC"
      ]
    },
    {
      "cell_type": "code",
      "metadata": {
        "id": "3REtVY1971Vq",
        "colab_type": "code",
        "colab": {
          "base_uri": "https://localhost:8080/",
          "height": 71
        },
        "outputId": "b6a55f2e-cd96-4cab-f0cf-5455ce329e56"
      },
      "source": [
        "liSVC_training_accuracy = []\n",
        "liSVC_val_accuracy = []\n",
        "\n",
        "C = np.arange(0.01, 500.001, 10)\n",
        "\n",
        "for C_ in C:\n",
        "  liSVC = LinearSVC(C=C_).fit(vector_train, y_train)\n",
        "\n",
        "  # Record\n",
        "  liSVC_training_accuracy.append(liSVC.score(vector_train, y_train))\n",
        "  liSVC_val_accuracy.append(liSVC.score(vector_val, y_val))"
      ],
      "execution_count": 36,
      "outputs": [
        {
          "output_type": "stream",
          "text": [
            "/usr/local/lib/python3.6/dist-packages/sklearn/svm/base.py:931: ConvergenceWarning: Liblinear failed to converge, increase the number of iterations.\n",
            "  \"the number of iterations.\", ConvergenceWarning)\n"
          ],
          "name": "stderr"
        }
      ]
    },
    {
      "cell_type": "code",
      "metadata": {
        "id": "GjMMlXY5DF_7",
        "colab_type": "code",
        "colab": {
          "base_uri": "https://localhost:8080/",
          "height": 526
        },
        "outputId": "8e97fb78-6338-499f-c545-985e8a7c81ea"
      },
      "source": [
        "fig, ax = plt.subplots(1, figsize=(16,8))\n",
        "\n",
        "ax.plot(C, liSVC_training_accuracy, label=\"training accuracy\")\n",
        "ax.plot(C, liSVC_val_accuracy, label=\"test accuracy\")\n",
        "ax.set_title(\"LinearSVC\")\n",
        "ax.set_ylabel(\"Accuracy\")\n",
        "ax.set_xlabel(\"C parameter\")\n",
        "ax.legend()\n"
      ],
      "execution_count": 38,
      "outputs": [
        {
          "output_type": "execute_result",
          "data": {
            "text/plain": [
              "<matplotlib.legend.Legend at 0x7f9bc2b59fd0>"
            ]
          },
          "metadata": {
            "tags": []
          },
          "execution_count": 38
        },
        {
          "output_type": "display_data",
          "data": {
            "image/png": "[encoded data removed]",
            "text/plain": [
              "<Figure size 1152x576 with 1 Axes>"
            ]
          },
          "metadata": {
            "tags": [],
            "needs_background": "light"
          }
        }
      ]
    },
    {
      "cell_type": "code",
      "metadata": {
        "id": "uA_fZkpWtL13",
        "colab_type": "code",
        "colab": {}
      },
      "source": [
        "model = LinearSVC()\n",
        "losses = ['hinge', 'squared_hinge']\n",
        "multi_classes = ['ovr', 'crammer_singer']\n",
        "c_values = np.arange(0, 30, 10)\n",
        "# define grid search\n",
        "grid = dict(penalty=penalty, loss = losses,C=c_values, multi_class=multi_classes)\n",
        "cv = RepeatedStratifiedKFold(n_splits=10, n_repeats=3, random_state=1)\n",
        "grid_search = GridSearchCV(estimator=model, param_grid=grid, n_jobs=-1, cv=cv, scoring='accuracy',error_score=0)\n",
        "grid_result = grid_search.fit(vector_train, y_train)\n",
        "print(\"Best: %f using %s\" % (grid_result.best_score_, grid_result.best_params_))\n"
      ],
      "execution_count": null,
      "outputs": []
    },
    {
      "cell_type": "markdown",
      "metadata": {
        "id": "YQ28-VBibRdb",
        "colab_type": "text"
      },
      "source": [
        "####4.2.3 Load tập test và tiền xử lý\n"
      ]
    },
    {
      "cell_type": "code",
      "metadata": {
        "id": "nOQ1Hb8LbWC4",
        "colab_type": "code",
        "colab": {
          "base_uri": "https://localhost:8080/",
          "height": 255
        },
        "outputId": "a44231e3-cf09-4187-fd5c-1331eb39e57f"
      },
      "source": [
        "test_df = pd.read_csv(\"/content/drive/My Drive/Colab Notebooks/sentiment_analysis/quangnam.csv\")\n",
        "test_df.drop([\"web-scraper-order\", \"web-scraper-start-url\", \"links\", \"links-href\"], axis = 1, inplace=True)\n",
        "print(test_df)"
      ],
      "execution_count": 30,
      "outputs": [
        {
          "output_type": "stream",
          "text": [
            "                                               comments  ratings\n",
            "0     Quán Cao Lầu này nằm gần khách sạn mà mình ở t...      9.6\n",
            "1     Trưa đấy lang thang khắp Hội An tìm cái ăn thì...      8.2\n",
            "2     Ghé quán khi đang lang thang dạo quanh phố cổ,...      7.8\n",
            "3     Chạy xe 25p từ nhà quán ốc.  đường xá xa xôi +...      5.0\n",
            "4     Quán này vào buổi tối tầm 7h trở đi là rất đôn...      7.4\n",
            "...                                                 ...      ...\n",
            "4112  Nhân viên chắc bận quá nên mình thấy hơi lạnh ...      6.8\n",
            "4113  Chưa bao giờ hết yêu việc đi Hội An lùng những...      7.8\n",
            "4114  Cơm ngon. Nước sốt tuyệt vời luôn. Thịt thì mh...      8.8\n",
            "4115  Mình ghé đến đây vào buổi chiều khá nắng! Mng ...      8.4\n",
            "4116  Ăn mì quán này lâu rồi nhung hôm nay mới thấy ...     10.0\n",
            "\n",
            "[4117 rows x 2 columns]\n"
          ],
          "name": "stdout"
        }
      ]
    },
    {
      "cell_type": "code",
      "metadata": {
        "id": "6NWdT4M9sKWr",
        "colab_type": "code",
        "colab": {
          "base_uri": "https://localhost:8080/",
          "height": 255
        },
        "outputId": "4a8780bc-25cf-468d-eb24-46392cb68ba6"
      },
      "source": [
        "test_df = test_df[((test_df[\"ratings\"] <= 5.0) | (test_df[\"ratings\"] >= 8.0))] # remove the neutral comments (5 < x < 8)\n",
        "test_df.loc[test_df[\"ratings\"] <= 5.0, \"ratings\"] = 0\n",
        "test_df.loc[test_df[\"ratings\"] >= 8.0, \"ratings\"] = 1\n",
        "test_df[\"ratings\"] = test_df[\"ratings\"].astype(int)\n",
        "\n",
        "test_df.reset_index(inplace=True)\n",
        "test_df = test_df.drop(\"index\", axis= 1)\n",
        "print(test_df)"
      ],
      "execution_count": 31,
      "outputs": [
        {
          "output_type": "stream",
          "text": [
            "                                               comments  ratings\n",
            "0     Quán Cao Lầu này nằm gần khách sạn mà mình ở t...        1\n",
            "1     Trưa đấy lang thang khắp Hội An tìm cái ăn thì...        1\n",
            "2     Chạy xe 25p từ nhà quán ốc.  đường xá xa xôi +...        0\n",
            "3     Hôm nay vô Hội An chơi, ghé quán Bim Bim 17...        1\n",
            "4     Lướt trên foody và tìm thấy quán này mua bánh ...        1\n",
            "...                                                 ...      ...\n",
            "2394  Quá thích hợp cho những chiều cuối tuần cần th...        1\n",
            "2395  Không gian măt mẻ, trưa nắng nóng vào quán như...        1\n",
            "2396  Cơm ngon. Nước sốt tuyệt vời luôn. Thịt thì mh...        1\n",
            "2397  Mình ghé đến đây vào buổi chiều khá nắng! Mng ...        1\n",
            "2398  Ăn mì quán này lâu rồi nhung hôm nay mới thấy ...        1\n",
            "\n",
            "[2399 rows x 2 columns]\n"
          ],
          "name": "stdout"
        }
      ]
    },
    {
      "cell_type": "markdown",
      "metadata": {
        "id": "VoDAaBvrsqWR",
        "colab_type": "text"
      },
      "source": [
        "####4.2.4 Đánh giá các thuật toán dựa trên tập test"
      ]
    },
    {
      "cell_type": "code",
      "metadata": {
        "id": "b4dn2hkvsp1I",
        "colab_type": "code",
        "colab": {}
      },
      "source": [
        "X_test, y_test = transform_to_dataset(test_df.comments, test_df.ratings)"
      ],
      "execution_count": 32,
      "outputs": []
    },
    {
      "cell_type": "code",
      "metadata": {
        "id": "IcIpYUv2tSFM",
        "colab_type": "code",
        "colab": {}
      },
      "source": [
        "vector_test = tfidf.transform(X_test)"
      ],
      "execution_count": 33,
      "outputs": []
    },
    {
      "cell_type": "code",
      "metadata": {
        "id": "rDiCA7rr6vic",
        "colab_type": "code",
        "colab": {
          "base_uri": "https://localhost:8080/",
          "height": 476
        },
        "outputId": "6b6f7578-bddc-441f-8237-1f522a248907"
      },
      "source": [
        "for i in range (0, len(model)):\n",
        "  y_pred = model[i].predict(vector_test)\n",
        "  report = metrics.classification_report(y_test, y_pred, labels=[0, 1], digits=3)\n",
        "  print(report)\n"
      ],
      "execution_count": 42,
      "outputs": [
        {
          "output_type": "stream",
          "text": [
            "              precision    recall  f1-score   support\n",
            "\n",
            "           0      0.983     0.524     0.684      1000\n",
            "           1      0.888     0.998     0.940      3798\n",
            "\n",
            "   micro avg      0.899     0.899     0.899      4798\n",
            "   macro avg      0.936     0.761     0.812      4798\n",
            "weighted avg      0.908     0.899     0.886      4798\n",
            "\n",
            "              precision    recall  f1-score   support\n",
            "\n",
            "           0      0.878     0.811     0.843      1000\n",
            "           1      0.951     0.970     0.961      3798\n",
            "\n",
            "   micro avg      0.937     0.937     0.937      4798\n",
            "   macro avg      0.914     0.891     0.902      4798\n",
            "weighted avg      0.936     0.937     0.936      4798\n",
            "\n",
            "              precision    recall  f1-score   support\n",
            "\n",
            "           0      0.876     0.806     0.840      1000\n",
            "           1      0.950     0.970     0.960      3798\n",
            "\n",
            "   micro avg      0.936     0.936     0.936      4798\n",
            "   macro avg      0.913     0.888     0.900      4798\n",
            "weighted avg      0.935     0.936     0.935      4798\n",
            "\n"
          ],
          "name": "stdout"
        }
      ]
    },
    {
      "cell_type": "markdown",
      "metadata": {
        "id": "3thQ_o1LdDWU",
        "colab_type": "text"
      },
      "source": [
        "####4.2.5 Lưu model tốt nhất"
      ]
    },
    {
      "cell_type": "code",
      "metadata": {
        "id": "6jPz0w5HdCK0",
        "colab_type": "code",
        "colab": {}
      },
      "source": [
        "filename = '/content/drive/My Drive/Colab Notebooks/sentiment_analysis/best_model.sav'\n",
        "pickle.dump(model[1], open(filename, 'wb'))"
      ],
      "execution_count": 43,
      "outputs": []
    },
    {
      "cell_type": "markdown",
      "metadata": {
        "id": "kYODQ8hye4ox",
        "colab_type": "text"
      },
      "source": [
        "###4.3 **Word Embeddings**"
      ]
    },
    {
      "cell_type": "markdown",
      "metadata": {
        "id": "RmTX_Q4fStKh",
        "colab_type": "text"
      },
      "source": [
        "####4.3.1 Khảo sát tập dữ liệu huấn luyện"
      ]
    },
    {
      "cell_type": "markdown",
      "metadata": {
        "id": "98-7TAtPnGLb",
        "colab_type": "text"
      },
      "source": [
        "Do khối lượng dữ liệu lớn (34985 mẫu), nếu chúng ta chọn số lượng từ tối đa cho một câu (MAX_SEQ_LENGTH) quá cao thì sẽ bị lãng phí khi biểu diễn ở những câu review quá ngắn. Ngược lại, nếu sử dụng số lượng từ tối đa quá ít thì sẽ bị bỏ lỡ những từ quan trọng giúp cho việc phân tích cảm xúc. Sau đây chúng ta sẽ tiến hành khảo sát độ dài của các mẫu dữ liệu huấn luyện."
      ]
    },
    {
      "cell_type": "code",
      "metadata": {
        "id": "aSUMXy48mTMR",
        "colab_type": "code",
        "colab": {
          "base_uri": "https://localhost:8080/",
          "height": 68
        },
        "outputId": "5ee50f4c-9ba0-4f89-be63-02a7c72c5759"
      },
      "source": [
        "#find maximum number of words in a sentence\n",
        "num_words = [len(x.split()) for x in list(X_train)]\n",
        "print('The total number of samples is', len(X_train))\n",
        "print('The total number of words in the files is', sum(num_words))\n",
        "print('The average number of words in the files is', sum(num_words)/len(num_words))"
      ],
      "execution_count": 44,
      "outputs": [
        {
          "output_type": "stream",
          "text": [
            "The total number of samples is 48978\n",
            "The total number of words in the files is 3783702\n",
            "The average number of words in the files is 77.25309322552982\n"
          ],
          "name": "stdout"
        }
      ]
    },
    {
      "cell_type": "code",
      "metadata": {
        "id": "FJRKUqBusfLX",
        "colab_type": "code",
        "colab": {
          "base_uri": "https://localhost:8080/",
          "height": 283
        },
        "outputId": "89c9e905-854f-4e48-c9be-bc4de9f98d1c"
      },
      "source": [
        "%matplotlib inline\n",
        "plt.hist(num_words, 100)\n",
        "plt.xlabel('Sequence Length')\n",
        "plt.ylabel('Frequency')\n",
        "plt.axis([0, 600, 0, 6000])\n",
        "plt.show()"
      ],
      "execution_count": 45,
      "outputs": [
        {
          "output_type": "display_data",
          "data": {
            "image/png": "[encoded data removed]",
            "text/plain": [
              "<Figure size 432x288 with 1 Axes>"
            ]
          },
          "metadata": {
            "tags": [],
            "needs_background": "light"
          }
        }
      ]
    },
    {
      "cell_type": "markdown",
      "metadata": {
        "id": "B3ix37ziIbgf",
        "colab_type": "text"
      },
      "source": [
        "####4.3.2 Khởi tạo các tham số"
      ]
    },
    {
      "cell_type": "code",
      "metadata": {
        "id": "of8yCYoue9Rw",
        "colab_type": "code",
        "colab": {}
      },
      "source": [
        "vocab_size = 10000\n",
        "embedding_dim = 100\n",
        "max_length = 250"
      ],
      "execution_count": 46,
      "outputs": []
    },
    {
      "cell_type": "code",
      "metadata": {
        "id": "_K16UGbGy5CE",
        "colab_type": "code",
        "colab": {}
      },
      "source": [
        "tokenizer = Tokenizer(num_words=vocab_size, oov_token=\"<OOV>\")\n",
        "tokenizer.fit_on_texts(X_train)\n",
        "word_index = tokenizer.word_index\n",
        "\n",
        "train_sequences = tokenizer.texts_to_sequences(X_train)\n",
        "train_padded = pad_sequences(train_sequences, maxlen=max_length, truncating='post', padding='post')"
      ],
      "execution_count": 47,
      "outputs": []
    },
    {
      "cell_type": "code",
      "metadata": {
        "id": "3zkfiUvZ2IaB",
        "colab_type": "code",
        "colab": {
          "base_uri": "https://localhost:8080/",
          "height": 153
        },
        "outputId": "ff9d3bef-118f-4a86-bd91-2fc2b035a994"
      },
      "source": [
        "print(train_padded)\n",
        "print(train_padded.shape)"
      ],
      "execution_count": 48,
      "outputs": [
        {
          "output_type": "stream",
          "text": [
            "[[114 312 522 ...   0   0   0]\n",
            " [ 95 306 522 ...   0   0   0]\n",
            " [  4  41 360 ...   0   0   0]\n",
            " ...\n",
            " [258  36  42 ...   0   0   0]\n",
            " [504 494 308 ...   0   0   0]\n",
            " [421 464 282 ...   0   0   0]]\n",
            "(48978, 250)\n"
          ],
          "name": "stdout"
        }
      ]
    },
    {
      "cell_type": "code",
      "metadata": {
        "id": "2cTmz5OI2ZwV",
        "colab_type": "code",
        "colab": {
          "base_uri": "https://localhost:8080/",
          "height": 153
        },
        "outputId": "a2c70b89-1acb-4d39-b62e-f8ffa75ea55c"
      },
      "source": [
        "val_sequences = tokenizer.texts_to_sequences(X_val)\n",
        "val_padded = pad_sequences(val_sequences, maxlen=max_length, truncating='post', padding='post')\n",
        "print(val_padded)\n",
        "print(val_padded.shape)"
      ],
      "execution_count": 49,
      "outputs": [
        {
          "output_type": "stream",
          "text": [
            "[[ 15  44 920 ...   0   0   0]\n",
            " [ 13  42 879 ...   0   0   0]\n",
            " [248 607 106 ...   0   0   0]\n",
            " ...\n",
            " [350 119   3 ...   0   0   0]\n",
            " [ 96 220   6 ...   0   0   0]\n",
            " [ 47  86   5 ...   0   0   0]]\n",
            "(20992, 250)\n"
          ],
          "name": "stdout"
        }
      ]
    },
    {
      "cell_type": "markdown",
      "metadata": {
        "id": "AjuyV7NbaCaP",
        "colab_type": "text"
      },
      "source": [
        "####4.3.3 Xây dựng mô hình"
      ]
    },
    {
      "cell_type": "code",
      "metadata": {
        "id": "yHjrHP-_3KvX",
        "colab_type": "code",
        "colab": {
          "base_uri": "https://localhost:8080/",
          "height": 289
        },
        "outputId": "b682fce5-7f8b-439b-ffec-03a521dcd545"
      },
      "source": [
        "model = tf.keras.Sequential()\n",
        "model.add(tf.keras.layers.Embedding(vocab_size, embedding_dim, input_length = max_length))\n",
        "model.add(tf.keras.layers.Flatten())\n",
        "model.add(tf.keras.layers.Dense(10, activation=\"relu\"))\n",
        "model.add(tf.keras.layers.Dense(1, activation=\"sigmoid\"))\n",
        "model.compile(loss = 'binary_crossentropy', optimizer='adam', metrics=['accuracy'])\n",
        "model.summary()"
      ],
      "execution_count": 50,
      "outputs": [
        {
          "output_type": "stream",
          "text": [
            "Model: \"sequential\"\n",
            "_________________________________________________________________\n",
            "Layer (type)                 Output Shape              Param #   \n",
            "=================================================================\n",
            "embedding (Embedding)        (None, 250, 100)          1000000   \n",
            "_________________________________________________________________\n",
            "flatten (Flatten)            (None, 25000)             0         \n",
            "_________________________________________________________________\n",
            "dense (Dense)                (None, 10)                250010    \n",
            "_________________________________________________________________\n",
            "dense_1 (Dense)              (None, 1)                 11        \n",
            "=================================================================\n",
            "Total params: 1,250,021\n",
            "Trainable params: 1,250,021\n",
            "Non-trainable params: 0\n",
            "_________________________________________________________________\n"
          ],
          "name": "stdout"
        }
      ]
    },
    {
      "cell_type": "markdown",
      "metadata": {
        "id": "0mCSGZXzbkSl",
        "colab_type": "text"
      },
      "source": [
        "####4.3.4 Huấn luyện mô hình"
      ]
    },
    {
      "cell_type": "code",
      "metadata": {
        "id": "j2Mn9vNTE_KW",
        "colab_type": "code",
        "colab": {
          "base_uri": "https://localhost:8080/",
          "height": 1000
        },
        "outputId": "2835b4d8-4697-40b3-d905-27d34537b891"
      },
      "source": [
        "num_epochs = 40\n",
        "history = model.fit(train_padded, y_train, epochs=num_epochs, validation_data=(val_padded, y_val))\n",
        "# plot loss during training\n",
        "plt.subplot(211)\n",
        "plt.title('Loss')\n",
        "plt.plot(history.history['loss'], label='train')\n",
        "plt.plot(history.history['val_loss'], label='test')\n",
        "plt.legend()\n",
        "# plot accuracy during training\n",
        "plt.subplot(212)\n",
        "plt.title('Accuracy')\n",
        "plt.plot(history.history['accuracy'], label='train')\n",
        "plt.plot(history.history['val_accuracy'], label='test')\n",
        "plt.legend()\n",
        "plt.show()"
      ],
      "execution_count": 51,
      "outputs": [
        {
          "output_type": "stream",
          "text": [
            "Epoch 1/40\n",
            "1531/1531 [==============================] - 19s 13ms/step - loss: 0.2432 - accuracy: 0.9084 - val_loss: 0.2245 - val_accuracy: 0.9228\n",
            "Epoch 2/40\n",
            "1531/1531 [==============================] - 19s 12ms/step - loss: 0.0899 - accuracy: 0.9697 - val_loss: 0.3068 - val_accuracy: 0.9155\n",
            "Epoch 3/40\n",
            "1531/1531 [==============================] - 19s 12ms/step - loss: 0.0273 - accuracy: 0.9915 - val_loss: 0.4332 - val_accuracy: 0.9088\n",
            "Epoch 4/40\n",
            "1531/1531 [==============================] - 19s 12ms/step - loss: 0.0132 - accuracy: 0.9960 - val_loss: 0.5128 - val_accuracy: 0.9098\n",
            "Epoch 5/40\n",
            "1531/1531 [==============================] - 19s 12ms/step - loss: 0.0127 - accuracy: 0.9958 - val_loss: 0.6133 - val_accuracy: 0.9008\n",
            "Epoch 6/40\n",
            "1531/1531 [==============================] - 19s 12ms/step - loss: 0.0105 - accuracy: 0.9964 - val_loss: 0.6971 - val_accuracy: 0.9018\n",
            "Epoch 7/40\n",
            "1531/1531 [==============================] - 18s 12ms/step - loss: 0.0087 - accuracy: 0.9973 - val_loss: 0.7370 - val_accuracy: 0.8995\n",
            "Epoch 8/40\n",
            "1531/1531 [==============================] - 19s 13ms/step - loss: 0.0057 - accuracy: 0.9982 - val_loss: 0.8390 - val_accuracy: 0.8970\n",
            "Epoch 9/40\n",
            "1531/1531 [==============================] - 19s 13ms/step - loss: 0.0068 - accuracy: 0.9975 - val_loss: 0.9030 - val_accuracy: 0.9032\n",
            "Epoch 10/40\n",
            "1531/1531 [==============================] - 20s 13ms/step - loss: 0.0063 - accuracy: 0.9976 - val_loss: 0.8843 - val_accuracy: 0.9035\n",
            "Epoch 11/40\n",
            "1531/1531 [==============================] - 19s 12ms/step - loss: 0.0033 - accuracy: 0.9987 - val_loss: 1.0089 - val_accuracy: 0.9004\n",
            "Epoch 12/40\n",
            "1531/1531 [==============================] - 18s 12ms/step - loss: 0.0054 - accuracy: 0.9981 - val_loss: 0.9727 - val_accuracy: 0.8974\n",
            "Epoch 13/40\n",
            "1531/1531 [==============================] - 19s 12ms/step - loss: 0.0062 - accuracy: 0.9978 - val_loss: 1.0926 - val_accuracy: 0.9001\n",
            "Epoch 14/40\n",
            "1531/1531 [==============================] - 19s 12ms/step - loss: 0.0046 - accuracy: 0.9984 - val_loss: 1.0775 - val_accuracy: 0.8942\n",
            "Epoch 15/40\n",
            "1531/1531 [==============================] - 19s 13ms/step - loss: 0.0054 - accuracy: 0.9983 - val_loss: 1.0124 - val_accuracy: 0.8964\n",
            "Epoch 16/40\n",
            "1531/1531 [==============================] - 20s 13ms/step - loss: 0.0047 - accuracy: 0.9982 - val_loss: 1.0806 - val_accuracy: 0.8962\n",
            "Epoch 17/40\n",
            "1531/1531 [==============================] - 20s 13ms/step - loss: 0.0030 - accuracy: 0.9989 - val_loss: 1.0949 - val_accuracy: 0.8958\n",
            "Epoch 18/40\n",
            "1531/1531 [==============================] - 20s 13ms/step - loss: 0.0025 - accuracy: 0.9991 - val_loss: 1.1992 - val_accuracy: 0.8995\n",
            "Epoch 19/40\n",
            "1531/1531 [==============================] - 19s 12ms/step - loss: 0.0066 - accuracy: 0.9976 - val_loss: 1.1775 - val_accuracy: 0.9000\n",
            "Epoch 20/40\n",
            "1531/1531 [==============================] - 19s 12ms/step - loss: 0.0049 - accuracy: 0.9984 - val_loss: 1.2246 - val_accuracy: 0.9009\n",
            "Epoch 21/40\n",
            "1531/1531 [==============================] - 19s 12ms/step - loss: 0.0031 - accuracy: 0.9989 - val_loss: 1.1906 - val_accuracy: 0.8952\n",
            "Epoch 22/40\n",
            "1531/1531 [==============================] - 19s 12ms/step - loss: 0.0017 - accuracy: 0.9992 - val_loss: 1.2077 - val_accuracy: 0.8957\n",
            "Epoch 23/40\n",
            "1531/1531 [==============================] - 20s 13ms/step - loss: 0.0028 - accuracy: 0.9989 - val_loss: 1.2820 - val_accuracy: 0.9021\n",
            "Epoch 24/40\n",
            "1531/1531 [==============================] - 21s 14ms/step - loss: 0.0030 - accuracy: 0.9989 - val_loss: 1.3720 - val_accuracy: 0.8981\n",
            "Epoch 25/40\n",
            "1531/1531 [==============================] - 21s 14ms/step - loss: 0.0036 - accuracy: 0.9987 - val_loss: 1.2187 - val_accuracy: 0.8957\n",
            "Epoch 26/40\n",
            "1531/1531 [==============================] - 19s 13ms/step - loss: 0.0027 - accuracy: 0.9988 - val_loss: 1.3359 - val_accuracy: 0.8911\n",
            "Epoch 27/40\n",
            "1531/1531 [==============================] - 20s 13ms/step - loss: 0.0038 - accuracy: 0.9988 - val_loss: 1.3339 - val_accuracy: 0.9001\n",
            "Epoch 28/40\n",
            "1531/1531 [==============================] - 19s 13ms/step - loss: 0.0028 - accuracy: 0.9991 - val_loss: 1.3180 - val_accuracy: 0.8964\n",
            "Epoch 29/40\n",
            "1531/1531 [==============================] - 19s 13ms/step - loss: 0.0019 - accuracy: 0.9992 - val_loss: 1.4793 - val_accuracy: 0.8623\n",
            "Epoch 30/40\n",
            "1531/1531 [==============================] - 21s 14ms/step - loss: 0.0034 - accuracy: 0.9989 - val_loss: 1.3293 - val_accuracy: 0.8911\n",
            "Epoch 31/40\n",
            "1531/1531 [==============================] - 21s 14ms/step - loss: 0.0024 - accuracy: 0.9992 - val_loss: 1.3546 - val_accuracy: 0.8974\n",
            "Epoch 32/40\n",
            "1531/1531 [==============================] - 22s 14ms/step - loss: 0.0032 - accuracy: 0.9989 - val_loss: 1.3634 - val_accuracy: 0.8956\n",
            "Epoch 33/40\n",
            "1531/1531 [==============================] - 22s 14ms/step - loss: 0.0024 - accuracy: 0.9989 - val_loss: 1.4281 - val_accuracy: 0.8946\n",
            "Epoch 34/40\n",
            "1531/1531 [==============================] - 21s 14ms/step - loss: 0.0026 - accuracy: 0.9991 - val_loss: 1.4950 - val_accuracy: 0.8979\n",
            "Epoch 35/40\n",
            "1531/1531 [==============================] - 19s 12ms/step - loss: 0.0030 - accuracy: 0.9990 - val_loss: 1.4319 - val_accuracy: 0.8918\n",
            "Epoch 36/40\n",
            "1531/1531 [==============================] - 18s 12ms/step - loss: 0.0016 - accuracy: 0.9993 - val_loss: 1.5276 - val_accuracy: 0.8944\n",
            "Epoch 37/40\n",
            "1531/1531 [==============================] - 19s 13ms/step - loss: 0.0025 - accuracy: 0.9991 - val_loss: 1.5556 - val_accuracy: 0.8932\n",
            "Epoch 38/40\n",
            "1531/1531 [==============================] - 20s 13ms/step - loss: 0.0027 - accuracy: 0.9991 - val_loss: 1.6569 - val_accuracy: 0.8944\n",
            "Epoch 39/40\n",
            "1531/1531 [==============================] - 19s 13ms/step - loss: 0.0028 - accuracy: 0.9990 - val_loss: 1.5367 - val_accuracy: 0.8936\n",
            "Epoch 40/40\n",
            "1531/1531 [==============================] - 19s 13ms/step - loss: 0.0026 - accuracy: 0.9990 - val_loss: 1.5734 - val_accuracy: 0.8974\n"
          ],
          "name": "stdout"
        },
        {
          "output_type": "display_data",
          "data": {
            "image/png": "[encoded data removed]",
            "text/plain": [
              "<Figure size 432x288 with 2 Axes>"
            ]
          },
          "metadata": {
            "tags": [],
            "needs_background": "light"
          }
        }
      ]
    },
    {
      "cell_type": "markdown",
      "metadata": {
        "id": "LlwYwP7LbzH9",
        "colab_type": "text"
      },
      "source": [
        "####4.3.5 Đánh giá mô hình trên tập test"
      ]
    },
    {
      "cell_type": "code",
      "metadata": {
        "id": "0_Fmm8rt3cBE",
        "colab_type": "code",
        "colab": {
          "base_uri": "https://localhost:8080/",
          "height": 153
        },
        "outputId": "8677eb86-d8e5-4239-88b2-de4fbd478e6c"
      },
      "source": [
        "test_sequences = tokenizer.texts_to_sequences(X_test)\n",
        "test_padded = pad_sequences(test_sequences, maxlen=max_length, truncating='post', padding='post')\n",
        "print(val_padded)\n",
        "print(val_padded.shape)"
      ],
      "execution_count": 52,
      "outputs": [
        {
          "output_type": "stream",
          "text": [
            "[[ 15  44 920 ...   0   0   0]\n",
            " [ 13  42 879 ...   0   0   0]\n",
            " [248 607 106 ...   0   0   0]\n",
            " ...\n",
            " [350 119   3 ...   0   0   0]\n",
            " [ 96 220   6 ...   0   0   0]\n",
            " [ 47  86   5 ...   0   0   0]]\n",
            "(20992, 250)\n"
          ],
          "name": "stdout"
        }
      ]
    },
    {
      "cell_type": "code",
      "metadata": {
        "id": "emdVZtU54beT",
        "colab_type": "code",
        "colab": {
          "base_uri": "https://localhost:8080/",
          "height": 170
        },
        "outputId": "a25e1b3a-c44e-4a58-861f-533f457965fc"
      },
      "source": [
        "test_pred = model.predict(test_padded)\n",
        "for i in range (0, len(test_pred)):\n",
        "  if float(test_pred[i]) >= 0.5:\n",
        "    test_pred[i] = 1\n",
        "  else :\n",
        "    test_pred[i] = 0\n",
        "report = metrics.classification_report(y_test, test_pred, labels=[1,0], digits=3)\n",
        "print(report)"
      ],
      "execution_count": 53,
      "outputs": [
        {
          "output_type": "stream",
          "text": [
            "              precision    recall  f1-score   support\n",
            "\n",
            "           1      0.936     0.956     0.946      3798\n",
            "           0      0.817     0.752     0.783      1000\n",
            "\n",
            "   micro avg      0.913     0.913     0.913      4798\n",
            "   macro avg      0.877     0.854     0.865      4798\n",
            "weighted avg      0.911     0.913     0.912      4798\n",
            "\n"
          ],
          "name": "stdout"
        }
      ]
    },
    {
      "cell_type": "code",
      "metadata": {
        "id": "6-GVtcZzky9G",
        "colab_type": "code",
        "colab": {}
      },
      "source": [
        "import io\n",
        "out_v = io.open('vecs.tsv', 'w', encoding='utf-8')\n",
        "out_m = io.open('meta.tsv', 'w', encoding='utf-8')\n",
        "\n",
        "for i in range(1, vocab_size):\n",
        "  word = tokenizer.index_word[i]\n",
        "  vector = weights[i]\n",
        "  out_m.write(word + \"\\n\")\n",
        "  out_v.write(\"\\t\".join([str(x) for x in vector ]) + \"\\n\")\n",
        "\n",
        "out_m.close()\n",
        "out_v.close()\n"
      ],
      "execution_count": null,
      "outputs": []
    },
    {
      "cell_type": "markdown",
      "metadata": {
        "id": "kn2_qFu77ONX",
        "colab_type": "text"
      },
      "source": [
        "## **Xử lý dữ liệu mất cân bằng**\n",
        "Có một hướng tiếp cận được gọi là ‘**Resampling**’ để hai classes có lượng dữ liệu tương đối như nhau. \n",
        "1. Cách thứ nhất là **UNDER-sampling**, tức chỉ chọn ra vài phần tử của class trội hơn và kết hợp với class còn lại để làm dữ liệu training. \n",
        "\n",
        "2. Cách thứ hai là **OVER-sampling**, tức có thể lặp lại dữ liệu, hoặc tìm cách kết hợp để tạo ra dữ liệu mới, của class ít hơn, và kết hợp với class còn lại để làm dữ liệu training."
      ]
    },
    {
      "cell_type": "markdown",
      "metadata": {
        "id": "Mj9Cgf8Fsy_y",
        "colab_type": "text"
      },
      "source": [
        "### **Undersampling**"
      ]
    },
    {
      "cell_type": "markdown",
      "metadata": {
        "id": "GPpTcN4Le4Qi",
        "colab_type": "text"
      },
      "source": [
        "Kiểm tra số lượng của tập nhỏ hơn"
      ]
    },
    {
      "cell_type": "code",
      "metadata": {
        "id": "sPiOjfP_7Q18",
        "colab_type": "code",
        "colab": {
          "base_uri": "https://localhost:8080/",
          "height": 34
        },
        "outputId": "fc15664d-9eda-465b-fdf3-b49e51c6f620"
      },
      "source": [
        "minority_class_len = len(df[df[\"ratings\"] == 0])\n",
        "print(minority_class_len)"
      ],
      "execution_count": 55,
      "outputs": [
        {
          "output_type": "stream",
          "text": [
            "8366\n"
          ],
          "name": "stdout"
        }
      ]
    },
    {
      "cell_type": "code",
      "metadata": {
        "id": "TM9e0RPQ7s4L",
        "colab_type": "code",
        "colab": {
          "base_uri": "https://localhost:8080/",
          "height": 119
        },
        "outputId": "7a1b6f2d-031b-4a2f-9471-fbb9f9a51076"
      },
      "source": [
        "majority_class_indices = df[df[\"ratings\"] == 1].index\n",
        "print(majority_class_indices)"
      ],
      "execution_count": 56,
      "outputs": [
        {
          "output_type": "stream",
          "text": [
            "Int64Index([    0,     1,     2,     3,     4,     5,     6,     7,     9,\n",
            "               10,\n",
            "            ...\n",
            "            34973, 34974, 34975, 34976, 34977, 34978, 34979, 34980, 34981,\n",
            "            34982],\n",
            "           dtype='int64', length=26619)\n"
          ],
          "name": "stdout"
        }
      ]
    },
    {
      "cell_type": "markdown",
      "metadata": {
        "id": "DOhcdgD7ryYy",
        "colab_type": "text"
      },
      "source": [
        "Chọn ngẫu nhiên các bình luận trong tập lớn với số lượng bằng với số lượng tập nhỏ "
      ]
    },
    {
      "cell_type": "code",
      "metadata": {
        "id": "fJwRDJsl77re",
        "colab_type": "code",
        "colab": {
          "base_uri": "https://localhost:8080/",
          "height": 34
        },
        "outputId": "402e7975-fb71-41bb-914c-e0ee5ae732fb"
      },
      "source": [
        "random_majority_indices = np.random.choice(majority_class_indices, minority_class_len, replace=False)\n",
        "print(len(random_majority_indices))"
      ],
      "execution_count": 57,
      "outputs": [
        {
          "output_type": "stream",
          "text": [
            "8366\n"
          ],
          "name": "stdout"
        }
      ]
    },
    {
      "cell_type": "code",
      "metadata": {
        "id": "rOYWbiO68PPt",
        "colab_type": "code",
        "colab": {
          "base_uri": "https://localhost:8080/",
          "height": 119
        },
        "outputId": "78100e36-2eda-4237-958d-1df7919c16ac"
      },
      "source": [
        "minority_class_indices = df[df[\"ratings\"] == 0].index\n",
        "print(minority_class_indices)"
      ],
      "execution_count": 58,
      "outputs": [
        {
          "output_type": "stream",
          "text": [
            "Int64Index([    8,    12,    13,    14,    16,    19,    29,    33,    49,\n",
            "               66,\n",
            "            ...\n",
            "            34955, 34956, 34958, 34960, 34961, 34967, 34971, 34972, 34983,\n",
            "            34984],\n",
            "           dtype='int64', length=8366)\n"
          ],
          "name": "stdout"
        }
      ]
    },
    {
      "cell_type": "markdown",
      "metadata": {
        "id": "ovYSbCstsKgp",
        "colab_type": "text"
      },
      "source": [
        "Kết hợp 2 tập lớn mới mà tập nhỏ ta có được 1 dataset cân bằng hơn dataset cũ. Từ đó, ta chạy lại các thuật toán máy học để đánh giá kết quả"
      ]
    },
    {
      "cell_type": "code",
      "metadata": {
        "id": "4m9hT0_t8p5-",
        "colab_type": "code",
        "colab": {
          "base_uri": "https://localhost:8080/",
          "height": 255
        },
        "outputId": "a0d23e58-2d7c-4a8b-e08b-f667088dd1a3"
      },
      "source": [
        "under_sample_indices = np.concatenate([minority_class_indices, random_majority_indices])\n",
        "under_sample = df.loc[under_sample_indices]\n",
        "print(under_sample)\n"
      ],
      "execution_count": 59,
      "outputs": [
        {
          "output_type": "stream",
          "text": [
            "                                                comments  ratings\n",
            "8      Đã tới ăn , vị ổn , nhưng mình tưởng như hình ...        0\n",
            "12     Bánh tráng cuộn thịt heo quá mắc, giá bán 63k ...        0\n",
            "13     Mình chỉ order về 2 món: nộm bò với mì quảng -...        0\n",
            "14       Book foody , quán đóng gói sạch sẽ, ăn khá ngon        0\n",
            "16     Quán ăn ngon, phục vụ tốt, sạch sẽ. Decor quán...        0\n",
            "...                                                  ...      ...\n",
            "1224   Thấy đánh giá cao nên qua ăn thử. Mê mấy món x...        1\n",
            "5810   Cô chú chủ quán rất dễ thương. Đồ ăn ngon, giá...        1\n",
            "10980  Mình đánh giá cao nhân viên phục vụ ở đây. Nhâ...        1\n",
            "20214  Vị trà thơm kem cake béo và bánh oreo vẫn giòn...        1\n",
            "25235  Một địa chỉ cho các fan của Bún bò Huế\\n Mình ...        1\n",
            "\n",
            "[16732 rows x 2 columns]\n"
          ],
          "name": "stdout"
        }
      ]
    },
    {
      "cell_type": "code",
      "metadata": {
        "id": "1WGuNcIHoc3C",
        "colab_type": "code",
        "colab": {}
      },
      "source": [
        "undersampling_X_train, undersampling_X_val, undersampling_y_train, undersampling_y_val = train_test_split(under_sample[\"comments\"], under_sample[\"ratings\"], test_size=0.3, random_state=42)\n",
        "undersampling_X_train, undersampling_y_train = transform_to_dataset(undersampling_X_train, undersampling_y_train)\n",
        "undersampling_X_val, undersampling_y_val = transform_to_dataset(undersampling_X_val, undersampling_y_val)"
      ],
      "execution_count": 60,
      "outputs": []
    },
    {
      "cell_type": "code",
      "metadata": {
        "id": "Eag8TAbQ0KR9",
        "colab_type": "code",
        "colab": {
          "base_uri": "https://localhost:8080/",
          "height": 88
        },
        "outputId": "54a18d1d-7f03-4ac2-9215-44ab0c119c20"
      },
      "source": [
        "tf_undersampling = TfidfVectorizer(min_df=5,max_df= 0.8,max_features=3000,sublinear_tf=True)\n",
        "tf_undersampling.fit(undersampling_X_train)\n",
        "print(len(tf_undersampling.vocabulary_))\n",
        "undersampling_vector_train = tf_undersampling.transform(undersampling_X_train)\n",
        "undersampling_vector_val = tf_undersampling.transform(undersampling_X_val)\n",
        "\n",
        "print (tf_undersampling.vocabulary_)\n",
        "print (tf_undersampling.idf_)"
      ],
      "execution_count": 61,
      "outputs": [
        {
          "output_type": "stream",
          "text": [
            "3000\n",
            "{'tuy': 2522, 'xa': 2738, 'nhà': 1723, 'nhưng': 1741, 'không_gian': 1229, 'sen': 2076, 'rất': 2036, 'cho': 423, 'bạn_bè': 300, 'đông': 2888, 'ng': 1605, 'cả': 641, 'trong': 2448, 'lẫn': 1405, 'ngoài': 1644, 'đều': 2937, 'đẹp': 2930, 'đồ': 2949, 'ăn': 2843, 'bufet': 228, 'không': 1228, 'có': 611, 'gì': 948, 'các': 601, 'món': 1534, 'mức': 1578, 'ok': 1859, 'với': 2721, 'mình': 1530, 'giá_cả': 906, 'cũng': 627, 'hợp_lý': 1134, 'nữa': 1851, 'lâu_lâu': 1374, 'đi': 2855, 'thay_đổi': 2232, 'không_khí': 1230, 'thích': 2308, 'cảm_giác': 644, 'ra': 1977, 'vậy': 2706, 'vì': 2692, 'sân': 2137, 'vườn': 2702, 'rộng': 2042, 'nha': 1682, 'nhung': 1722, 'khong_gian': 1194, 'rat': 1983, 'ban_be': 140, 'dong': 761, 'ca': 341, 'lan': 1300, 'ngoai': 1630, 'deu': 731, 'dep': 729, 'do': 750, 'an': 105, 'khong': 1193, 'co': 538, 'gi': 877, 'cac': 347, 'mon': 1491, 'muc': 1502, 'voi': 2663, 'minh': 1474, 'gia_ca': 879, 'cung': 580, 'hop_ly': 1049, 'nua': 1785, 'lau_lau': 1310, 'di': 732, 'thay_doi': 2229, 'khong_khi': 1195, 'thich': 2242, 'cam_giac': 355, 'vay': 2637, 'vi': 2643, 'san': 2055, 'vuon': 2683, 'rong': 2006, 'bánh_canh': 256, 'ghẹ': 875, 'một': 1570, 'lần': 1402, 'là': 1364, 'đó': 2883, 'khó': 1223, 'quên': 1967, 'thuộc': 2295, 'dạng': 810, 'người': 1668, 'khá': 1214, 'riêng': 2002, 'kiểu': 1266, 'nghe': 1616, 'có_vẻ': 615, 'lắm': 1408, 'nghi': 1618, 'nó': 1811, 'ngon': 1636, 'thử': 2351, 'rồi': 2041, 'mới': 1573, 'biết': 203, 'hương_vị': 1099, 'đậm_đà': 2915, 'sợi': 2163, 'bún': 287, 'to_đùng': 2391, 'cực': 678, 'đã': 2879, 'toping': 2409, 'nhất': 1745, 'miếng': 1479, 'giò': 909, 'dài': 786, 'chả_cá': 494, 'được': 2900, 'thái': 2299, 'mềm': 1562, 'thêm': 2305, 'nhiều': 1711, 'tôm': 2551, 'và': 2685, 'trứng': 2499, 'cút': 622, 'ngập': 1674, 'nước': 1819, 'sốt': 2159, 'đặc': 2923, 'tất_cả': 2576, 'tạo': 2572, 'thề': 2338, 'giờ': 925, 'vẫn': 2705, 'nhớ': 1759, 'mùi_vị': 1538, 'của': 672, 'như': 1737, 'nào': 1802, 'mặc_dù': 1555, 'từ': 2606, 'lâu': 1372, 'xong': 2774, 'ngồi': 1678, 'mùi': 1537, 'kèm': 1270, 'nhé': 1731, 'banh_canh': 151, 'ghe': 867, 'mot': 1495, 'la': 1290, 'kho': 1180, 'quen': 1954, 'thuoc': 2289, 'dang': 696, 'nguoi': 1649, 'kha': 1158, 'rieng': 2001, 'kieu': 1245, 'co_ve': 549, 'lam': 1295, 'no': 1768, 'thu': 2272, 'roi': 2005, 'moi': 1489, 'biet': 194, 'huong_vi': 1067, 'dam_da': 694, 'soi': 2098, 'bun': 230, 'to_dung': 2390, 'cuc': 576, 'da': 681, 'nhat': 1696, 'mieng': 1470, 'gio': 894, 'dai': 690, 'cha_ca': 381, 'duoc': 780, 'thai': 2208, 'mem': 1460, 'them': 2236, 'nhieu': 1707, 'tom': 2401, 'non': 1777, 'va': 2627, 'trung': 2453, 'cut': 585, 'ngap': 1612, 'nuoc': 1787, 'sot': 2101, 'dac': 685, 'quanh': 1950, 'tat_ca': 2191, 'tao': 2188, 'the': 2233, 'van': 2629, 'nho': 1713, 'mui_vi': 1504, 'cua': 573, 'nhu': 1716, 'nao': 1587, 'mac_du': 1432, 'tu': 2504, 'lau': 1308, 'ngoi': 1634, 'mui': 1503, 'kem': 1149, 'nhe': 1700, 'gia_đình': 884, 'giao': 891, 'hàng': 1079, 'tận': 2580, 'menu': 1462, 'quán': 1964, 'này': 1803, 'phong_phú': 1903, 'so': 2093, 'cuối': 587, 'tuần': 2529, 'hay': 989, 'đặt': 2928, 'về': 2710, 'cùng': 621, 'gia_dinh': 880, 'hang': 978, 'tan': 2184, 'quan': 1943, 'nay': 1591, 'phong_phu': 1902, 'cuoi': 581, 'tuan': 2510, 'dat': 702, 've': 2640, 'sữa_tươi': 2171, 'tc': 2195, 'matcha': 1449, 'uống': 2626, 'thấy': 2324, 'hơi': 1096, 'đắng': 2920, 'nhẹ': 1754, 'vị': 2715, 'sữa': 2169, 'cá_nhân': 600, 'chỉ': 513, 'sua_tuoi': 2113, 'uong': 2619, 'thay': 2228, 'hoi': 1039, 'nang': 1586, 'at': 124, 'sua': 2110, 'ca_nhan': 344, 'chi': 406, 'tối': 2590, 'thèm': 2304, 'ghé': 872, 'đây': 2878, 'phủ': 1931, 'phê': 1912, 'luôn': 1360, 'giá': 905, 'quá': 1962, 'rẻ': 2039, '29k': 37, 'con': 563, 'to': 2388, 'bự': 338, 'thịt': 2340, 'kêu': 1274, 'cháy': 470, 'tỏi': 2589, 'hồi': 1127, 'trước': 2482, 'thì': 2306, 'xào': 2793, 'bơ': 292, 'vừa': 2727, 'bánh_mì': 258, 'cái': 603, 'sạch_sẽ': 2146, 'vệ_sinh': 2712, 'nên': 1810, 'yên_tâm': 2827, 'mưa': 1543, 'ma': 1429, 'may': 1453, 'sớm': 2161, 'chỗ': 521, 'hi': 1007, 'gần': 955, 'cứ': 673, 'khỏi': 1237, 'phải': 1921, 'đâu': 2877, 'toi': 2398, 'day': 713, 'phu': 1904, 'phe': 1892, 'luon': 1356, 'gia': 878, 'qua': 1941, 're': 1994, 'ky': 1269, 'keu': 1156, 'bu': 222, 'thit': 2252, 'gach': 857, 'chay': 397, 'truoc': 2461, 'thi': 2240, 'xao': 2744, 'bo': 208, 'vua': 2671, 'banh_mi': 156, 'cai': 351, 'sach_se': 2049, 've_sinh': 2642, 'nen': 1601, 'yen_tam': 2820, 'mua': 1501, 'som': 2099, 'gan': 859, 'cu': 571, 'khoi': 1192, 'phai': 1882, 'dau': 704, 'từng': 2607, 'mì': 1529, 'có_lẽ': 613, 'theo': 2237, 'cảm_nhận': 645, 'dễ': 820, 'tìm': 2540, 'nằm': 1835, 'ngay': 1613, 'đầu': 2907, 'phố': 1927, 'điện': 2861, 'dùng': 802, 'ngọt': 1677, 'thanh': 2216, 'đúng': 2892, 'chứ': 530, 'mỳ': 1580, 'chính': 479, 'bát': 266, 'đầy_đủ': 2913, 'trên': 2474, 'trộn': 2494, '35k': 47, 'sẽ': 2154, 'quay': 1952, 'lại': 1396, 'tung': 2516, 'mi': 1466, 'co_le': 544, 'cam_nhan': 356, 'de': 716, 'tim': 2370, 'nam': 1584, 'le': 1312, 'pho': 1897, 'dien': 740, 'bien': 193, 'dung': 779, 'ngot': 1643, 'chu': 432, 'lo': 1327, 'my': 1515, 'chinh': 417, 'bat': 173, 'day_du': 715, 'tren': 2436, 'tron': 2447, 'se': 2074, 'lai': 1293, 'thực_ra': 2354, 'nem': 1597, 'nộm': 1847, 'thời_gian': 2344, 'review': 1999, 'mà_còn': 1517, 'khác': 1215, 'bán': 252, 'đặc_biệt': 2924, 'mấy': 1547, 'chủ': 527, 'nhân_viên': 1728, 'nhiệt_tình': 1712, 'chưa': 490, 'kịp': 1288, 'đỗ': 2959, 'xe': 2748, 'đứng': 2968, 'chào': 465, 'positive': 1936, 'gọi': 959, 'lúc_nào': 1381, 'nem_chua': 1598, 'rán': 2026, 'khi': 1176, 'nhanh': 1692, 'chém': 475, 'gió': 913, 'đủ': 2966, 'nói': 1812, 'thật': 2328, 'bé': 269, 'đến': 2934, 'lớn': 1418, 'bao_giờ': 163, 'loại': 1342, 'rau_sống': 1993, 'rau': 1985, 'mà': 1516, 'cuốn': 589, 'nhìn': 1732, 'muốn': 1512, 'nuốt': 1798, 'cay': 376, 'chấm': 499, 'vào': 2688, 'nước_chấm': 1820, 'lạc': 1395, 'nhai': 1686, 'ngờ': 1680, 'thế': 2335, 'thế_là': 2336, 'bỏ': 323, 'cọng': 659, 'nếu': 1838, 'nhạt': 1743, 'bạn': 299, 'nghĩ': 1626, 'pha': 1879, 'kia': 1241, 'mãi': 1526, 'trà': 2466, 'đá': 2872, 'mất': 1546, 'tiền': 2384, 'hoàn_toàn': 1055, 'fre': 853, 'lấy': 1401, 'mùa': 1536, 'hè': 1085, 'chê': 477, 'mát': 1521, 'chắc_chắn': 508, 'dẫn': 815, 'thuc_ra': 2283, 'nom': 1776, 'thoi_gian': 2264, 'ma_con': 1430, 'khac': 1159, 'ban': 139, 'dac_biet': 686, 'nhan_vien': 1690, 'nhiet_tinh': 1706, 'chua': 438, 'kip': 1262, 'chao': 391, 'goi': 931, 'luc_nao': 1348, 'ran': 1980, 'chem': 402, 'du': 770, 'noi': 1771, 'that': 2224, 'be': 180, 'den': 726, 'lon': 1335, 'bao_gio': 162, 'loai': 1329, 'rau_song': 1992, 'cuon': 583, 'nhin': 1708, 'muon': 1507, 'nuot': 1797, 'ngam': 1608, 'cham': 386, 'vao': 2635, 'nuoc_cham': 1788, 'lac': 1292, 'ngo': 1629, 'the_la': 2234, 'cong': 565, 'neu': 1603, 'hoa': 1027, 'mai': 1435, 'tra': 2414, 'mat': 1444, 'tien': 2361, 'hoan_toan': 1035, 'lay': 1311, 'he': 994, 'che': 398, 'chac_chan': 384, 'dan': 695, 'đặt_hàng': 2929, 'er': 841, 'đặc_sắc': 2926, 'hôi': 1091, 'dat_hang': 703, 'dac_sac': 687, 'huế': 1071, 'tranh_thủ': 2430, 'thất_vọng': 2323, 'sợ': 2162, 'đường': 2899, 'hue': 1063, 'tranh_thu': 2429, 'that_vong': 2227, 'duong': 782, 'dua': 774, 'dia': 734, 'vé': 2691, 'vô': 2694, 'đổi': 2958, 'ko': 1268, 'hình': 1086, 'vẻ': 2709, 'bằng': 317, 'bàn': 246, 'trống': 2493, 'thiệt': 2257, 'làm': 1365, 'negative': 1596, 'nhạc': 1742, 'nói_chung': 1813, 'view': 2649, 'tạm': 2571, 'phục_vụ': 1930, 'tệ': 2587, 'vo': 2659, 'doi': 756, 'hinh': 1017, 'bang': 147, 'thiet': 2246, 'nhac': 1685, 'noi_chung': 1773, 'tam': 2183, 'phuc_vu': 1907, 'te': 2196, 'còn': 610, 'chút': 486, 'ngày': 1660, 'tháng': 2301, 'chè_thái': 474, 'đinh': 2857, 'để': 2938, 'đầy': 2911, 'rộng_rãi': 2043, 'nhau': 1699, 'hãy': 1084, 'chọn': 517, 'thưởng_thức': 2318, 'dù': 801, 'nơi': 1818, 'bánh': 253, 'nướng': 1828, 'nóng_hổi': 1816, 'giòn_rụm': 911, 'mang': 1441, 'lò': 1378, 'bị': 319, 'nguội': 1657, 'ỉu': 2989, 'vài': 2686, 'pate': 1877, 'thơm': 2314, 'vừa_miệng': 2728, 'mỡ': 1577, 'chiếc': 421, '2k': 39, 'tầm': 2577, 'chung': 446, 'cốc': 663, '10k': 2, 'dừa': 834, 'giòn': 910, 'cực_kì': 679, 'đưa': 2898, 'miệng': 1483, 'cần': 653, 'có_thể': 614, 'chúng_mình': 484, 'chut': 453, 'thang': 2215, 'che_thai': 400, 'dinh': 748, 'lap': 1305, 'rong_rai': 2007, 'san_sat': 2057, 'chon': 428, 'thuong_thuc': 2292, 'banh': 148, 'nuong': 1796, 'nong_hoi': 1779, 'gion_rum': 898, 'bi': 190, 'iu': 1144, 'vai': 2628, 'thom': 2266, 'vua_mieng': 2672, 'mo': 1485, 'chiec': 412, 'coc': 550, 'gion': 897, 'cuc_ki': 577, 'can': 361, 'co_the': 547, 'chung_minh': 447, 'combo': 560, 'xanh': 2743, 'sang': 2058, 'chảnh': 496, 'khu': 1200, 'tram': 2420, 'chanh': 390, 'tên': 2539, 'thành': 2297, 'lên': 1376, 'chẳng': 509, 'đợi': 2964, '45': 56, 'phút': 1919, 'hỏi': 1124, 'lựa': 1427, 'hải_sản': 1105, 'ghi': 869, 'lúc': 1380, 'bưng': 293, 'khách': 1217, 'chờ': 522, 'ten': 2199, 'len': 1314, 'chang': 389, 'phut': 1908, 'lua': 1344, 'hai_san': 973, 'luc': 1347, 'bung': 234, 'khach': 1162, 'hài_lòng': 1077, 'cách': 602, 'hôm_nay': 1093, 'hết': 1117, 'mít': 1532, 'báo': 265, 'người_ta': 1669, 'đằng': 2922, 'sữa_chua': 2170, 'hai_long': 972, 'cach': 349, 'hom_nay': 1042, 'het': 1004, 'mit': 1476, 'bao': 161, 'nguoi_ta': 1651, 'sua_chua': 2111, 'đếm': 2933, 'dĩa': 803, 'nữ': 1850, 'mệt': 1563, 'ăn_nổi': 2844, 'đĩa': 2894, 'thôi': 2310, 'xin': 2759, 'hộp': 1131, 'đà': 2868, 'lạt': 1399, 'gặp': 958, 'những': 1761, 'phá': 1909, 'hỏng': 1125, 'thành_phố': 2298, 'mọi': 1566, 'bước': 294, 'dem': 725, 'nu': 1784, 'met': 1464, 'an_noi': 107, 'thoi': 2263, 'hop': 1047, 'lat': 1306, 'gap': 861, 'hong': 1045, 'thanh_pho': 2217, 'buoc': 235, 'đậu': 2917, 'ngậy': 1675, 'nem_rán': 1600, 'mắm_tôm': 1552, 'khẩu_vị': 1234, 'điều': 2858, 'ít': 2835, 'mắm': 1550, 'sau': 2069, 'hơn': 1097, 'ủng_hộ': 2999, 'tiếp': 2379, 'nem_ran': 1599, 'mam_tom': 1439, 'khau_vi': 1172, 'dieu': 742, 'it': 1142, 'mam': 1437, 'hon': 1044, 'ung_ho': 2617, 'tiep': 2363, 'pl': 1933, 'hút': 1095, 'chắc': 507, 'dám': 790, 'ntn': 1783, 'hut': 1068, 'chac': 383, 'dam': 692, 'ốc': 2990, 'vỉa_hè': 2714, 'hề': 1119, '80k': 79, 'trở': 2497, 'bản_thân': 302, 'đánh_giá': 2876, 'hai': 971, 'chảo': 497, 'tới': 2598, 'oc': 1853, 'via_he': 2645, 'tro': 2442, 'ban_than': 145, 'danh_gia': 699, 'truc': 2451, 'tiệc': 2385, 'chân': 472, 'gà': 944, 'hấp_dẫn': 1107, 'thấm': 2321, 'nhậu': 1751, 'tiec': 2359, 'chan': 388, 'ga': 856, 'hap_dan': 983, 'tham': 2210, 'bánh_ngọt': 259, 'mỗi': 1569, 'cửa_hàng': 676, 'cũ': 625, 'phạm': 1920, 'nhỏ': 1757, 'cơ': 628, 'toàn': 2411, 'gato': 863, 'mini': 1475, '5k': 64, 'thứ': 2347, 'như_thế': 1738, 'mouse': 1498, 'xoài': 2776, 'vani': 2634, 'socola': 2096, 'ngon_ăn': 1642, 'chán': 466, 'tiệm': 2386, 'sinh_nhật': 2086, 'cuộn': 590, 'bánh_bao': 254, 'hình_như': 1087, 'nguyên_liệu': 1656, 'sự': 2173, 'lựa_chọn': 1428, 'chị': 514, 'nhận': 1748, 'viên': 2654, 'bình_thường': 279, 'niềm': 1767, 'nở': 1848, 'kệ': 1287, 'trình_bày': 2475, 'đẹp_mắt': 2931, 'xã': 2796, 'rẽ': 2040, 'banh_ngot': 157, 'cua_hang': 574, 'pham': 1884, 'toan': 2393, 'am': 101, 'nhu_the': 1717, 'xoai': 2770, 'ngon_an': 1637, 'tiem': 2360, 'sinh_nhat': 2085, 'banh_bao': 149, 'hinh_nhu': 1019, 'nguyen_lieu': 1654, 'su': 2108, 'lua_chon': 1345, 'nhan': 1688, 'vien': 2647, 'binh_thuong': 201, 'niem': 1764, 'ke': 1147, 'trinh_bay': 2440, 'dep_mat': 730, 'hot': 1050, 'ơi': 2971, 'xíu': 2800, 'feling': 847, 'cửa': 675, 'tuyệt': 2527, 'nhân': 1727, 'làm_sao': 1367, 'ui': 2615, 'chén': 476, 'xá_xíu': 2794, 'oi': 1858, 'xiu': 2766, 'tuyet': 2525, 'lam_sao': 1298, 'chen': 403, 'xa_xiu': 2740, 'cố_gắng': 661, 'lao': 1304, 'hà_nội': 1076, '5h': 63, 'chiều': 422, 'trời': 2495, 'cháo': 467, 'trai': 2416, 'ai': 92, 'rùi': 2029, 'nóng': 1815, 'lạnh': 1398, 'co_gang': 541, 'ha_noi': 969, 'chieu': 414, 'troi': 2445, 'rui': 2013, 'nong': 1778, 'lanh': 1303, 'bọn': 322, 'giảm': 918, '20': 25, 'nhà_hàng': 1724, '10': 0, 'vat': 2636, 'thanh_toán': 2220, 'star': 2105, 'tổng': 2594, 'tính': 2545, '180k': 18, 'suất': 2127, '19k': 21, 'muối': 1511, 'củ_cải': 671, 'kim_chi': 1247, 'nhạt_nhẽo': 1744, 'sao': 2063, 'chín': 478, 'kết_hợp': 1283, 'lá': 1370, 'bá': 250, 'bánh_xèo': 261, 'ngấy': 1673, 'tụi': 2601, 'lạng': 1397, 'độ': 2960, 'bon': 214, 'giam': 887, 'nha_hang': 1683, 'thanh_toan': 2219, 'tong': 2406, 'tinh': 2372, 'suat': 2114, 'muoi': 1506, 'cu_cai': 572, 'nhat_nheo': 1698, 'chin': 416, 'ket_hop': 1154, 'ba': 127, 'banh_xeo': 160, 'tui': 2512, 'lang': 1301, 'nghiện': 1623, 'dễ_chịu': 821, 'ngô': 1666, 'bùi': 286, 'xịn': 2811, '12k': 7, 'tương_ớt': 2564, 'dưa_chuột': 806, 'phết': 1926, 'nổi_tiếng': 1845, 'chè': 473, 'lạ': 1393, 'thực_sự': 2355, 'hoặc': 1058, 'hợp': 1132, 'cạnh': 640, 'dắt': 817, 'cô': 617, 'tay': 2194, 'phải_chăng': 1922, 'địa_chỉ': 2941, 'nghien': 1620, 'de_chiu': 718, 'bui': 229, 'tuong_ot': 2520, 'dua_chuot': 775, 'phet': 1893, 'noi_tieng': 1775, 'thuc_su': 2284, 'hoac': 1032, 'canh': 365, 'yeu': 2822, 'phai_chang': 1883, 'dia_chi': 735, 'aley': 99, 'bài': 244, 'dịch_vụ': 826, 'tôi': 2550, 'dành': 788, 'lối': 1415, 'thu_ngân': 2275, 'now': 1781, 'vn': 2658, 'quen_thuộc': 1956, 'bụng': 335, 'sôi': 2140, 'cơn': 637, 'shiper': 2082, 'việc': 2656, 'tại_sao': 2570, 'vụ': 2724, 'thiếu': 2255, 'tôn_trọng': 2552, 'sống': 2158, '2019': 27, 'làm_việc': 1368, 'buổi': 241, 'sáng': 2132, 'ful': 855, 'fody': 851, 'hệ_thống': 1120, 'trả': 2484, 'khiến': 1179, 'trễ': 2492, 'cao': 367, 'nghĩa': 1627, 'thái_độ': 2300, 'yêu_cầu': 2830, 'khó_chịu': 1224, 'nhẹ_nhàng': 1755, 'chốt': 518, 'số_lượng': 2157, 'thừa': 2350, 'xuống': 2790, 'phần': 1925, 'cảm_thấy': 646, 'coi_thường': 555, 'vội': 2720, 'lịch_sự': 1412, 'rằng': 2038, 'anh': 116, 'giúp': 914, 'em': 838, 'lời': 1420, 'xin_lỗi': 2761, 'thế_nào': 2337, 'gửi': 967, 'công_ty': 620, 'lý_do': 1383, 'phù_hợp': 1917, 'làm_ăn': 1369, 'hình_ảnh': 1089, 'đáng': 2874, 'văn_phòng': 2700, 'gây': 947, 'hiểu': 1021, 'trực_tiếp': 2502, 'dậy': 816, 'bảo_vệ': 305, 'đuổi': 2867, 'thằng': 2332, 'đối_với': 2947, 'khách_hàng': 1218, 'mặc': 1554, 'áo': 2832, 'đỏ': 2945, 'họ': 1121, 'có_khi': 612, 'điểm': 2860, 'chất_lượng': 502, 'sản_phẩm': 2148, 'ấy': 2986, 'vấn_đề': 2704, 'quyết_định': 1961, 'đảm_bảo': 2903, 'đang': 2851, 'bộ': 327, 'chạy': 492, 'muộn': 1514, 'chậm': 503, 'đời': 2962, '12': 4, 'tiếng': 2378, 'dưới': 808, 'nắng': 1833, 'kiếm': 1264, 'lương': 1388, 'nghìn': 1625, 'tự': 2609, 'ship': 2081, 'viết': 2655, 'cơm': 633, 'bao_nhiêu': 167, 'thân': 2302, 'bai': 136, 'dich_vu': 738, 'danh': 698, 'loi': 1334, 'thu_ngan': 2274, 'quen_thuoc': 1955, 'ua': 2612, 'viec': 2646, 'tai_sao': 2180, 'vu': 2670, 'thieu': 2249, 'ton_trong': 2405, 'song': 2100, 'lam_viec': 1299, 'buoi': 236, 'he_thong': 995, 'khien': 1177, 'tre': 2433, 'nghia': 1619, 'thai_do': 2209, 'yeu_cau': 2823, 'kho_chiu': 1181, 'nhe_nhang': 1701, 'dap': 701, 'chot': 430, 'so_luong': 2094, 'thua': 2277, 'xuong': 2787, 'phan': 1885, 'cam_thay': 358, 'coi_thuong': 554, 'lich_su': 1318, 'rang': 1981, 'giup': 903, 'xin_loi': 2760, 'the_nao': 2235, 'gui': 942, 'cong_ty': 567, 'ly_do': 1363, 'phu_hop': 1905, 'lam_an': 1296, 'hinh_anh': 1018, 'thuong': 2290, 'van_phong': 2632, 'gay': 865, 'hieu': 1014, 'truc_tiep': 2452, 'bao_ve': 168, 'duoi': 781, 'doi_voi': 758, 'khach_hang': 1164, 'mac': 1431, 'ao': 120, 'ho': 1026, 'coi': 553, 'co_khi': 543, 'diem': 739, 'chat_luong': 395, 'san_pham': 2056, 'ay': 126, 'van_de': 2630, 'quyet_dinh': 1960, 'dam_bao': 693, 'tieng': 2362, 'kiem': 1243, 'luong': 1357, 'nghin': 1621, 'viet': 2648, 'com': 556, 'bao_nhieu': 166, 'than': 2212, 'tươi': 2561, 'miễn_phí': 1482, 'gói': 951, 'xúc_xích': 2803, 'khổ': 1238, 'cá': 598, 'hấp': 1106, 'nguyên': 1655, 'trái_cây': 2469, 'tráng_miệng': 2470, 'trái': 2468, 'chuối': 463, 'không_thể': 1231, 'tuoi': 2517, 'mien_phi': 1469, 'xuc_xich': 2782, 'hap': 982, 'nguyen': 1653, 'trai_cay': 2417, 'trang_mieng': 2425, 'chuoi': 449, 'khong_the': 1196, 'hết_sức': 1118, 'lỗi': 1416, 'hoài': 1053, 'dở': 831, 'chi_nhánh': 409, 'ly': 1362, 'dính': 799, 'nhựa': 1762, 'nv': 1799, 'trả_lời': 2485, 'dạ': 809, 'sử_dụng': 2167, 'cầm': 652, 'oder': 1856, 'mắc': 1549, 'ta': 2175, 'giấy': 921, 'đừng': 2969, 'đấy': 2906, 'câu': 608, 'hay_sao': 993, 'hẻm': 1115, 'phí': 1913, 'het_suc': 1005, 'hoai': 1033, 'chi_nhanh': 408, 'nhua': 1719, 'tra_loi': 2415, 'su_dung': 2109, 'cam': 354, 'giay': 892, 'cau': 375, 'hem': 998, 'phi': 1894, 'du_lịch': 773, 'phan_thiết': 1889, 'lòng': 1379, 'heo': 1001, 'thường': 2316, 'tóm_lại': 2548, 'thoáng': 2269, 'du_lich': 772, 'phan_thiet': 1888, 'banh_hoi': 155, 'long': 1336, 'tom_lai': 2402, 'thoang': 2261, 'giống': 923, 'nửa': 1849, 'giong': 900, 'ram': 1979, 'pad': 1873, 'chuẩn': 461, 'bên': 274, 'bảng': 303, 'tặng': 2584, 'thập_cẩm': 2327, 'chuan': 442, 'ben': 184, 'tang': 2186, 'thap_cam': 2223, 'starbucks': 2106, 'tha_hồ': 2205, 'ảo': 2980, 'dễ_thương': 823, 'thân_thiện': 2303, 'caramel': 371, 'machiato': 1433, 'cỡ': 668, 'cà_phê': 594, 'chocolate': 426, 'thương_hiệu': 2315, 'chát': 468, '8k': 82, 'tha_ho': 2204, 'de_thuong': 721, 'than_thien': 2214, 'ca_phe': 345, 'thuong_hieu': 2291, 'chat': 393, 'đắt': 2921, 'taxi': 2193, 'hàu': 1082, 'đông_lạnh': 2889, 'bắt': 314, 'cân': 607, 'mực': 1579, 'đem': 2853, 'tô': 2549, 'thiệt_hại': 2258, 'hau': 985, 'dong_lanh': 764, 'hoang': 1036, 'om': 1862, 'thiet_hai': 2247, 'mã': 1525, 'giảm_giá': 919, '50': 61, 'đồng': 2953, 'chụp': 526, 'giam_gia': 888, 'chup': 452, 'dễ_ăn': 824, 'ăn_ở': 2848, 'sánh': 2134, 'vừa_vặn': 2730, 'tuy_nhiên': 2524, 'một_số': 1572, 'hôm': 1092, 'vỏ': 2718, 'bóc': 283, 'loãng': 1341, 'tốt': 2592, 'quất': 1972, 'hướng': 1100, 'tầng': 2578, 'bảo': 304, 'anh_chị': 118, 'hả': 1104, 'nói_chuyện': 1814, 'quả': 1969, 'cộng': 667, 'trông': 2479, 'cực_kỳ': 680, 'de_an': 717, 'an_o': 108, 'sanh': 2062, 'vua_van': 2674, 'tuy_nhien': 2523, 'mot_so': 1497, 'hom': 1041, 'boc': 211, 'loang': 1331, 'tot': 2410, 'quat': 1951, 'go': 928, 'huong': 1065, 'anh_chi': 117, 'ha': 968, 'min': 1473, 'noi_chuyen': 1774, 'cuc_ky': 578, 'xôi': 2802, 'chục': 525, 'năm': 1817, 'xoi': 2773, 'chuc': 444, 'học_sinh': 1123, 'sinh_viên': 2090, 'cẩn_thận': 655, 'tâm': 2537, 'một_chút': 1571, 'càng': 596, 'đứa': 2967, 'ổn': 2996, 'tí': 2543, 'hoc_sinh': 1038, 'sinh_vien': 2089, 'can_than': 362, 'mot_chut': 1496, 'cang': 363, 'on': 1863, 'ti': 2358, 'nhóm': 1735, 'tớ': 2597, 'chương_trình': 491, 'kinh_nghiệm': 1261, 'cơ_mà': 631, 'ướp': 2977, 'hành': 1080, 'phô': 1916, 'mèo': 1527, 'địa_điểm': 2942, 'nhom': 1715, 'chuong_trinh': 451, 'kinh_nghiem': 1260, 'co_ma': 545, 'be_be': 181, 'uop': 2620, 'na': 1582, 'hanh': 979, 'meo': 1463, 'dia_diem': 736, 'cố': 660, 'healthy': 996, 'ghét': 873, 'xà_lách': 2791, 'nhờ': 1760, 'cá_hồi': 599, 'ghet': 868, 'xa_lach': 2739, 'ca_hoi': 343, 'ưng': 2973, 'bất_ngờ': 306, '45k': 57, 'dài_dài': 787, 'ung': 2616, 'bat_ngo': 176, 'dai_dai': 691, 'vote': 2667, 'kichi': 1242, 'nhúng': 1736, 'đa_dạng': 2849, 'da_dang': 682, 'chuyen': 455, 'mong_đợi': 1494, 'nhà_vệ_sinh': 1725, 'bẩn': 308, 'kimbap': 1250, 'bò': 282, 'mong_doi': 1493, 'nha_ve_sinh': 1684, 'xả': 2806, 'khô': 1227, 'tại': 2568, 'tai': 2178, 'fan': 845, 'trung_thành': 2459, 'hà': 1075, 'sả': 2147, 'ớt': 2998, 'nẵng': 1836, 'buồn': 240, 'trung_thanh': 2458, 'sa': 2046, 'ot': 1872, 'buon': 237, '20k': 28, 'hu': 1060, 'max': 1452, 'lụi': 1423, 'tưởng': 2566, 'thần_thánh': 2325, 'nổi': 1843, 'lui': 1349, 'tuong': 2518, 'than_thanh': 2213, 'lẩu': 1404, 'bắp': 312, 'cắt': 658, 'lát': 1371, 'ngắm': 1676, 'vui': 2675, 'chịu': 516, 'vị_trí': 2716, 'trung_tâm': 2460, 'bap': 170, 'cat': 374, 'chiu': 419, 'vi_tri': 2644, 'trung_tam': 2457, 'phở': 1928, 'đơn_giản': 2897, 'nước_mắm': 1824, 'cứng': 674, 'dày': 789, 'thỉnh_thoảng': 2339, 'don_gian': 760, 'nuoc_mam': 1793, 'thinh_thoang': 2250, 'đầu_tiên': 2909, 'đối_diện': 2946, 'mặt': 1557, 'khoảng': 1199, 'trc': 2432, 'thoải_mái': 2271, 'tổ_chức': 2593, 'ding': 746, 'lợn': 1422, 'rõ': 2027, 'dầu': 813, 'ngán': 1663, 'rau_cải': 1989, 'đỡ': 2963, 'voucher': 2668, '50k': 62, 'yêu': 2829, 'đầu_bếp': 2908, 'dau_tien': 710, 'doi_dien': 757, 'khoang': 1190, 'thoai_mai': 2260, 'to_chuc': 2389, 'ro': 2003, 'ngan': 1609, 'rau_cai': 1986, 'dau_bep': 705, 'bột_lọc': 329, 'măng': 1541, 'nh': 1681, 'bot_loc': 219, 'siêu': 2092, 'chai': 385, 'sieu': 2083, 'đựng': 2970, 'rõ_ràng': 2028, 'bao_gồm': 165, 'đũa': 2895, 'thìa': 2307, 'làm_nên': 1366, 'túi': 2554, 'xưa': 2804, 'dòng': 800, 'chữ': 533, 'ông': 2839, 'chú': 481, 'chửi': 532, 'ap': 121, 'ro_rang': 2004, 'bao_gom': 164, 'thia': 2241, 'lam_nen': 1297, 'xua': 2778, 'ong': 1866, 'chui': 445, 'xoa': 2769, 'of': 1857, 'chicken': 411, 'we': 2732, 'have': 988, 'and': 115, 'from': 854, 'me': 1458, 'facebok': 842, 'with': 2737, 'top': 2408, 'this': 2251, 'you': 2825, 'al': 98, 'try': 2465, 'one': 1865, 'list': 1323, 'don': 759, 'but': 239, 'are': 122, 'never': 1604, 'were': 2733, 'facebook': 843, 'place': 1934, 'eat': 836, 'for': 852, 'come': 561, 'what': 2734, 'if': 1137, 'they': 2239, 'wil': 2736, 'restaurant': 1998, 'again': 89, 'had': 970, 'here': 1003, 'get': 866, 'in': 1138, 'or': 1870, 'mở': 1575, 'thời': 2343, 'dingtea': 747, 'màu': 1518, 'xem': 2751, 'tường': 2565, 'trâu': 2473, 'best': 188, 'trân_châu': 2472, 'ngang': 1610, 'km': 1267, 'vắng': 2708, 'nhắn_tin': 1753, 'mau': 1450, 'trau': 2431, 'tran_chau': 2422, 'vang': 2633, 'nhan_tin': 1689, 'móng': 1535, 'ruột': 2023, 'lừa_đảo': 1425, 'mong': 1492, 'ruot': 2017, 'lua_dao': 1346, 'miến': 1478, 'ôi': 2838, 'giả': 915, 'đất': 2905, 'mặn': 1556, 'cạch': 639, 'mien': 1468, 'man': 1440, 'tea': 2197, 'ice': 1136, 'back': 134, 'khoai': 1183, 'chả': 493, 'sầu': 2149, 'sâm': 2136, 'dứa': 833, 'bh': 189, 'cha': 380, 'sam': 2054, 'cafe': 350, 'điều_hoà': 2859, 'mát_mẻ': 1522, 'bật': 310, 'thức_uống': 2348, 'hợp_lí': 1133, 'càng_ngày_càng': 597, 'cải_thiện': 643, 'hình_thức': 1088, 'thẻ': 2334, 'chuyên_nghiệp': 458, 'liên_tục': 1324, 'dieu_hoa': 743, 'mat_me': 1446, 'thuc_uong': 2286, 'hop_li': 1048, 'cang_ngay_cang': 364, 'cai_thien': 352, 'hinh_thuc': 1020, 'chuyen_nghiep': 456, 'rot': 2008, 'lien_tuc': 1320, 'đỉnh': 2940, 'nêm': 1809, 'ấn_tượng': 2985, 'trang_trí': 2427, 'phong_cách': 1901, 'vintage': 2651, 'đậm': 2914, 'chất': 501, 'kể': 1285, 'tư_vấn': 2560, 'xay': 2747, 'đồ_uống': 2950, 'phòng': 1915, 'thích_hợp': 2309, 'trở_lại': 2498, 'an_tuong': 111, 'trang_tri': 2426, 'phong_cach': 1900, 'tu_van': 2509, 'do_uong': 753, 'phong': 1899, 'thich_hop': 2243, 'tro_lai': 2443, 'chú_ý': 482, 'chuyện': 460, 'an_toàn': 110, 'thực_phẩm': 2353, 'chu_y': 435, 'an_toan': 109, 'thuc_pham': 2282, 'tiếc': 2377, 'đóng': 2885, 'lầu': 1403, 'bobapop': 210, 'puding': 1938, 'yêu_thích': 2831, 'loay_hoay': 1332, 'oreo': 1871, 'răng': 2032, 'ảnh': 2979, 'check': 401, 'yeu_thich': 2824, 'lung': 1351, 'sat': 2068, 'kinh_khủng': 1259, 'nhỉ': 1756, 'bánh_đúc': 263, 'trắng': 2488, 'củ': 670, 'đầy_đặn': 2912, 'kinh_khung': 1258, 'nhi': 1704, 'banh_duc': 154, 'trang': 2424, 'day_dan': 714, 'đóng_gói': 2886, 'kín': 1276, 'đổ': 2957, 'dong_goi': 762, 'kin': 1254, 'vô_tình': 2696, 'ưng_ý': 2974, 'mặt_tiền': 1559, 'được_cái': 2901, '49k': 58, 'quá_trời': 1963, 'ấm_cúng': 2982, 'vo_tinh': 2662, 'ung_y': 2618, 'lien': 1319, 'mat_tien': 1448, 'gom': 933, 'qua_troi': 1942, 'am_cung': 103, 'ngày_xưa': 1662, 'ồn': 2994, 'chật_chội': 506, 'siro': 2091, 'sv': 2129, 'ngay_xua': 1615, 'chat_choi': 394, 'ruoi': 2016, 'vô_cùng': 2695, 'flan': 848, 'dẻo': 819, 'linh_tinh': 1322, 'vo_cung': 2661, 'deo': 728, 'ngõ': 1667, 'quạt': 1968, 'chật': 505, 'dân': 791, 'khói': 1226, 'chua_cay': 439, 'thịt_nướng': 2341, 'xếp': 2809, '30k': 42, 'bún_chả': 289, 'sac': 2047, 'thit_nuong': 2253, 'xep': 2754, 'bun_cha': 232, 'bar': 172, 'tây': 2538, 'kể_cả': 1286, 'mạnh': 1545, 'tiger': 2369, '140k': 10, 'quẩy': 1974, 'ke_ca': 1148, 'manh': 1442, 'men': 1461, 'phát': 1910, 'hiện_đại': 1023, 'ban_công': 142, 'lung_linh': 1352, 'ghê': 874, 'việt': 2657, '25k': 33, 'chu_đáo': 437, 'yên_tĩnh': 2828, 'nhất_định': 1746, 'phat': 1890, 'hien_dai': 1012, 'ban_cong': 141, 'chu_dao': 433, 'yen_tinh': 2821, 'nhat_dinh': 1697, 'gu': 941, 'lớp': 1419, 'bữa': 337, 'trưa': 2481, 'hao': 981, 'lop': 1337, 'bua': 223, 'trua': 2450, 'chủ_nhật': 528, 'thiết_kế': 2254, 'góc': 950, 'cảnh': 649, 'chu_nhat': 434, 'thiet_ke': 2248, 'goc': 929, 'tieu': 2368, 'cap': 369, 'hàn': 1078, 'quốc': 1976, 'kim': 1246, 'nè': 1806, 'xứng_đáng': 2814, 'đồng_tiền': 2955, 'gạo': 953, 'han': 977, 'quoc': 1958, 'ne': 1595, 'xung_dang': 2785, 'dong_tien': 765, 'gao': 860, 'mùng': 1539, 'bún_bò': 288, 'cà_rốt': 595, 'nấm': 1830, 'bức_xúc': 336, 'mung': 1505, 'bun_bo': 231, 'dau_hu': 707, 'ca_rot': 346, 'buc_xuc': 226, 'gren': 940, 'bí': 280, 'hoa_quả': 1030, 'hay_là': 992, 'chấp_nhận': 500, 'ngoài_ra': 1645, 'số': 2156, 'sách': 2131, 'sẵn': 2153, 'chơi': 489, 'trừ': 2501, 'hoa_qua': 1029, 'hay_la': 991, 'chap_nhan': 392, 'ngoai_ra': 1631, 'sach': 2048, 'choi': 427, 'tru': 2449, 'chiên': 420, 'giòn_tan': 912, 'béo': 271, 'xì_dầu': 2799, 'chien': 413, 'gion_tan': 899, 'beo': 185, 'xi_dau': 2757, '12h': 6, '40p': 54, 'nvien': 1800, '15p': 14, 'khoai_tây': 1188, '40k': 53, 'định': 2943, 'nước_lọc': 1823, 'bắt_đầu': 316, 'nồi': 1841, 'nc': 1592, '10p': 3, 'mọc': 1565, 'bn': 207, 'ban_đầu': 146, 'hi_vọng': 1009, 'bếp': 318, 'hóa_đơn': 1090, 'khoai_tay': 1187, 'nuoc_loc': 1792, 'bat_dau': 174, 'moc': 1487, 'ban_dau': 143, 'hi_vong': 1008, 'bep': 187, 'hoa_don': 1028, 'đồ_ăn': 2951, 'trần': 2487, 'do_an': 751, 'tran': 2421, 'khen': 1174, 'nhầm': 1747, 'lượt': 1392, 'nham': 1687, 'luot': 1358, 'nát': 1804, 'bít': 281, 'tết': 2586, 'bq': 221, 'tội': 2596, 'salad': 2051, 'steak': 2107, 'bình_dân': 277, '15k': 13, 'nước_ngọt': 1826, '69k': 69, '65k': 68, 'nat': 1589, 'bit': 202, 'tet': 2201, 'binh_dan': 199, 'nuoc_ngot': 1795, 'thật_sự': 2330, 'that_su': 2226, 'ngon_ngọt': 1641, 'liền': 1325, 'say': 2073, '24': 30, 'dễ_sợ': 822, 'chảy': 498, 'chừng': 531, 'ghiền': 871, 'ngon_ngot': 1640, 'ngu': 1648, 'de_so': 720, 'ghien': 870, 'nhìu': 1734, '120k': 5, 'xuất': 2788, 'chợ': 524, 'nhiu': 1710, 'mut': 1510, 'xuat': 2779, 'tỏ': 2588, 'lý': 1382, 'kém': 1271, 'đào': 2871, 'up': 2622, 'ướt': 2978, 'khăn': 1233, 'cháu': 469, 'dao': 700, 'vung': 2681, 'uot': 2621, 'khan': 1170, 'chau': 396, 'hôm_qua': 1094, 'cty': 570, 'đau': 2852, 'hom_qua': 1043, 'băm': 291, 'ak': 97, 'tẩm': 2579, 'bam': 138, 'capuchino': 370, 'đánh': 2875, 'máy': 1523, 'xiên': 2768, 'chuyển': 459, 'decor': 723, 'biển': 204, 'hay_ho': 990, 'bình': 276, 'xinh_xinh': 2764, 'rắc': 2037, 'recomend': 1996, 'kẹo': 1279, 'quan_tâm': 1947, 'xien': 2758, 'binh': 198, 'rac': 1978, 'keo': 1151, 'quan_tam': 1944, 'cơm_rang': 635, 'com_rang': 558, 'aido': 95, '70': 72, 'gong': 936, 'bắt_mắt': 315, 'âu': 2833, 'piza': 1932, 'bat_mat': 175, 'au': 125, 'xuất_sắc': 2789, 'xuat_sac': 2780, 'ô_long': 2837, 'quê': 1966, 'đen': 2854, 'hẳn': 1111, 'mr': 1499, 'nội': 1846, 'o_long': 1852, 'que': 1953, 'nga': 1606, 'vụn': 2725, '4k': 60, 'vun': 2680, 'đa_số': 2850, 'sò': 2139, 'da_so': 684, 'kinh_doanh': 1257, 'thậm_chí': 2326, 'burger': 238, 'truyền_thống': 2464, '75k': 74, 'vứt': 2726, 'đơn': 2896, 'sâu': 2138, 'tham_chi': 2211, 'truyen_thong': 2463, 'vut': 2684, 'thấp': 2322, 'ghế': 876, 'bất_tiện': 307, 'dê': 797, 'cơm_chiên': 634, 'thap': 2222, 'bat_tien': 177, 'nui': 1786, 'com_chien': 557, 'sắp_xếp': 2152, 'gọn_gàng': 961, 'dồi': 830, 'sụn': 2164, 'sườn': 2144, 'hoàn_hảo': 1054, 'chút_xíu': 487, 'luộc': 1361, 'ngon_miệng': 1639, 'ns': 1782, 'ms': 1500, 'feedback': 846, 'sap_xep': 2065, 'gon_gang': 935, 'sun': 2119, 'suon': 2120, 'hoan_hao': 1034, 'chut_xiu': 454, 'luoc': 1354, 'ngon_mieng': 1638, 'cổ': 665, 'đèn': 2880, 'vàng': 2687, 'sang_trọng': 2061, 'sạch': 2145, 'khúc': 1232, 'gọi_là': 960, 'bỏ_qua': 324, 'sang_trong': 2060, 'khuc': 1204, 'goi_la': 932, 'bo_qua': 209, 'khách_sạn': 1219, 'nhanh_nhẹn': 1694, 'súp': 2141, 'béo_ngậy': 272, 'dịp': 827, 'khach_san': 1165, 'nhanh_nhen': 1693, 'sup': 2123, 'beo_ngay': 186, 'dip': 749, 'cuối_cùng': 588, '25': 31, 'vịt': 2717, 'dở_tệ': 832, 'nấu': 1831, 'tuyệt_vời': 2528, 'cuoi_cung': 582, 'vit': 2653, 'do_te': 752, 'nau': 1590, 'tuyet_voi': 2526, 'nọ': 1839, 'khuyến_mại': 1212, 'cà': 592, 'wifi': 2735, 'tương': 2562, 'chúc': 483, 'khuyen_mai': 1209, 'hướng_dẫn': 1101, 'gấp': 954, 'bọc': 321, 'học': 1122, 'huong_dan': 1066, 'hoc': 1037, 'mê': 1528, 'chese': 404, 'toco': 2396, 'hồng': 1128, 'ưu_đãi': 2976, 'uu_dai': 2624, 'bông': 284, 'online': 1867, 'thời_tiết': 2345, 'cắn': 657, 'chả_cốm': 495, 'bài_trí': 245, 'gỗ': 965, 'xung_quanh': 2786, 'mẹt': 1561, 'gồm': 964, 'lưu_ý': 1386, 'chia': 410, 'độn': 2961, 'bong': 215, 'thoi_tiet': 2265, 'cha_com': 382, 'quyen': 1959, 'bai_tri': 137, 'luu_y': 1359, 'lươn': 1387, 'set': 2079, 'sushi': 2124, 'tụi_mình': 2602, 'tui_minh': 2513, 'đế': 2932, 'vừa_rồi': 2729, 'ny': 1801, 'cơ_sở': 632, 'phía': 1914, 'cảm_ơn': 648, 'vua_roi': 2673, 'co_so': 546, 'phia': 1895, 'cam_on': 357, 'kbh': 1146, 'hnay': 1025, 'bưởi': 295, 'ú_ụ': 2840, 'bánh_tráng': 260, '17k': 16, 'cx': 591, 'mk': 1484, 'đến_nỗi': 2935, 'hộ': 1129, 'kiwi': 1263, 'lun': 1350, 'ngại': 1671, '6k': 71, 'phomai': 1898, 'u_u': 2611, 'banh_trang': 158, 'den_noi': 727, 'ngai': 1607, 'hầu_như': 1110, '4h': 59, 'hau_nhu': 987, 'xinh': 2762, 'duy_nhất': 785, 'ts': 2503, '18k': 19, '3k': 51, 'tẹo': 2585, 'gian': 889, 'duy_nhat': 784, 'teo': 2200, 'đói': 2884, 'rủ': 2044, 'ru': 2011, 'sương': 2142, 'đậu_xanh': 2918, 'th': 2202, 'coment': 562, 'vâng': 2689, 'giải_quyết': 916, 'kiểm_tra': 1265, 'suong': 2121, 'dau_xanh': 712, 'giai_quyet': 885, 'kiem_tra': 1244, 'bở': 333, 'đùi': 2891, 'dui': 778, 'nhg': 1703, 'tiện': 2387, 'lượng': 1391, 'bực_mình': 340, 'buc_minh': 225, 'dặn': 818, 'dạo': 811, 'pr': 1937, 'để_ý': 2939, '20p': 29, 'tanh': 2187, 'gắt': 957, 'ý_định': 2842, 'de_y': 722, 'gat': 862, 'y_dinh': 2816, 'nước_lèo': 1822, 'tả': 2574, 'nuoc_leo': 1791, 'bịch': 320, 'mag': 1434, 'muỗng': 1513, 'bich': 192, 'muong': 1508, 'thà': 2296, '250k': 32, 'tưởng_tượng': 2567, 'tha': 2203, 'tuong_tuong': 2521, 'công_nhận': 619, 'xinh_xắn': 2765, 'thú_vị': 2313, 'thẳng': 2333, 'cong_nhan': 566, 'xinh_xan': 2763, 'thu_vi': 2276, 'buc': 224, 'ấm': 2981, 'mở_cửa': 1576, 'bàn_ghế': 247, 'mh': 1465, 'sức': 2165, 'ếch': 2988, 'gimbap': 893, 'thạch': 2319, 'pv': 1939, 'mo_cua': 1486, 'ban_ghe': 144, 'suc': 2115, 'ech': 837, 'thach': 2207, 'vt': 2669, 'khọt': 1236, 'khot': 1197, 'chồng': 519, 'vợ_chồng': 2723, 'kéo': 1272, 'hầm': 1108, '70k': 73, 'chong': 429, 'vo_chong': 2660, 'ham': 975, 'gogi': 930, 'thở': 2346, 'giới_thiệu': 924, 'lũ': 1384, 'đập': 2916, 'tho': 2259, 'gioi_thieu': 896, 'lu': 1343, 'rút': 2030, 'tránh': 2471, 'rut': 2019, 'tranh': 2428, '60k': 67, 'trẻ_con': 2490, 'cream': 569, 'mịn': 1564, 'nắp': 1834, 'cục': 669, '32k': 44, 'tre_con': 2434, 'nap': 1588, 'thức_ăn': 2349, 'mỏng': 1567, 'võ': 2697, 'thuc_an': 2279, '90k': 84, '90': 83, '60': 66, 'y_như': 2819, 'ép': 2834, 'dơ': 804, 'y_nhu': 2818, 'ep': 840, 'ăn_uống': 2845, 'ngã': 1665, 'tư': 2559, 'nước_ngoài': 1825, 'bánh_cuốn': 257, 'thực_khách': 2352, 'văn_hoá': 2699, 'boi': 212, 'an_uong': 112, 'nuoc_ngoai': 1794, 'banh_cuon': 152, 'thuc_khach': 2281, 'van_hoa': 2631, '7h': 76, 'xíu_mại': 2801, 'căn': 623, 'late': 1307, 'xiu_mai': 2767, 'khuyên': 1210, 'ít_nhất': 2836, '30p': 43, 'bê': 273, 'nốt': 1840, 'đòi': 2882, 'sát': 2135, 'khuyen': 1208, 'it_nhat': 1143, 'not': 1780, 'miền': 1480, 'giữa': 927, 'nước_ép': 1827, 'tình_cờ': 2542, 'lướt': 1389, 'code': 552, 'khuyến_mãi': 1211, 'giua': 902, 'nuoc_ep': 1790, 'tinh_co': 2373, '8h': 81, 'hầu_hết': 1109, 'nhiet': 1705, 'tình': 2541, 'chuỗi': 464, 'hau_het': 986, 'bình_luận': 278, 'xé': 2797, 'binh_luan': 200, 'cầu': 654, 'hội': 1130, 'mặt_bằng': 1558, 'vui_vẻ': 2679, 'mat_bang': 1445, 'vui_ve': 2678, 'mời': 1574, 'khoai_lang': 1184, 'dọc': 828, 'nhỏ_xíu': 1758, 'đợt': 2965, 'doc': 755, 'nho_xiu': 1714, 'dot': 767, 'bác': 251, 'bây_giờ': 267, 'như_vậy': 1739, 'bac': 130, 'bay_gio': 179, 'nhu_vay': 1718, 'đoạn': 2864, 'bà': 243, 'thực_đơn': 2357, 'nan': 1585, 'ấn': 2984, 'doan': 754, 'thuc_don': 2280, 'hoi_han': 1040, 'rửa': 2045, 'dầu_mỡ': 814, 'nhìn_chung': 1733, 'rua': 2012, 'dau_mo': 708, 'nhin_chung': 1709, 'nhắc': 1752, 'cố_tình': 662, 'bonus': 216, 'co_tinh': 548, 'tại_chỗ': 2569, 'lâu_dài': 1373, 'tai_cho': 2179, 'gon': 934, 'lau_dai': 1309, 'lộn': 1417, 'giữ': 926, 'giu': 901, 'đọc': 2944, 'kb': 1145, 'take': 2181, 'care': 373, 'tủ_lạnh': 2604, 'khuya': 1207, 'tu_lanh': 2505, 'nhãn': 1729, 'dâu': 792, 'mix': 1477, 'tận_tình': 2581, 'hien': 1011, 'tan_tinh': 2185, 'ăn_vặt': 2846, 'góp_ý': 952, 'nhận_xét': 1749, 'an_vat': 113, 'gop_y': 938, 'nhan_xet': 1691, 'caramen': 372, 'tiếp_theo': 2380, 'tuỳ': 2531, 'ken': 1150, 'bào': 248, 'loteria': 1340, 'tiep_theo': 2364, 'thien': 2244, 'thuc': 2278, 'dãy': 796, 'cóc': 616, 'toẹt': 2412, 'tuổi': 2530, 'toet': 2397, 'kế': 1281, 'nếm': 1837, 'gái': 945, 'gai': 858, 'bé_tí': 270, 'be_ti': 182, 'tín_đồ': 2544, 'gắp': 956, 'tin': 2371, 'nghêu': 1624, 'lạ_miệng': 1394, 'ngheu': 1617, 'la_mieng': 1291, 'mạng': 1544, 'ck': 535, 'giá_thành': 907, 'tap': 2189, 'hen': 999, 'gia_thanh': 881, 'kết_quả': 1284, '9k': 86, 'ket_qua': 1155, 'od': 1855, 'ngấm': 1672, 'quan_trọng': 1946, 'quan_trong': 1945, 'bufe': 227, 'quầy': 1973, 'lí': 1377, 'bởi': 334, 'tiết_kiệm': 2383, 'căng': 624, 'li': 1317, 'tiet_kiem': 2367, 'fod': 850, 'kính': 1277, 'may_mắn': 1456, 'chuẩn_bị': 462, 'tóc': 2546, 'thật_ra': 2329, 'tức': 2605, 'kinh': 1256, 'may_man': 1455, 'dim': 744, 'chuan_bi': 443, 'toc': 2395, 'that_ra': 2225, 'tuc': 2511, 'thue': 2287, 'hạt': 1103, 'hat': 984, 'nchung': 1593, 'nhun': 1721, 'xương': 2805, 'táo': 2536, 'ấm_áp': 2983, 'am_ap': 102, 'kẹp': 1280, 'chị_em': 515, 'kep': 1152, 'chi_em': 407, 'nấy': 1832, 'cảo': 650, 'hủ_tiếu': 1135, 'hu_tieu': 1061, 'bực': 339, 'ruoc': 2015, 'agheti': 90, 'uc': 2613, 'thực_tế': 2356, 'thuc_te': 2285, 'xi': 2756, '40': 52, 'cmt': 536, 'nghiền': 1622, 'dimsum': 745, 'team': 2198, '30': 41, 'kĩ': 1278, 'hy_vọng': 1074, 'cám_ơn': 604, 'ki': 1240, 'hy_vong': 1073, 'hutong': 1069, 'gia_vị': 883, 'gia_vi': 882, 'gốc': 963, 'cây': 609, 'lung_tung': 1353, 'ba_chỉ': 129, 'ba_chi': 128, 'trung_bình': 2455, 'trải_nghiệm': 2486, 'sửa': 2168, 'cửa_sổ': 677, 'khuất': 1213, 'chế_biến': 511, 'trung_binh': 2454, 'trai_nghiem': 2418, 'cua_so': 575, 'khuat': 1203, 'che_bien': 399, '1h': 22, 'tiếp_tục': 2381, 'tiep_tuc': 2365, 'đăng': 2893, 'thông_cảm': 2312, 'thong_cam': 2268, 'tat': 2190, 'né': 1807, 'hồ': 1126, 'lơ': 1385, 'bãi': 268, 'mắt': 1553, 'vòng': 2693, 'vong': 2666, 'xui': 2783, 'đại': 2902, 'má': 1520, 'kết': 1282, 'service': 2078, 'tóm': 2547, 'highly': 1016, 'ket': 1153, 'rưỡi': 2034, 'xem_lại': 2753, 'xem_lai': 2752, 'tách': 2534, 'hiện_tại': 1022, 'cảm_tình': 647, 'tach': 2177, 'hien_tai': 1013, 'cam_tinh': 359, '10h': 1, 'thay_vì': 2231, 'cải': 642, 'sàn': 2130, 'thay_vi': 2230, 'tac': 2176, 'ah': 91, 'cà_chua': 593, 'ca_chua': 342, 'bờ': 332, 'suy_nghĩ': 2126, 'suy_nghi': 2125, 'trẻ': 2489, 'hạ': 1102, 'phụ': 1929, 'sệt': 2155, 'cũg': 626, 'kỹ': 1289, 'cug': 579, 'túm': 2556, 'tum': 2515, 'đoàn': 2863, '15': 11, 'mía': 1531, 'triệu': 2441, 'mia': 1467, 'trieu': 2439, 'treo': 2437, '85k': 80, 'khắc_phục': 1235, 'khac_phuc': 1161, 'plan': 1935, 'ống': 2992, 'line': 1321, 'đống': 2948, 'khay': 1173, 'pha_chế': 1881, 'ưu_điểm': 2975, 'giải_thích': 917, 'pha_che': 1880, 'uu_diem': 2625, 'giai_thich': 886, 'hung': 1064, 'dừng': 835, 'thắc_mắc': 2331, '5p': 65, 'thac_mac': 2206, 'sắp': 2151, 'suốt': 2128, 'phản_ánh': 1924, 'nổi_bật': 1844, 'sap': 2064, 'suot': 2122, 'phan_anh': 1886, 'noi_bat': 1772, 'đêm': 2881, 'gau': 864, 'đôi': 2887, 'cơ_bản': 629, 'thu_gian': 2273, 'co_ban': 539, 'sumo': 2118, 'dã_man': 795, 'khó_tính': 1225, 'da_man': 683, 'kho_tinh': 1182, 'mẹ': 1560, 'người_yêu': 1670, 'rau_câu': 1988, 'xài': 2792, 'gòn': 949, 'trúng': 2480, 'tiêu': 2376, 'nguoi_yeu': 1652, 'rau_cau': 1987, 'xai': 2742, 'ton': 2404, 'tự_nhiên': 2610, 'tu_nhien': 2506, 'miễn': 1481, 'hn': 1024, 'xứng': 2813, 'xung': 2784, 'trường': 2483, 'truong': 2462, 'dưa_hấu': 807, 'dua_hau': 776, 'vỉ': 2713, '29': 36, 'hẹp': 1114, 'lỏng': 1414, 'kì': 1275, 'lấu': 1400, 'hep': 1002, 'dau_do': 706, 'luoi': 1355, 'tốn': 2591, 'sai': 2050, 'rung': 2014, 'ngao': 1611, 'hến': 1116, 'cn': 537, 'gân': 946, 'đành': 2870, 'quảng_cáo': 1971, 'quang_cao': 1949, 'pepsi': 1878, 'lèo_tèo': 1375, 'royal': 2009, 'city': 534, 'leo_teo': 1316, 'bớt': 331, 'bột': 328, 'bot': 218, 'kfc': 1157, 'bày': 249, 'trí': 2476, 'máy_lạnh': 1524, 'bay': 178, 'tri': 2438, 'may_lanh': 1454, 'sức_khoẻ': 2166, 'thiện_cảm': 2256, 'suc_khoe': 2116, 'thien_cam': 2245, 'phản_hồi': 1923, 'phan_hoi': 1887, 'tomyum': 2403, 'kimbab': 1249, 'leo': 1315, 'eo': 839, 'vãi': 2690, '1h30': 23, 'cao_su': 368, 'chủ_yếu': 529, '39k': 49, 'mật_ong': 1548, 'hq': 1059, '79k': 75, 'bắp_cải': 313, 'chu_yeu': 436, 'mat_ong': 1447, 'bap_cai': 171, 'sáng_sủa': 2133, 'sang_sua': 2059, 'chim': 415, 'rút_xương': 2031, 'rut_xuong': 2020, '6h': 70, 'tắc': 2582, '13': 8, 'đồng_ý': 2956, 'quát': 1965, 'dong_y': 766, 'gỏi': 962, 'bạch': 297, 'bổ': 326, 'bach': 132, '42k': 55, 'cơ_hội': 630, 'bù': 285, 'nhá': 1726, 'bánh_bèo': 255, 'co_hoi': 542, 'banh_beo': 150, 'cấp': 651, 'lo_lo': 1328, 'văn': 2698, 'hic': 1010, 'mồm': 1568, 'xách': 2795, 'ri': 2000, 'mom': 1490, 'xach': 2741, 'bì': 275, 'ốp': 2993, 'op': 1869, 'đồn': 2952, 'khoai_môn': 1186, 'khoai_mon': 1185, 'bánh_ướt': 264, 'banh_uot': 159, 'mắm_nêm': 1551, 'mam_nem': 1438, 'bắc': 311, 'udon': 2614, 'nhật': 1750, 'vậy_mà': 2707, 'chs': 431, 'vay_ma': 2638, 'khoe': 1191, 'ngoài_trời': 1646, 'thuốc': 2294, 'ngoai_troi': 1632, 'mỹ': 1581, 'khác_biệt': 1216, 'lote': 1339, 'hua': 1062, 'khac_biet': 1160, 'bánh_đa': 262, 'bún_riêu': 290, '3h': 50, 'thui': 2288, 'vui_tính': 2677, 'banh_da': 153, 'bun_rieu': 233, 'vui_tinh': 2676, 'chua_ngọt': 441, 'khách_ăn': 1220, 'chua_ngot': 440, 'khach_an': 1163, 'hongkong': 1046, 'thảo': 2320, 'thao': 2221, 'gián': 908, 'anh_em': 119, '18': 17, 'đồng_hồ': 2954, 'ni': 1763, 'đàng_hoàng': 2869, 'dong_ho': 763, 'dang_hoang': 697, 'ẩm_thực': 2987, 'am_thuc': 104, 'mũi': 1542, 'chúng_tôi': 485, 'chung_toi': 448, 'bia': 191, 'gioi': 895, 'ưa': 2972, 'vincom': 2650, 'ranh': 1982, 'lắc': 1407, 'nồng': 1842, '80': 78, 'bik': 196, 'đầu_tư': 2910, 'dau_tu': 711, 'chuyên': 457, 'đặc_sản': 2925, 'dac_san': 688, 'đi_lại': 2856, 'di_lai': 733, 'olong': 1861, 'dâu_tây': 793, 'dau_tay': 709, '14': 9, 'đảo': 2904, 'chính_xác': 480, 'chinh_xac': 418, 'bạch_tuộc': 298, 'bach_tuoc': 133, 'tok': 2399, 'đặc_trưng': 2927, 'ncl': 1594, 'coca': 551, 't2': 2174, 'dac_trung': 689, 'an_do': 106, 'ngâm': 1664, 'túi_tiền': 2555, 'xe_hơi': 2750, 'tui_tien': 2514, 'xe_hoi': 2749, 'vip': 2652, 'aeon': 88, 'về_phần': 2711, 'dưa': 805, 've_phan': 2641, 'bột_ngọt': 330, 'ốc_hương': 2991, 'bot_ngot': 220, 'oc_huong': 1854, 'đám': 2873, 'refil': 1997, 'trẻ_em': 2491, 'tre_em': 2435, 'tờ': 2599, 'quang': 1948, 'kimpap': 1253, 'vải': 2703, 'nhưg': 1740, 'nhug': 1720, 'khai_vị': 1169, 'bản': 301, 'ngoan': 1633, 'khai_vi': 1168, 'oke': 1860, 'tắt': 2583, 'hẹn': 1112, 'bạc_hà': 296, 'bac_ha': 131, 'cuu': 586, 'cf': 378, '19': 20, 'hào': 1081, 'tàu': 2533, 'màu_sắc': 1519, 'tái': 2535, 'há': 1083, 'tau': 2192, 'mau_sac': 1451, 'ồn_ào': 2995, 'cười': 638, 'on_ao': 1864, 'khai_trương': 1167, 'ngày_càng': 1661, 'khai_truong': 1166, 'ngay_cang': 1614, 'toa': 2392, 'dầm': 812, 'tụ_tập': 2600, 'tu_tap': 2507, 'ruốc': 2021, 'bltm': 206, 'sau_này': 2071, 'sau_nay': 2070, 'tý': 2557, 'cuong': 584, 'ty': 2532, 'mayonaise': 1457, 'thường_xuyên': 2317, 'no_nê': 1770, 'thuong_xuyen': 2293, 'no_ne': 1769, 'phúc': 1918, 'phuc': 1906, 'gongcha': 937, 'lẹ': 1409, 'khủng_khiếp': 1239, 'foam': 849, 'double': 768, 'khung_khiep': 1206, 'grab': 939, '2h': 38, 'cậu': 656, 'với_lại': 2722, 'voi_lai': 2664, 'sinh_tố': 2088, 'sinh_to': 2087, 'rv': 2024, 'lễ': 1410, 'co_chu': 540, 'sg': 2080, 'nghỉ': 1628, 'chờ_đợi': 523, 'cho_doi': 424, 'hotpot': 1051, 'there': 2238, 'staf': 2104, 'only': 1868, 'also': 100, 'is': 1141, 'as': 123, 'ruồi': 2022, 'tròn': 2477, 'tổng_thể': 2595, 'tong_the': 2407, 'xu': 2777, 'tử_tế': 2608, 'tu_te': 2508, 'hamburger': 976, 'tủ': 2603, 'cacao': 348, 'nhão': 1730, 'nhao': 1695, 'ý_kiến': 2841, 'y_kien': 2817, 'cơm_tấm': 636, 'com_tam': 559, 'baoh': 169, 'nét': 1808, 'net': 1602, 'hương': 1098, 'chặt': 510, '7k': 77, 'ngồi_bệt': 1679, 'ngoi_bet': 1635, 'tokb': 2400, 'haiz': 974, 'duy': 783, 'lọc': 1413, 'tp': 2413, 'loc': 1333, 'tràn_trề': 2467, 'xốp': 2812, 'tran_tre': 2423, 'xop': 2775, 'nâu': 1805, 'trời_ơi': 2496, 'troi_oi': 2446, 'nhen': 1702, 'tăng': 2558, 'nước_cốt': 1821, 'dây': 794, 'nuoc_cot': 1789, 'chổ': 520, 'soup': 2103, 'med': 1459, 'khoản': 1198, 'khoan': 1189, 'milk': 1471, 'thoáng_đãng': 2270, 'thoang_dang': 2262, 'lot': 1338, 'befsteak': 183, 'ăn_xin': 2847, 'an_xin': 114, 'lừa': 1424, 'trog': 2444, 'sốt_cay': 2160, 'sot_cay': 2102, 'lm': 1326, 'tương_đối': 2563, 'tuong_doi': 2519, 'trứng_muối': 2500, 'trung_muoi': 2456, 'tiramisu': 2375, 'đậu_đỏ': 2919, 'cốt': 664, 'hg': 1006, 'cot': 568, 'takoyaki': 2182, 'giọng': 922, 'chết': 512, 'chet': 405, 'lận': 1406, 'milo': 1472, 'map': 1443, 'bop': 217, 'phim': 1896, 'vũng_tàu': 2701, 'vung_tau': 2682, 'sầu_riêng': 2150, 'sau_rieng': 2072, 'thối': 2342, 'điện_thoại': 2862, 'đt': 2865, 'dien_thoai': 741, 'dt': 769, 'tiet': 2366, 'cake': 353, 'hekca': 997, 'ngàn': 1659, 'vốn': 2719, 'von': 2665, 'hanoi': 980, 'fai': 844, 'trôi': 2478, 'dì': 798, 'cay_cay': 377, 'dọn': 829, 'mò': 1533, 'đu_đủ': 2866, 'du_du': 771, 'king': 1255, 'seoul': 2077, 'nạc': 1829, 'nac': 1583, 'bok': 213, 'dịch': 825, 'dich': 737, 'bận': 309, 'tông': 2553, 'panchan': 1875, 'khung': 1205, 'tấm': 2575, 'thông_báo': 2311, 'ngta': 1647, 'thong_bao': 2267, 'vc': 2639, 'tạt': 2573, 'sướng': 2143, 'niêu': 1766, 'nieu': 1765, '350k': 46, 'chuong': 450, 'ac': 87, 'qa': 1940, '1k': 24, 'cô_chú': 618, 'tiết': 2382, 'hoá_đơn': 1057, 'rác': 2025, 'hoá_ra': 1056, 'hoa_ra': 1031, 'khinh': 1178, 'xog': 2772, 'lỡ': 1421, 'chăng': 488, 'salat': 2052, 'chậm_chạp': 504, 'cham_chap': 387, 'hẹn_hò': 1113, 'hen_ho': 1000, 'choco': 425, 'bye': 242, 'duc': 777, '28': 34, '9h': 85, 'soa': 2095, 'lười': 1390, 'đùa': 2890, '35': 45, 'xấu': 2807, 'xau': 2746, 'múc': 1540, 'nguội_ngắt': 1658, 'nguoi_ngat': 1650, 'con_trai': 564, 'kê': 1273, '150k': 12, 'lễ_phép': 1411, 'le_phep': 1313, 'sữa_đậu': 2172, 'sua_dau': 2112, 'must': 1509, 'đề_nghị': 2936, 'cánh_gà': 606, 'de_nghi': 719, 'canh_ga': 366, 'bốc': 325, '2018': 26, 'lang_thang': 1302, 'châm': 471, 'khu_vực': 1202, 'khu_vuc': 1201, 'lai_rai': 1294, 'xì': 2798, 'royaltea': 2010, 'highlands': 1015, 'quet': 1957, 'page': 1874, 'kimchi': 1251, 'phát_hiện': 1911, 'phat_hien': 1891, 'sashimi': 2066, 'training': 2419, 'deli': 724, 'tob': 2394, 'insta': 1139, 'quế': 1975, 'pasta': 1876, 'kimpab': 1252, 'sasin': 2067, 'huỷ': 1072, 'rate': 1984, 'huy': 1070, 'khét': 1222, 'khet': 1175, 'quảng': 1970, 'sale': 2053, 'bacon': 135, '28k': 35, 'ớn': 2997, 'bla': 205, 'gừng': 966, 'gung': 943, 'ip': 1140, 'xuc': 2781, 'xếp_hàng': 2810, 'xep_hang': 2755, 'sinh': 2084, 'big': 195, 'già': 904, 'kim_sa': 1248, 'xắt': 2808, 'xat': 2745, 'wc': 2731, 'rau_muống': 1991, 'rau_muong': 1990, 'seler': 2075, 'ai_ngờ': 94, 'ai_ngo': 93, 'bingsu': 197, 'lửa': 1426, 'rượu': 2035, 'ruou': 2018, 'house': 1052, 'khâu': 1221, 'khau': 1171, '2ng': 40, 'xofa': 2771, 'yum': 2826, 'soda': 2097, 'y_chang': 2815, 'ust': 2623, 'giảng': 920, 'giang': 890, 'cổng': 666, 'mocha': 1488, 'thanh_thanh': 2218, 'mal': 1436, 'cánh': 605, '16': 15, 'rơi': 2033, '38k': 48, 'camera': 360, 'airpay': 96, 'tip': 2374, 'realy': 1995, 'sum': 2117, 'loan': 1330, 'cg': 379}\n",
            "[4.03070163 6.85686649 4.31514698 ... 7.23291771 5.65888173 5.01182565]\n"
          ],
          "name": "stdout"
        }
      ]
    },
    {
      "cell_type": "code",
      "metadata": {
        "id": "NrtLtXKl09kc",
        "colab_type": "code",
        "colab": {
          "base_uri": "https://localhost:8080/",
          "height": 530
        },
        "outputId": "0d953ce3-5028-4c34-e68d-c7b2b40d5b0b"
      },
      "source": [
        "#Try some models\n",
        "classifiers = [\n",
        "            MultinomialNB(),\n",
        "            LogisticRegression(),\n",
        "            LinearSVC(),\n",
        "        ]\n",
        "model_undersampling = []\n",
        "for classifier in classifiers:\n",
        "    clf = classifier\n",
        "    model_undersampling.append(clf.fit(undersampling_vector_train, undersampling_y_train))\n",
        "    undersampling_y_pred = clf.predict(undersampling_vector_val)\n",
        "    report = metrics.classification_report(undersampling_y_val, undersampling_y_pred, labels=[1,0], digits=3)\n",
        "    print(report)\n"
      ],
      "execution_count": 64,
      "outputs": [
        {
          "output_type": "stream",
          "text": [
            "              precision    recall  f1-score   support\n",
            "\n",
            "           1      0.860     0.927     0.892      4934\n",
            "           0      0.923     0.854     0.888      5106\n",
            "\n",
            "   micro avg      0.890     0.890     0.890     10040\n",
            "   macro avg      0.892     0.891     0.890     10040\n",
            "weighted avg      0.892     0.890     0.890     10040\n",
            "\n"
          ],
          "name": "stdout"
        },
        {
          "output_type": "stream",
          "text": [
            "/usr/local/lib/python3.6/dist-packages/sklearn/linear_model/logistic.py:433: FutureWarning: Default solver will be changed to 'lbfgs' in 0.22. Specify a solver to silence this warning.\n",
            "  FutureWarning)\n"
          ],
          "name": "stderr"
        },
        {
          "output_type": "stream",
          "text": [
            "              precision    recall  f1-score   support\n",
            "\n",
            "           1      0.887     0.923     0.905      4934\n",
            "           0      0.923     0.886     0.904      5106\n",
            "\n",
            "   micro avg      0.904     0.904     0.904     10040\n",
            "   macro avg      0.905     0.905     0.904     10040\n",
            "weighted avg      0.905     0.904     0.904     10040\n",
            "\n",
            "              precision    recall  f1-score   support\n",
            "\n",
            "           1      0.881     0.907     0.894      4934\n",
            "           0      0.907     0.882     0.894      5106\n",
            "\n",
            "   micro avg      0.894     0.894     0.894     10040\n",
            "   macro avg      0.894     0.894     0.894     10040\n",
            "weighted avg      0.894     0.894     0.894     10040\n",
            "\n"
          ],
          "name": "stdout"
        }
      ]
    },
    {
      "cell_type": "markdown",
      "metadata": {
        "id": "XnL7kQYzGs-g",
        "colab_type": "text"
      },
      "source": [
        "## **Deploy to the website** "
      ]
    },
    {
      "cell_type": "code",
      "metadata": {
        "id": "zGQyY38o_ZOm",
        "colab_type": "code",
        "colab": {}
      },
      "source": [
        "filename = '/content/drive/My Drive/Colab Notebooks/sentiment_analysis/best_model.sav'\n",
        "loaded_model = pickle.load(open(filename, 'rb'))\n",
        "\n",
        "app = Flask(__name__, template_folder=r'/content/drive/My Drive/Colab Notebooks/sentiment_analysis')\n",
        "run_with_ngrok(app)  # Start ngrok when app is run\n",
        "# load the model from disk\n",
        "\n",
        "\n",
        "@app.route(\"/\")\n",
        "def home():\n",
        "    return render_template('home.html')\n",
        "\n",
        "@app.route('/predict',methods=['POST'])\n",
        "def predict():\n",
        "    if request.method == 'POST':\n",
        "        message = request.form['message']\n",
        "        data = [message]\n",
        "        data = normalize_text(data)\n",
        "        data = [data]\n",
        "        data = tfidf.transform(data)\n",
        "        my_prediction = 0\n",
        "        \n",
        "    return render_template('result.html',prediction = my_prediction)\n",
        "\n",
        "if __name__ == '__main__':\n",
        "    app.run()\n"
      ],
      "execution_count": null,
      "outputs": []
    }
  ]
}