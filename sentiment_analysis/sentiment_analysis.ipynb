{
  "nbformat": 4,
  "nbformat_minor": 0,
  "metadata": {
    "colab": {
      "name": "sentiment_analysis",
      "provenance": [],
      "collapsed_sections": [],
      "toc_visible": true,
      "mount_file_id": "1BqcF6hyMT2QmFW_sfN--56Xl9XygM1hC",
      "authorship_tag": "ABX9TyOyJOByFAH0KfLIhMkdb5MT",
      "include_colab_link": true
    },
    "kernelspec": {
      "name": "python3",
      "display_name": "Python 3"
    },
    "accelerator": "GPU"
  },
  "cells": [
    {
      "cell_type": "markdown",
      "metadata": {
        "id": "view-in-github",
        "colab_type": "text"
      },
      "source": [
        "<a href=\"https://colab.research.google.com/github/DatDoc/CS114.K21.KHTN/blob/master/sentiment_analysis/sentiment_analysis.ipynb\" target=\"_parent\"><img src=\"https://colab.research.google.com/assets/colab-badge.svg\" alt=\"Open In Colab\"/></a>"
      ]
    },
    {
      "cell_type": "markdown",
      "metadata": {
        "id": "2vIspnR4TJ2U",
        "colab_type": "text"
      },
      "source": [
        "# PHÂN TÍCH CẢM XÚC (SENTIMENT ANALYSIS)\n"
      ]
    },
    {
      "cell_type": "markdown",
      "metadata": {
        "id": "1tMDALc2Tafd",
        "colab_type": "text"
      },
      "source": [
        "## **Giới thiệu**"
      ]
    },
    {
      "cell_type": "markdown",
      "metadata": {
        "id": "_TGwvvigS0qv",
        "colab_type": "text"
      },
      "source": [
        "### 1.1 Đặt vấn đề\n",
        "Với sự phát triển của các trang buôn bán điện tử ngày nay thì việc thu thập đánh giá từ các bình luận của người dùng là rất cần thiết. Các bình luận của người dùng giúp cho các trang web dễ dàng lọc, đề xuất các mặt hàng, địa điểm phù hợp với từng người dùng và đánh giá chất lượng dịch vụ của các đối tác. Với hàng chục nghìn cho tới hàng trăm nghìn bình luận mỗi ngày hiện nay thì việc phân loại (tốt, xấu) cho các bình luận từ người dùng không phải là điều dễ dàng cần đòi hỏi rất nhiều nhân lực. Cùng sự phát triển của AI, hiện nay chúng ta có thể giải quyết bài toán này bằng các thuật toán và mô hình học sâu với độ chính xác cao tương đương với con người\n",
        "\n",
        "![picture](https://drive.google.com/uc?export=view&id=1M8Dzn2B3UsnrmCutB_w-u3JSfMJv5ytn)\n"
      ]
    },
    {
      "cell_type": "markdown",
      "metadata": {
        "id": "mU1hnvrDTW75",
        "colab_type": "text"
      },
      "source": [
        "### 1.2 Bài toán cụ thể\n",
        "\n",
        "\n",
        "- Trong assignment này, chúng ta tiếp cận bài toán phân tích cảm xúc (Sentiment Analysis) thông qua tập dữ liệu chứa các bình luận được crawl trực tiếp từ foody. Nếu nhìn theo kiểu black box, đầu vào của bài toán là một câu hoặc đoạn văn bản và đầu ra là trạng thái tích cực, tiêu cực hay trung hoà (positive - negative - neutral). Trong phạm vi của assignment này, chúng ta chỉ quan tâm đến hai trạng thái cảm xúc là positive và negative.\n",
        "\n",
        "![caption](https://drive.google.com/uc?export=view&id=1cg-W4IXMKP9jfpCcADKXqXwpgEV19I-f)\n",
        "\n",
        "- Dataset chứa hơn 61.870 bình luận và điểm đánh giá của mỗi bình luận đó trên thang điểm từ 0.0 đến 10.0. Download bộ dữ liệu tại https://github.com/DatDoc/CS114.K21.KHTN/tree/master/sentiment_analysis\n",
        "\n",
        "\n",
        "- Để bộ dữ liệu phù hợp với bài toán là đánh giá cảm xúc tiêu cực hay tích cực, nên trong bước tiền xử lý dữ liệu, các bình luận được đánh giá >= 8.0 thì sẽ được gán nhãn tích cực (1), các bình luận được đánh giá <= 5.0 thì được gán nhãn tiêu cực (0). Do đó số lượng bình luận trong bộ dữ liệu sẽ bị giảm xuống còn 34.985 bình luận bao gồm 8366 bình luận tiêu cực và 26619 bình luận tích cực.\n",
        "\n",
        "- Các bước thực hiện bao gồm:\n",
        "\n",
        ">1.   Tiền xử lý dữ liệu (preprocessing)\n",
        "2.   Đúc trích đặc trưng (Feature Engineering)\n",
        "3.   Lựa chọn thuật toán máy học\n",
        "4.   Cài đặt, tinh chỉnh tham số\n",
        "5.   Đánh giá kết quả, kết luận\n",
        "\n",
        "\n",
        "\n",
        "\n",
        "\n",
        "\n",
        " \n",
        "\n",
        "\n"
      ]
    },
    {
      "cell_type": "markdown",
      "metadata": {
        "id": "eGtYo9q7lwxb",
        "colab_type": "text"
      },
      "source": [
        "## Xây dựng kế hoạch giải quyết bài toán"
      ]
    },
    {
      "cell_type": "markdown",
      "metadata": {
        "id": "-q7Id6yWmMzf",
        "colab_type": "text"
      },
      "source": [
        "#### 2.1 Phân tích bài toán dưới góc nhìn Word Vectors"
      ]
    },
    {
      "cell_type": "markdown",
      "metadata": {
        "id": "F_zrJtUymThv",
        "colab_type": "text"
      },
      "source": [
        "Nếu như chúng ta giữ nguyên định dạng đầu vào là chuỗi ký tự thì rất khó để thực hiện các thao tác biến đổi như tích vô hướng (dot product) hoặc các thuật toán trên mạng neural network như backpropagation. Thay vì dữ liệu đầu vào là một chuỗi, chúng ta cần chuyển đổi các từ trong tập từ điển sang dạng vector số học trong đó có thể thực hiện được các phép toán nêu trên.\n",
        "\n",
        "![Word2Vec](https://drive.google.com/uc?export=view&id=12xKP6pFzDzj-0ToZX-27RjOhRcMFrfeb)\n",
        "\n",
        "Trong hình minh hoạ ở trên, ta có thể hình dung dữ liệu đầu vào của thuật toán phân tích cảm xúc là một ma trận 16 x D chiều. Trong đó 16 là số lượng từ trong câu và D là số chiều của không gian vector để biểu diễn từ. Để ánh xạ từ một từ sang một vector, chúng ta sử dụng ma trận word embedding như đã thực hiện."
      ]
    },
    {
      "cell_type": "markdown",
      "metadata": {
        "id": "BTnnL_JumZay",
        "colab_type": "text"
      },
      "source": [
        "####2.2 Phân tích bài toán dưới góc nhìn TF IDF"
      ]
    },
    {
      "cell_type": "markdown",
      "metadata": {
        "id": "HvOOh_0YmdTy",
        "colab_type": "text"
      },
      "source": [
        "TF-IDF (Term Frequency – Inverse Document Frequency) là 1 kĩ thuật sử dụng trong khai phá dữ liệu văn bản. Trọng số này được sử dụng để đánh giá tầm quan trọng của một từ trong một văn bản. Giá trị cao thể hiện độ quan trọng cao và nó phụ thuộc vào số lần từ xuất hiện trong văn bản nhưng bù lại bởi tần suất của từ đó trong tập dữ liệu. Một vài biến thể của tf-idf thường được sử dụng trong các hệ thống tìm kiếm như một công cụ chính để đánh giá và sắp xếp văn bản dựa vào truy vấn của người dùng.  Tf-idf cũng được sử dụng để lọc những từ stopwords trong các bài toán như tóm tắt văn bản và phân loại văn bản."
      ]
    },
    {
      "cell_type": "markdown",
      "metadata": {
        "id": "5Zg6jnPgt69D",
        "colab_type": "text"
      },
      "source": [
        "###2.3 Cài đặt các thư viện\n"
      ]
    },
    {
      "cell_type": "markdown",
      "metadata": {
        "id": "qxTxdEHEOgHv",
        "colab_type": "text"
      },
      "source": [
        "underthesea là thư viện dành riêng cho việc xử lý ngôn ngữ tự nhiên Tiếng Việt, em sử dụng thư viện này cho việc tách từ(word segmentation).\n"
      ]
    },
    {
      "cell_type": "code",
      "metadata": {
        "id": "7rD6U9rNZEZG",
        "colab_type": "code",
        "colab": {}
      },
      "source": [
        "pip install underthesea"
      ],
      "execution_count": null,
      "outputs": []
    },
    {
      "cell_type": "markdown",
      "metadata": {
        "id": "mwPKe3VhPata",
        "colab_type": "text"
      },
      "source": [
        "flask-ngrok là 1 cách đơn giản hơn để demo ứng dụng sử dụng thư viện flask. Nếu sử dụng flask thông thường trên google colab, ta phải tạo port ảo để ứng dụng có thể chạy trên localhost ảo mà ta tạo ra. Còn đối với flask-ngrok, ứng dụng flask có thể chạy trên localhost có sẵn qua internet thông qua công cụ ngrok."
      ]
    },
    {
      "cell_type": "code",
      "metadata": {
        "id": "caabFibW2ShC",
        "colab_type": "code",
        "colab": {}
      },
      "source": [
        "pip install flask-ngrok"
      ],
      "execution_count": null,
      "outputs": []
    },
    {
      "cell_type": "markdown",
      "metadata": {
        "id": "5tFcLOZAdUvH",
        "colab_type": "text"
      },
      "source": [
        "###2.4 Import các thư viện cần thiết"
      ]
    },
    {
      "cell_type": "code",
      "metadata": {
        "id": "B2JVm_NOdWLA",
        "colab_type": "code",
        "colab": {
          "base_uri": "https://localhost:8080/",
          "height": 71
        },
        "outputId": "808f4283-2b53-4f01-d4a1-ed6473004440"
      },
      "source": [
        "from sklearn import metrics\n",
        "from sklearn.feature_extraction.text import TfidfVectorizer\n",
        "from sklearn.model_selection import train_test_split, cross_val_score, GridSearchCV, RepeatedStratifiedKFold\n",
        "from sklearn.svm import LinearSVC, SVC\n",
        "from sklearn.naive_bayes import MultinomialNB\n",
        "from sklearn.linear_model import LogisticRegression\n",
        "import tensorflow as tf\n",
        "from tensorflow.keras.preprocessing.text import Tokenizer\n",
        "from tensorflow.keras.preprocessing.sequence import pad_sequences\n",
        "from tensorflow.keras.models import Sequential\n",
        "from tensorflow.keras.layers import Embedding, Flatten, Dense\n",
        "import matplotlib.pyplot as plt\n",
        "import pandas as pd\n",
        "import numpy as np\n",
        "import seaborn as sns\n",
        "import io\n",
        "from underthesea import word_tokenize\n",
        "import re\n",
        "import sys\n",
        "import string\n",
        "import codecs\n",
        "import itertools\n",
        "import pickle\n",
        "from flask import Flask, render_template, request\n",
        "from flask_ngrok import run_with_ngrok"
      ],
      "execution_count": null,
      "outputs": [
        {
          "output_type": "stream",
          "text": [
            "/usr/local/lib/python3.6/dist-packages/statsmodels/tools/_testing.py:19: FutureWarning: pandas.util.testing is deprecated. Use the functions in the public API at pandas.testing instead.\n",
            "  import pandas.util.testing as tm\n"
          ],
          "name": "stderr"
        }
      ]
    },
    {
      "cell_type": "markdown",
      "metadata": {
        "id": "gWE_AD55dpny",
        "colab_type": "text"
      },
      "source": [
        "## Phân tích dữ liệu"
      ]
    },
    {
      "cell_type": "markdown",
      "metadata": {
        "id": "Cy2L-ynJlSuP",
        "colab_type": "text"
      },
      "source": [
        "###3.1 Load tập dữ liệu \n"
      ]
    },
    {
      "cell_type": "code",
      "metadata": {
        "id": "2768LKhVlTI-",
        "colab_type": "code",
        "colab": {
          "base_uri": "https://localhost:8080/",
          "height": 221
        },
        "outputId": "2220180c-3864-4601-c919-76f1bb38da9e"
      },
      "source": [
        "df = pd.read_excel(\"/content/drive/My Drive/Colab Notebooks/sentiment_analysis/foody-dataset.xlsx\")\n",
        "print(df.head(10))\n",
        "print(df.shape)"
      ],
      "execution_count": null,
      "outputs": [
        {
          "output_type": "stream",
          "text": [
            "                                            comments  ratings\n",
            "0                                      Mì quảng ngon     10.0\n",
            "1  Quán sạch sẽ, chủ quán vui vẻ, giá rất ok Mình...     10.0\n",
            "2  Trời sg mấy nay nóng bức ko muốn ăn cơm, thấy ...      7.4\n",
            "3     Ngon, vừa tiền, hương vị đậm chất miền trung,,      8.6\n",
            "4  Bơ đúng ngon. Nghe đâu bơ quê siêu sạch không ...     10.0\n",
            "5  Nghỉ tết dài hạn , nay vào lại tp nên đặt món ...      7.6\n",
            "6  Quán làm ăn có tâm. Hôm nay mình order bánh tr...      9.2\n",
            "7  Quán xá ở Tân Phú đóng cửa hết rồi, may mắn Ta...     10.0\n",
            "8  Mì quảng ngon, mít trộn ngon, bánh tráng thịt ...     10.0\n",
            "9  Mình order 2 lần rồi. mít trộn và bánh tráng t...      9.2\n",
            "(61870, 2)\n"
          ],
          "name": "stdout"
        }
      ]
    },
    {
      "cell_type": "markdown",
      "metadata": {
        "id": "vqV75Zuplffb",
        "colab_type": "text"
      },
      "source": [
        "###3.2 Loại bỏ các bình luận có điểm số > 5.0 và < 8.0 và gán nhãn tích cực(1) cho những bình luận >= 8.0, tiêu cực(0) cho những bình luận <= 5.0"
      ]
    },
    {
      "cell_type": "code",
      "metadata": {
        "id": "dQ-EktgKa__s",
        "colab_type": "code",
        "colab": {
          "base_uri": "https://localhost:8080/",
          "height": 221
        },
        "outputId": "9fe532c2-65c6-4b0c-f726-05731c85ca2d"
      },
      "source": [
        "df = df[((df[\"ratings\"] <= 5.0) | (df[\"ratings\"] >= 8.0))] # remove the neutral comments (5 < x < 8)\n",
        "df.loc[df[\"ratings\"] <= 5, \"ratings\"] = 0\n",
        "df.loc[df[\"ratings\"] >= 8, \"ratings\"] = 1\n",
        "df[\"ratings\"] = df[\"ratings\"].astype(int)\n",
        "\n",
        "df.reset_index(inplace=True)\n",
        "df = df.drop(\"index\", axis= 1)\n",
        "print(df.head(10))\n",
        "print(df.shape)"
      ],
      "execution_count": null,
      "outputs": [
        {
          "output_type": "stream",
          "text": [
            "                                            comments  ratings\n",
            "0                                      Mì quảng ngon        1\n",
            "1  Quán sạch sẽ, chủ quán vui vẻ, giá rất ok Mình...        1\n",
            "2     Ngon, vừa tiền, hương vị đậm chất miền trung,,        1\n",
            "3  Bơ đúng ngon. Nghe đâu bơ quê siêu sạch không ...        1\n",
            "4  Quán làm ăn có tâm. Hôm nay mình order bánh tr...        1\n",
            "5  Quán xá ở Tân Phú đóng cửa hết rồi, may mắn Ta...        1\n",
            "6  Mì quảng ngon, mít trộn ngon, bánh tráng thịt ...        1\n",
            "7  Mình order 2 lần rồi. mít trộn và bánh tráng t...        1\n",
            "8  Đã tới ăn , vị ổn , nhưng mình tưởng như hình ...        0\n",
            "9  Mì gà rất ngon. Ga ta siêu ngon không mỡ không...        1\n",
            "(34985, 2)\n"
          ],
          "name": "stdout"
        }
      ]
    },
    {
      "cell_type": "code",
      "metadata": {
        "id": "IhWe0TSD5Jw9",
        "colab_type": "code",
        "colab": {
          "base_uri": "https://localhost:8080/",
          "height": 330
        },
        "outputId": "b52d188e-d8d5-46d5-bf2b-ccfc7ad60ad2"
      },
      "source": [
        "sns.countplot(x='ratings', data=df)\n",
        "print(df['ratings'].value_counts())"
      ],
      "execution_count": null,
      "outputs": [
        {
          "output_type": "stream",
          "text": [
            "1    26619\n",
            "0     8366\n",
            "Name: ratings, dtype: int64\n"
          ],
          "name": "stdout"
        },
        {
          "output_type": "display_data",
          "data": {
            "image/png": "[encoded data removed]",
            "text/plain": [
              "<Figure size 432x288 with 1 Axes>"
            ]
          },
          "metadata": {
            "tags": [],
            "needs_background": "light"
          }
        }
      ]
    },
    {
      "cell_type": "markdown",
      "metadata": {
        "id": "j-k1y-OUUE5Z",
        "colab_type": "text"
      },
      "source": [
        "Sau khi visualize dữ liệu thì ta thấy dữ liệu bị imbalance, em sẽ xử lý trường hợp imbalance này ở gần cuối để có thể có cái nhìn tổng quát hơn trong việc so sánh kết quả giữa việc không xử lý imbalance và xử lý imbalance "
      ]
    },
    {
      "cell_type": "markdown",
      "metadata": {
        "id": "5oX8n0w_l1iV",
        "colab_type": "text"
      },
      "source": [
        "###3.3 Tiền xử lý dữ liệu\n",
        "\n",
        "* Dữ liệu bình luận (văn nói) nên người dùng thường không quan \n",
        "tâm đến chữ hoa thường khi gõ, đưa hết về lowercase.\n",
        "* Loại bỏ những ký tự kéo dài: Ví dụ: Món này ngon quáaaaaaaa--> Món này ngon quá.\n",
        "* Tiếng Việt có 2 cách bỏ dấu nên đưa về 1 chuẩn. Ví dụ, chữ \"Hòa\" và \"Hoà\" đều được chấp nhận trong tiếng Việt. Ngoài ra còn một số trường hợp lỗi font chữ cũng cần chuẩn hóa lại. (các trường hợp dính chữ như: \"Giao hàngnhanh\" xử ý đc sẽ tốt hơn).\n",
        "* Chuẩn hóa một số sentiment word: \"okie\"-->\"ok\", \"okey\"-->\"ok\", authentic--> \"chuẩn chính hãng\",vv...\n",
        "* Emoji quy về 2 loại: emojs mang ý nghĩa tích cực (positive): '💯','💗' và emojs mang nghĩa tiêu cực (negative): '👎','😣'.\n",
        "* Loại bỏ dấu câu (puntuations) và các ký tự nhiễu.\n",
        "* Augmentation data bằng cách thêm vào các sample của chính tập train nhưng không dấu. (Bình luận không dấu khá phổ biến).\n",
        "\n"
      ]
    },
    {
      "cell_type": "markdown",
      "metadata": {
        "id": "9ujCsYw0pTZq",
        "colab_type": "text"
      },
      "source": [
        "####3.3.1 Loại bỏ các ký tự lặp lại"
      ]
    },
    {
      "cell_type": "code",
      "metadata": {
        "id": "bHjhMidKVfUr",
        "colab_type": "code",
        "colab": {}
      },
      "source": [
        "def remove_repeat_char(text):\n",
        "  text = re.compile(r'(.)\\1{1,}', re.IGNORECASE).sub(r'\\1', str(text))\n",
        "  return text"
      ],
      "execution_count": null,
      "outputs": []
    },
    {
      "cell_type": "code",
      "metadata": {
        "id": "toQIXO7PpbLB",
        "colab_type": "code",
        "colab": {
          "base_uri": "https://localhost:8080/",
          "height": 51
        },
        "outputId": "b70c9bee-8f34-4f72-e3dc-a8739bc134e0"
      },
      "source": [
        "input = \"Món này ngon quáaaaaaaaa :)) Trà sữa thì không tệ 🧋 <3 \\n. Mời các bạn ghé thăm quán tại trang web foody.com\"\n",
        "input = remove_repeat_char(input)\n",
        "print(input)"
      ],
      "execution_count": null,
      "outputs": [
        {
          "output_type": "stream",
          "text": [
            "Món này ngon quáa :) Trà sữa thì không tệ 🧋 <3 \n",
            ". Mời các bạn ghé thăm quán tại trang web fody.com\n"
          ],
          "name": "stdout"
        }
      ]
    },
    {
      "cell_type": "markdown",
      "metadata": {
        "id": "7pbWX9-bAGCh",
        "colab_type": "text"
      },
      "source": [
        "####3.3.2 Chuẩn hóa về ký tự in thường"
      ]
    },
    {
      "cell_type": "code",
      "metadata": {
        "id": "PFi7-8IdWRv5",
        "colab_type": "code",
        "colab": {}
      },
      "source": [
        "def lowercase(text):\n",
        "  return text.lower()"
      ],
      "execution_count": null,
      "outputs": []
    },
    {
      "cell_type": "code",
      "metadata": {
        "id": "CribJmvQb017",
        "colab_type": "code",
        "colab": {
          "base_uri": "https://localhost:8080/",
          "height": 51
        },
        "outputId": "ff030ad1-0685-483b-8ee9-d6d331a6a3d0"
      },
      "source": [
        "input = lowercase(input)\n",
        "print(lowercase(input))"
      ],
      "execution_count": null,
      "outputs": [
        {
          "output_type": "stream",
          "text": [
            "món này ngon quáa :) trà sữa thì không tệ 🧋 <3 \n",
            ". mời các bạn ghé thăm quán tại trang web fody.com\n"
          ],
          "name": "stdout"
        }
      ]
    },
    {
      "cell_type": "markdown",
      "metadata": {
        "id": "t7FNv_92ARE0",
        "colab_type": "text"
      },
      "source": [
        "####3.3.3 Chuẩn hóa dấu câu và từ viết tắt trong Tiếng Việt"
      ]
    },
    {
      "cell_type": "code",
      "metadata": {
        "id": "-KCt0Im9ZPSj",
        "colab_type": "code",
        "colab": {}
      },
      "source": [
        "def normalize_word(text):\n",
        "  replace_list = {\n",
        "        #Chuẩn hóa các kí tự kéo dài đặc biệt vd : quáaaaaa -> quá\n",
        "        'íi' : 'í', 'ìi' : 'ì', 'ỉi' : 'ỉ', 'ĩi':'ĩ', 'áa':'á', 'àa' : 'à', 'ảa' : 'ả', 'ãa' : 'ã', 'âa' :'â', 'ầa' : 'ầ', 'ấa' : 'ấ', 'ẩa' : 'ẩ', 'ẫa' : 'ẫ',\n",
        "        'ée' : 'é' , 'èe' : 'è', 'ẻe' : 'ẻ', 'ẽe' : 'ẽ' , 'êe' : 'ê', 'ếe' : 'ế', 'ềe' : 'ề', 'ểe' : 'ể', 'ễe' : 'ễ', 'ềê' : 'ề', 'ếê' : 'ế', 'ểê' : 'ể', 'ễê' : 'ễ',\n",
        "        'ôo' : 'ô', 'ồo' : 'ồ' , 'ốo' : 'ố', 'ồo' : 'ồ' , 'ổo':'ổ', 'ỗo' : 'ỗ', 'ồô' : 'ồ', 'ốô' : 'ố', 'ổô' : 'ổ', 'ỗô' : 'ỗ',\n",
        "        'ờo' : 'ờ', 'ớo' :'ớ', 'ởo' : 'ở', 'ỡo' : 'ỡ', 'ờơ' : 'ờ', 'ớơ' : 'ớ', 'ởơ' : 'ở', 'ỡơ' : 'ỡ',\n",
        "        'ùu' :'ù', 'úu' : 'ú', 'ủu' :'ủ', 'ũu' : 'ũ', 'ừư' : 'ừ', 'ứư' : 'ứ', 'ửư' : 'ử', 'ữư' : 'ữ',\n",
        "        'ýy' :'ý', 'ỳy' : 'ỳ', 'ỷy' : 'ỷ', 'ỹy' : 'ỹ',\n",
        "        #Chuẩn hóa các vị trí của dấu câu\n",
        "        'òa': 'oà', 'óa': 'oá', 'ỏa': 'oả', 'õa': 'oã', 'ọa': 'oạ', 'òe': 'oè', 'óe': 'oé','ỏe': 'oẻ',\n",
        "        'õe': 'oẽ', 'ọe': 'oẹ', 'ùy': 'uỳ', 'úy': 'uý', 'ủy': 'uỷ', 'ũy': 'uỹ','ụy': 'uỵ', 'uả': 'ủa',\n",
        "        'ả': 'ả', 'ố': 'ố', 'u´': 'ố','ỗ': 'ỗ', 'ồ': 'ồ', 'ổ': 'ổ', 'ấ': 'ấ', 'ẫ': 'ẫ', 'ẩ': 'ẩ',\n",
        "        'ầ': 'ầ', 'ỏ': 'ỏ', 'ề': 'ề','ễ': 'ễ', 'ắ': 'ắ', 'ủ': 'ủ', 'ế': 'ế', 'ở': 'ở', 'ỉ': 'ỉ',\n",
        "        'ẻ': 'ẻ', 'àk': u' à ','aˋ': 'à', 'iˋ': 'ì', 'ă´': 'ắ','ử': 'ử', 'e˜': 'ẽ', 'y˜': 'ỹ', 'a´': 'á',\n",
        "        #Quy các icon về 2 loại emoj: Tích cực hoặc tiêu cực\n",
        "        \"👹\": \" negative \", \"👻\": \" positive \", \"💃\": \" positive \",'🤙': ' positive ', '👍': ' positive ', '🥰' : \" positive \", \"=)\" : ' positive ',\n",
        "        \"💄\": \" positive \", \"💎\": \" positive \", \"💩\": \" positive \",\"😕\": \" negative \", \"😱\": \" negative \", \"😸\": \" positive \",\n",
        "        \"😾\": \" negative \", \"🚫\": \" negative \",  \"🤬\": \" negative \",\"🧚\": \" positive \", \"🧡\": \" positive \",'🐶': ' positive ',\n",
        "        '👎': ' negative ', '😣': ' negative ','✨': ' positive ', '❣': ' positive ','☀': ' positive ', '😅' : ' positive ',\n",
        "        '♥': ' positive ', '🤩': ' positive ', 'like': ' positive ', '💌': ' positive ', '^^' : ' positive ',\n",
        "        '🤣': ' positive ', '🖤': ' positive ', '🤤': ' positive ', ':(': ' negative ', '😢': ' negative ',\n",
        "        '❤': ' positive ', '😍': ' positive ', '😘': ' positive ', '😪': ' negative ', '😊': ' positive ',\n",
        "        '?': ' ? ', '😁': ' positive ', '💖': ' positive ', '😟': ' negative ', '😭': ' negative ',\n",
        "        '💯': ' positive ', '💗': ' positive ', '♡': ' positive ', '💜': ' positive ', '🤗': ' positive ',\n",
        "        '^^': ' positive ', '😨': ' negative ', '☺': ' positive ', '💋': ' positive ', '👌': ' positive ',\n",
        "        '😖': ' negative ', '😀': ' positive ', ':(': ' negative ', '😡': ' negative ', '😠': ' negative ',\n",
        "        '😒': ' negative ', '🙂': ' positive ', '😏': ' negative ', '😝': ' positive ', '😄': ' positive ',\n",
        "        '😙': ' positive ', '😤': ' negative ', '😎': ' positive ', '😆': ' positive ', '💚': ' positive ',\n",
        "        '✌': ' positive ', '💕': ' positive ', '😞': ' negative ', '😓': ' negative ', '️🆗️': ' positive ',\n",
        "        '😉': ' positive ', '😂': ' positive ', ':v': '  positive ', '=)': '  positive ', '😋': ' positive ', ':-)' : ' positive ', ':)': '  positive ', ':>': ' positive ', ':-]' : ' positive ' ,\n",
        "        '💓': ' positive ', '😐': ' negative ', ':3': ' positive ', '😫': ' negative ', '😥': ' negative ',\n",
        "        '😃': ' positive ', '😬': ' 😬 ', '😌': ' 😌 ', '💛': ' positive ', '🤝': ' positive ', '🎈': ' positive ',\n",
        "        '😗': ' positive ', '🤔': ' negative ', '😑': ' negative ', '🔥': ' negative ', '🙏': ' negative ',\n",
        "        '🆗': ' positive ', '😻': ' positive ', '💙': ' positive ', '💟': ' positive ',\n",
        "        '😚': ' positive ', '❌': ' negative ', '👏': ' positive ', ';)': ' positive ', '<3': ' positive ',\n",
        "        '🌝': ' positive ',  '🌷': ' positive ', '🌸': ' positive ', '🌺': ' positive ',\n",
        "        '🌼': ' positive ', '🍓': ' positive ', '🐅': ' positive ', '🐾': ' positive ', '👉': ' positive ',\n",
        "        '💐': ' positive ', '💞': ' positive ', '💥': ' positive ', '💪': ' positive ',\n",
        "        '💰': ' positive ',  '😇': ' positive ', '😛': ' positive ', '😜': ' positive ',\n",
        "        '🙃': ' positive ', '🤑': ' positive ', '🤪': ' positive ','☹': ' negative ',  '💀': ' negative ',\n",
        "        '😔': ' negative ', '😧': ' negative ', '😩': ' negative ', '😰': ' negative ', '😳': ' negative ',\n",
        "        '😵': ' negative ', '😶': ' negative ', '🙁': ' negative ',\n",
        "        #Chuẩn hóa 1 số sentiment words/English words\n",
        "        'ô kêi': ' ok ', 'okie': ' ok ', ' o kê ': ' ok ',\n",
        "        'okey': ' ok ', 'ôkê': ' ok ', 'oki': ' ok ', ' oke ':  ' ok ',' okay':' ok ','okê':' ok ', 'okela' : ' ok ', \n",
        "        ' tks ': u' cám ơn ', 'thks': u' cám ơn ', 'thanks': u' cám ơn ', 'ths': u' cám ơn ', 'thank': u' cám ơn ',\n",
        "        '⭐': ' star ', '*': ' star ', '🌟': ' star ', '🎉': u' positive ', 'great' : u' tuyệt ',\n",
        "        'kg ': u' không ','not': u' không ', u' kg ': u' không ', '\"k ': u' không ',' kh ':u' không ','kô':u' không ','hok':u' không ',' kp ': u' không phải ',u' kô ': u' không ', '\"ko ': u' không ', u' ko ': u' không ', u' k ': u' không ', 'khong': u' không ', u' hok ': u' không ', 'khôg' : u' không ',\n",
        "        'he he': ' positive ','hehe': ' positive ','hihi': ' positive ', 'haha': ' positive ', 'hjhj': ' positive ', 'hí hí': ' positive ', 'ha ha':' positive ','hi hi' : 'positive',\n",
        "        ' lol ': ' negative ',' cc ': ' negative ', ' đm ': ' negative ','cute': u' dễ thương ','huhu': ' negative ', ' vs ': u' với ', 'wa': ' quá ', 'wá': u' quá', 'j': u' gì ', '“': ' ',\n",
        "        ' sz ': u' cỡ ', 'size': u' cỡ ', u' đx ': u' được ', 'dk': u' được ', 'dc': u' được ', 'đk': u' được ', \n",
        "        'đc': u' được ','authentic': u' chuẩn chính hãng ',u' aut ': u' chuẩn chính hãng ', u' auth ': u' chuẩn chính hãng ', 'thick': u' positive ', 'store': u' cửa hàng ',\n",
        "        'shop': u' cửa hàng ', 'sp': u' sản phẩm ', 'gud': u' tốt ','god': u' tốt ','wel done':' tốt ', 'good': u' tốt ', 'gút': u' tốt ',\n",
        "        'sấu': u' xấu ','gut': u' tốt ', u' tot ': u' tốt ', u' nice ': u' tốt ', 'perfect': 'rất tốt', 'bt': u' bình thường ',\n",
        "        'time': u' thời gian ', 'qá': u' quá ', u' ship ': u' giao hàng ', u' m ': u' mình ', u' mik ': u' mình ', 'chil' : ' thư giản ',\n",
        "        'ể': 'ể', 'product': 'sản phẩm', 'quality': 'chất lượng','chat':' chất ', 'excelent': ' hoàn hảo ', 'bad': ' tệ ','fresh': ' tươi ','sad': ' tệ ',\n",
        "        'date': u' hạn sử dụng ', 'hsd': u' hạn sử dụng ','quickly': u' nhanh ', 'quick': u' nhanh ','fast': u' nhanh ','delivery': u' giao hàng ',u' síp ': u' giao hàng ',\n",
        "        'beautiful': u' đẹp tuyệt vời ', u' tl ': u' trả lời ', u' r ': u' rồi ', u' shopE ': u' cửa hàng ',u' order ': u' đặt hàng ', 'ord' : ' đặt hàng ',\n",
        "        'chất lg': u' chất lượng ',u' sd ': u' sử dụng ',u' dt ': u' điện thoại ',u' nt ': u' nhắn tin ',u' tl ': u' trả lời ',u' sài ': u' xài ',u'bjo':u' bao giờ ', \n",
        "        'thik': u' thích ',u' sop ': u' cửa hàng ', ' fb ': ' facebook ', ' face ': ' facebook ', ' very ': u' rất ','qủa' : u' quả ' ,u'quả ng ':u' quảng ',\n",
        "        'dep': u' đẹp ',u' xau ': u' xấu ','delicious': u' ngon ', u'hàg': u' hàng ', '&' : ' và ', 'cool' : u' tuyệt ', 'tsua' : ' trà sữa ', 'mn' : ' mọi người ',\n",
        "        'iu': u' yêu ','fake': u' giả mạo ', 'trl': 'trả lời', '><': u' positive ', 'bil' : u' hóa đơn ', 'awesome' : ' tuyệt vời ', \n",
        "        ' por ': u' tệ ', 'rep':u' trả lời ',u'fback':' feedback ','fedback':' feedback ', 'awful' : u' tệ ', 'hssv' : ' học sinh sinh viên ', 'cofe' : ' cà phê '\n",
        "        }\n",
        "\n",
        "  for k, v in replace_list.items():\n",
        "    text = text.replace(k, v)\n",
        "  return text"
      ],
      "execution_count": null,
      "outputs": []
    },
    {
      "cell_type": "code",
      "metadata": {
        "id": "8u1TnL_zc2Dm",
        "colab_type": "code",
        "colab": {
          "base_uri": "https://localhost:8080/",
          "height": 51
        },
        "outputId": "c50eb11a-ab36-4459-eb61-5cd7e9d11a71"
      },
      "source": [
        "input = normalize_word(input)\n",
        "print(input)"
      ],
      "execution_count": null,
      "outputs": [
        {
          "output_type": "stream",
          "text": [
            "món này ngon quá   positive  trà sữa thì không tệ 🧋  positive  \n",
            ". mời các bạn ghé thăm quán tại trang web fody.com\n"
          ],
          "name": "stdout"
        }
      ]
    },
    {
      "cell_type": "markdown",
      "metadata": {
        "id": "Y3Le8a2JAiSg",
        "colab_type": "text"
      },
      "source": [
        "####3.3.4 Loại bỏ các ký tự trong HTML"
      ]
    },
    {
      "cell_type": "code",
      "metadata": {
        "id": "THgpnRSjZqu2",
        "colab_type": "code",
        "colab": {}
      },
      "source": [
        "def remove_html(text):\n",
        "  HTML_TAGS = p = re.compile(r'<.*?>')\n",
        "  text = HTML_TAGS.sub(\"\", text)\n",
        "  return text"
      ],
      "execution_count": null,
      "outputs": []
    },
    {
      "cell_type": "code",
      "metadata": {
        "id": "D4K0gqmkfknY",
        "colab_type": "code",
        "colab": {
          "base_uri": "https://localhost:8080/",
          "height": 51
        },
        "outputId": "b249693f-12cf-4450-a51b-cd66a41ae6cf"
      },
      "source": [
        "input = remove_html(input)\n",
        "print(input)"
      ],
      "execution_count": null,
      "outputs": [
        {
          "output_type": "stream",
          "text": [
            "món này ngon quá   positive  trà sữa thì không tệ 🧋  positive  \n",
            ". mời các bạn ghé thăm quán tại trang web fody.com\n"
          ],
          "name": "stdout"
        }
      ]
    },
    {
      "cell_type": "markdown",
      "metadata": {
        "id": "uxXXDLY8AxlO",
        "colab_type": "text"
      },
      "source": [
        "####3.3.5 Loại bỏ các punctuations"
      ]
    },
    {
      "cell_type": "code",
      "metadata": {
        "id": "m80aQOPNb-LM",
        "colab_type": "code",
        "colab": {}
      },
      "source": [
        "def remove_punctuation(text):\n",
        "  remove_punc = str.maketrans(string.punctuation, ' ' * len(string.punctuation))\n",
        "  text = text.translate(remove_punc)\n",
        "  return text"
      ],
      "execution_count": null,
      "outputs": []
    },
    {
      "cell_type": "code",
      "metadata": {
        "id": "J8MzhQr2gktF",
        "colab_type": "code",
        "colab": {
          "base_uri": "https://localhost:8080/",
          "height": 51
        },
        "outputId": "ebe8cfde-af3b-4810-d29e-3d203990e46e"
      },
      "source": [
        "input = remove_punctuation(input)\n",
        "print(input)"
      ],
      "execution_count": null,
      "outputs": [
        {
          "output_type": "stream",
          "text": [
            "món này ngon quá   positive  trà sữa thì không tệ 🧋  positive  \n",
            "  mời các bạn ghé thăm quán tại trang web fody com\n"
          ],
          "name": "stdout"
        }
      ]
    },
    {
      "cell_type": "markdown",
      "metadata": {
        "id": "bWnBHFizCc9s",
        "colab_type": "text"
      },
      "source": [
        "####3.3.6 Loại bỏ các emoji không cần thiết"
      ]
    },
    {
      "cell_type": "code",
      "metadata": {
        "id": "yngmvDIVd7Aw",
        "colab_type": "code",
        "colab": {}
      },
      "source": [
        "\n",
        "def remove_emoji(text):\n",
        "  emoji_pattern = re.compile(\"[\"\n",
        "                               u\"\\U0001F600-\\U0001F64F\"  # emoticons\n",
        "                               u\"\\U0001F300-\\U0001F5FF\"  # symbols & pictographs\n",
        "                               u\"\\U0001F680-\\U0001F6FF\"  # transport & map symbols\n",
        "                               u\"\\U0001F1E0-\\U0001F1FF\"  # flags (iOS)\n",
        "                               u\"\\U00002500-\\U00002BEF\"  # chinese char\n",
        "                               u\"\\U00002702-\\U000027B0\"\n",
        "                               u\"\\U00002702-\\U000027B0\"\n",
        "                               u\"\\U000024C2-\\U0001F251\"\n",
        "                               u\"\\U0001f926-\\U0001f937\"\n",
        "                               u\"\\U00010000-\\U0010ffff\"\n",
        "                               u\"\\u2640-\\u2642\"\n",
        "                               u\"\\u2600-\\u2B55\"\n",
        "                               u\"\\u200d\"\n",
        "                               u\"\\u23cf\"\n",
        "                               u\"\\u23e9\"\n",
        "                               u\"\\u231a\"\n",
        "                               u\"\\ufe0f\"  # dingbats\n",
        "                               u\"\\u3030\"\n",
        "                               \"]+\", flags=re.UNICODE)\n",
        "  text = emoji_pattern.sub(r'', text)\n",
        "  return text"
      ],
      "execution_count": null,
      "outputs": []
    },
    {
      "cell_type": "code",
      "metadata": {
        "id": "_5Hty-08hRpO",
        "colab_type": "code",
        "colab": {
          "base_uri": "https://localhost:8080/",
          "height": 51
        },
        "outputId": "3714c6ba-1b44-4d0f-a9e6-b03e5c0b7f8b"
      },
      "source": [
        "input = remove_emoji(input)\n",
        "print(input)"
      ],
      "execution_count": null,
      "outputs": [
        {
          "output_type": "stream",
          "text": [
            "món này ngon quá   positive  trà sữa thì không tệ   positive  \n",
            "  mời các bạn ghé thăm quán tại trang web fody com\n"
          ],
          "name": "stdout"
        }
      ]
    },
    {
      "cell_type": "code",
      "metadata": {
        "id": "380vkcDUTNSk",
        "colab_type": "code",
        "colab": {}
      },
      "source": [
        "def no_accent(s):\n",
        "    s = re.sub(r'[àáạảãâầấậẩẫăằắặẳẵ]', 'a', s)\n",
        "    s = re.sub(r'[ÀÁẠẢÃĂẰẮẶẲẴÂẦẤẬẨẪ]', 'A', s)\n",
        "    s = re.sub(r'[èéẹẻẽêềếệểễ]', 'e', s)\n",
        "    s = re.sub(r'[ÈÉẸẺẼÊỀẾỆỂỄ]', 'E', s)\n",
        "    s = re.sub(r'[òóọỏõôồốộổỗơờớợởỡ]', 'o', s)\n",
        "    s = re.sub(r'[ÒÓỌỎÕÔỒỐỘỔỖƠỜỚỢỞỠ]', 'O', s)\n",
        "    s = re.sub(r'[ìíịỉĩ]', 'i', s)\n",
        "    s = re.sub(r'[ÌÍỊỈĨ]', 'I', s)\n",
        "    s = re.sub(r'[ùúụủũưừứựửữ]', 'u', s)\n",
        "    s = re.sub(r'[ƯỪỨỰỬỮÙÚỤỦŨ]', 'U', s)\n",
        "    s = re.sub(r'[ỳýỵỷỹ]', 'y', s)\n",
        "    s = re.sub(r'[ỲÝỴỶỸ]', 'Y', s)\n",
        "    s = re.sub(r'[Đ]', 'D', s)\n",
        "    s = re.sub(r'[đ]', 'd', s)\n",
        "    return s\n"
      ],
      "execution_count": null,
      "outputs": []
    },
    {
      "cell_type": "markdown",
      "metadata": {
        "id": "uY6PdVv2E2D8",
        "colab_type": "text"
      },
      "source": [
        "####3.3.7 Tách từ"
      ]
    },
    {
      "cell_type": "code",
      "metadata": {
        "id": "1KMBfO1Jl-7r",
        "colab_type": "code",
        "colab": {}
      },
      "source": [
        "def word_segmentation(text):\n",
        "  text = word_tokenize(text, format=\"text\")\n",
        "  return text"
      ],
      "execution_count": null,
      "outputs": []
    },
    {
      "cell_type": "code",
      "metadata": {
        "id": "OK75HyVblvcz",
        "colab_type": "code",
        "colab": {
          "base_uri": "https://localhost:8080/",
          "height": 34
        },
        "outputId": "ac3966c4-ce78-4422-b652-affcad5e4904"
      },
      "source": [
        "input = word_segmentation(input)\n",
        "print(input)"
      ],
      "execution_count": null,
      "outputs": [
        {
          "output_type": "stream",
          "text": [
            "món này ngon quá positive trà sữa thì không tệ positive mời các bạn ghé thăm quán tại trang_web fody com\n"
          ],
          "name": "stdout"
        }
      ]
    },
    {
      "cell_type": "code",
      "metadata": {
        "id": "SoKxKHFKwY0j",
        "colab_type": "code",
        "colab": {}
      },
      "source": [
        "# -*- coding: utf-8 -*-\n",
        "\n",
        "\n",
        "def normalize_text(text):\n",
        "      \n",
        "    #Remove các ký tự kéo dài: vd: đẹppppppp\n",
        "    text = remove_repeat_char(text)\n",
        "    \n",
        "    #lowercase the text\n",
        "    text = lowercase(text)\n",
        "\n",
        "    #normalize word\n",
        "    text = normalize_word(text)\n",
        "    \n",
        "\n",
        "    #remove HTML_tags\n",
        "    text = remove_html(text)\n",
        "\n",
        "    # remove extra spaces between words\n",
        "    text = \" \".join(text.split()) \n",
        "    \n",
        "    #remove punctuations\n",
        "    text = remove_punctuation(text)\n",
        "  \n",
        "    # remove unwanted emojis\n",
        "    text = remove_emoji(text)\n",
        "\n",
        "    #word segmentation   \n",
        "    text = word_segmentation(text)\n",
        "    return text"
      ],
      "execution_count": null,
      "outputs": []
    },
    {
      "cell_type": "code",
      "metadata": {
        "id": "HA2x-Vqq7OZr",
        "colab_type": "code",
        "colab": {}
      },
      "source": [
        "def transform_to_dataset(x_set, y_set):\n",
        "  X, y = [], []\n",
        "  for comment, rating in zip(x_set, y_set):\n",
        "      comment = normalize_text(comment)\n",
        "      X.append(comment)\n",
        "      y.append(rating)\n",
        "      #Augmentation bằng cách remove dấu tiếng Việt\n",
        "      X.append(no_accent(comment))\n",
        "      y.append(rating)\n",
        "  return X, y"
      ],
      "execution_count": null,
      "outputs": []
    },
    {
      "cell_type": "markdown",
      "metadata": {
        "id": "69lw74T54iqX",
        "colab_type": "text"
      },
      "source": [
        "## Đúc trích đặc trưng (Feature engineering)\n"
      ]
    },
    {
      "cell_type": "markdown",
      "metadata": {
        "id": "zQuV99niTXjM",
        "colab_type": "text"
      },
      "source": [
        "###4.1 Chia dữ liệu thành train, validation và test"
      ]
    },
    {
      "cell_type": "markdown",
      "metadata": {
        "id": "43XadIy9Td75",
        "colab_type": "text"
      },
      "source": [
        "Chia dữ liệu thành 2 tập **train : validation = 0.7 : 0.3**\n",
        "\n",
        "\n"
      ]
    },
    {
      "cell_type": "code",
      "metadata": {
        "id": "gJX0p3c9tu9U",
        "colab_type": "code",
        "colab": {}
      },
      "source": [
        "X_train, X_val, y_train, y_val = train_test_split(df.comments, df.ratings, test_size=0.3,random_state=42)\n",
        "X_train, y_train = transform_to_dataset(X_train, y_train)\n",
        "X_train = np.array(X_train)\n",
        "y_train = np.array(y_train)\n",
        "X_val, y_val = transform_to_dataset(X_val, y_val)\n",
        "X_val = np.array(X_val)\n",
        "y_val = np.array(y_val)"
      ],
      "execution_count": null,
      "outputs": []
    },
    {
      "cell_type": "code",
      "metadata": {
        "id": "03cPfznfIRnP",
        "colab_type": "code",
        "colab": {
          "base_uri": "https://localhost:8080/",
          "height": 394
        },
        "outputId": "c621ddb9-464a-4702-cb5a-8d008f31eba6"
      },
      "source": [
        "print(X_train.shape)\n",
        "print(X_train[0:10])\n",
        "print(X_val.shape)\n",
        "print(X_val[0:10])"
      ],
      "execution_count": null,
      "outputs": [
        {
          "output_type": "stream",
          "text": [
            "(48978,)\n",
            "['gọi trên now về ăn ngon thực_sự một bát đầy ụ ăn no căng luôn có dịp sẽ ra quán nhiều nhiều positive positive'\n",
            " 'goi tren now ve an ngon thuc_su mot bat day u an no cang luon co dip se ra quan nhieu nhieu positive positive'\n",
            " 'ăn đây 5 6 lần rồi thì túm lại là steak ngon so với giá lần trước ăn burger không ngon miếng thịt ba_chỉ bên trong lạnh_ngắt như mới lôi ở tủ_lạnh ra nói_chung ăn bỏ nửa cái nước ép dứa cà_rốt không bỏ thêm đường uống là vừa vì dứa ngọt sẵn rồi đi ăn một_mình nên cũng không quan_tâm là không_gian kín hay mở ồn hay yên_tĩnh được cái gần phòng gym rạp chiếu_phim tiện cho việc đi tập ăn xem phim'\n",
            " 'an day 5 6 lan roi thi tum lai la steak ngon so voi gia lan truoc an burger khong ngon mieng thit ba_chi ben trong lanh_ngat nhu moi loi o tu_lanh ra noi_chung an bo nua cai nuoc ep dua ca_rot khong bo them duong uong la vua vi dua ngot san roi di an mot_minh nen cung khong quan_tam la khong_gian kin hay mo on hay yen_tinh duoc cai gan phong gym rap chieu_phim tien cho viec di tap an xem phim'\n",
            " 'lần đầu_tiên mình biết đến quán qua một bài share trên fb khoảng tháng 6 quán mới có trên fody chứ chưa có dịch_vụ giao hàng now như bây_giờ mỗi lần đặt_hàng phải cmt trên facebook và chờ cũng khá lâu nhưng bù lại chất_lượng khá đồng_đều gỏi cuốn thịt thơm tôm cũng khá ngọt không bị bở và có mùi ôi như một_số quán mình ăn cơm cũng khá ngon dẻo không bị rời_rạc đồ ăn kèm nêm nếm vừa_miệng giá_cả hợp_lý bây_giờ có thêm dịch_vụ giao hàng now cũng tiện hơn'\n",
            " 'lan dau_tien minh biet den quan qua mot bai share tren fb khoang thang 6 quan moi co tren fody chu chua co dich_vu giao hang now nhu bay_gio moi lan dat_hang phai cmt tren facebook va cho cung kha lau nhung bu lai chat_luong kha dong_deu goi cuon thit thom tom cung kha ngot khong bi bo va co mui oi nhu mot_so quan minh an com cung kha ngon deo khong bi roi_rac do an kem nem nem vua_mieng gia_ca hop_ly bay_gio co them dich_vu giao hang now cung tien hon'\n",
            " 'thái_độ nhan_viên chán chậm đồ ướp không có vị không mặn không ngọt đồ không được tươi lẩu ngon nhưng gọi đồ lẩu cũng chán nói_chung không nên thà ăn_ở nhất nướng còn hơn positive'\n",
            " 'thai_do nhan_vien chan cham do uop khong co vi khong man khong ngot do khong duoc tuoi lau ngon nhung goi do lau cung chan noi_chung khong nen tha an_o nhat nuong con hon positive'\n",
            " 'mình thường_xuyên ăn ở đây nhưng lần gần nhất qua thì có 1 bạn thu_ngân phục_vụ với thái_độ khó_chịu lạnh_lùng và mặt cau có trong khi mình mất rất ít thời_gian để gọi món'\n",
            " 'minh thuong_xuyen an o day nhung lan gan nhat qua thi co 1 ban thu_ngan phuc_vu voi thai_do kho_chiu lanh_lung va mat cau co trong khi minh mat rat it thoi_gian de goi mon']\n",
            "(20992,)\n",
            "['quán được giới_thiệu trên nhiều diễn_đàn nay có dịp nên đi ăn thử chất_lượng rất tốt từ phục_vụ đến sản_phẩm lẩu 180k ăn ba người là no căng bụng nước lẩu bao đậm_đà cá_đuối nhiều ngon đi hai người chỉ ăn lẩu uống nước_ngọt thì khoảng 230k'\n",
            " 'quan duoc gioi_thieu tren nhieu dien_dan nay co dip nen di an thu chat_luong rat tot tu phuc_vu den san_pham lau 180k an ba nguoi la no cang bung nuoc lau bao dam_da ca_duoi nhieu ngon di hai nguoi chi an lau uong nuoc_ngot thi khoang 230k'\n",
            " 'ngồi đợi nước_ép cam bổ_sung vitamin c vì dạo này thiếu c cả trong lẫn ngoài nên nhan_sắc hao_mòn quá'\n",
            " 'ngoi doi nuoc_ep cam bo_sung vitamin c vi dao nay thieu c ca trong lan ngoai nen nhan_sac hao_mon qua'\n",
            " 'kem chese ngon nhất trong tất_cả các chỗ mình đã uống positive thật_sự kem chese rất đặc_trưng và rất thơm luôn mình cũng khá thích trà olong cam đào dâu_tây của quán phải nói là nắng nóng mà uống trà trái_cây là hết_sẩy luôn í positive sữa_tươi trân_châu đường đen cũng ngon rất đáng đề thử positive'\n",
            " 'kem chese ngon nhat trong tat_ca cac cho minh da uong positive that_su kem chese rat dac_trung va rat thom luon minh cung kha thich tra olong cam dao dau_tay cua quan phai noi la nang nong ma uong tra trai_cay la het_say luon i positive sua_tuoi tran_chau duong den cung ngon rat dang de thu positive'\n",
            " 'quán có nhân_viên thân_thiện' 'quan co nhan_vien than_thien'\n",
            " 'không_gian quá rộng_rãi sạch_sẽ dễ tìm nhân_viên thân_thiện phục_vụ nhanh gọi đồ xong có luôn hôm đi ăn với bạn còn là một bà phục_vụ cho bọn mình chắc bà là chủ quán giá_cả phải_chăng nhưng mì nước thì ít mì nhiều nước nước_lèo không thơm lắm mì khô thì nước sốt loãng không đậm_đà nhưng nói_chung là ăn cũng ngon và giá phù_hợp học_sinh sinh_viên mỳ vằn_thắn'\n",
            " 'khong_gian qua rong_rai sach_se de tim nhan_vien than_thien phuc_vu nhanh goi do xong co luon hom di an voi ban con la mot ba phuc_vu cho bon minh chac ba la chu quan gia_ca phai_chang nhung mi nuoc thi it mi nhieu nuoc nuoc_leo khong thom lam mi kho thi nuoc sot loang khong dam_da nhung noi_chung la an cung ngon va gia phu_hop hoc_sinh sinh_vien my van_than']\n"
          ],
          "name": "stdout"
        }
      ]
    },
    {
      "cell_type": "markdown",
      "metadata": {
        "id": "2tTLZE4Csgjl",
        "colab_type": "text"
      },
      "source": [
        "###4.2 **TF-IDF**"
      ]
    },
    {
      "cell_type": "code",
      "metadata": {
        "id": "7Of00vd0drYl",
        "colab_type": "code",
        "colab": {
          "base_uri": "https://localhost:8080/",
          "height": 105
        },
        "outputId": "65825e87-83d4-47b3-eb9f-eea230af87ba"
      },
      "source": [
        "tfidf = TfidfVectorizer(min_df=5,max_df= 0.8,max_features=3000)\n",
        "tfidf.fit(X_train)\n",
        "print(\"Size of the vocabulary: \" + str(len(tfidf.vocabulary_)))\n",
        "vector_train = tfidf.transform(X_train)\n",
        "vector_val = tfidf.transform(X_val)\n",
        "print(\"print 10 words from the vocabulary\")\n",
        "vocab = {k: tfidf.vocabulary_[k] for k in list(tfidf.vocabulary_)[:10]}\n",
        "print(vocab)\n",
        "\n",
        "rr = dict(zip(tfidf.get_feature_names(), tfidf.idf_))\n",
        "print(dict(zip(tfidf.get_feature_names()[:10], tfidf.idf_)))"
      ],
      "execution_count": null,
      "outputs": [
        {
          "output_type": "stream",
          "text": [
            "Size of the vocabulary: 3000\n",
            "print 10 words from the vocabulary\n",
            "{'gọi': 941, 'trên': 2483, 'now': 1778, 'về': 2717, 'ăn': 2845, 'ngon': 1620, 'thực_sự': 2365, 'một': 1551, 'bát': 259, 'đầy': 2914}\n",
            "{'10': 4.028923709642425, '10h': 6.781867076986286, '10k': 4.3357838682811884, '10p': 7.003356368204469, '12': 6.356729203279417, '120k': 6.836302283541302, '12h': 7.036972979003454, '12k': 6.526147355237463, '130k': 7.3332387951466265, '14': 7.28828740728436}\n"
          ],
          "name": "stdout"
        }
      ]
    },
    {
      "cell_type": "markdown",
      "metadata": {
        "id": "ZthxhrpyY2IC",
        "colab_type": "text"
      },
      "source": [
        "####4.2.1 Lựa chọn thuật toán máy học"
      ]
    },
    {
      "cell_type": "code",
      "metadata": {
        "id": "QzkfBqDwMWJU",
        "colab_type": "code",
        "colab": {
          "base_uri": "https://localhost:8080/",
          "height": 530
        },
        "outputId": "e4dafe1d-feb4-4328-afc9-94866d751613"
      },
      "source": [
        "#Try some models\n",
        "classifiers = [\n",
        "            MultinomialNB(),\n",
        "            LogisticRegression(),\n",
        "            LinearSVC(),\n",
        "        ]\n",
        "model = []\n",
        "for classifier in classifiers:\n",
        "    clf = classifier\n",
        "    #print(classifier)\n",
        "    model.append(clf.fit(vector_train, y_train))\n",
        "    y_pred = clf.predict(vector_val)\n",
        "    report = metrics.classification_report(y_val, y_pred, labels=[0, 1], digits=3)\n",
        "    print(report)\n"
      ],
      "execution_count": null,
      "outputs": [
        {
          "output_type": "stream",
          "text": [
            "              precision    recall  f1-score   support\n",
            "\n",
            "           0      0.969     0.538     0.692      4964\n",
            "           1      0.874     0.995     0.931     16028\n",
            "\n",
            "   micro avg      0.887     0.887     0.887     20992\n",
            "   macro avg      0.922     0.766     0.811     20992\n",
            "weighted avg      0.897     0.887     0.874     20992\n",
            "\n"
          ],
          "name": "stdout"
        },
        {
          "output_type": "stream",
          "text": [
            "/usr/local/lib/python3.6/dist-packages/sklearn/linear_model/logistic.py:433: FutureWarning: Default solver will be changed to 'lbfgs' in 0.22. Specify a solver to silence this warning.\n",
            "  FutureWarning)\n"
          ],
          "name": "stderr"
        },
        {
          "output_type": "stream",
          "text": [
            "              precision    recall  f1-score   support\n",
            "\n",
            "           0      0.906     0.791     0.844      4964\n",
            "           1      0.938     0.975     0.956     16028\n",
            "\n",
            "   micro avg      0.931     0.931     0.931     20992\n",
            "   macro avg      0.922     0.883     0.900     20992\n",
            "weighted avg      0.930     0.931     0.929     20992\n",
            "\n",
            "              precision    recall  f1-score   support\n",
            "\n",
            "           0      0.876     0.807     0.840      4964\n",
            "           1      0.942     0.965     0.953     16028\n",
            "\n",
            "   micro avg      0.927     0.927     0.927     20992\n",
            "   macro avg      0.909     0.886     0.897     20992\n",
            "weighted avg      0.926     0.927     0.926     20992\n",
            "\n"
          ],
          "name": "stdout"
        }
      ]
    },
    {
      "cell_type": "markdown",
      "metadata": {
        "id": "AEAkYQ7W4c-J",
        "colab_type": "text"
      },
      "source": [
        "####4.2.2 Hyperparameter tuning"
      ]
    },
    {
      "cell_type": "markdown",
      "metadata": {
        "id": "WHWRreJzZdnX",
        "colab_type": "text"
      },
      "source": [
        "##### Naive Bayes"
      ]
    },
    {
      "cell_type": "code",
      "metadata": {
        "id": "GbqNiKNRSi91",
        "colab_type": "code",
        "colab": {}
      },
      "source": [
        "nb_training_accuracy = []\n",
        "nb_val_accuracy = []\n",
        "\n",
        "alpha = np.arange(0.01, 500.01, 10)\n",
        "\n",
        "for alpha_ in alpha:\n",
        "  nb = MultinomialNB(alpha=alpha_).fit(vector_train, y_train)\n",
        "\n",
        "  # Record\n",
        "  nb_training_accuracy.append(nb.score(vector_train, y_train))\n",
        "  nb_val_accuracy.append(nb.score(vector_val, y_val))"
      ],
      "execution_count": null,
      "outputs": []
    },
    {
      "cell_type": "code",
      "metadata": {
        "id": "yZEsMEV-e-3x",
        "colab_type": "code",
        "colab": {
          "base_uri": "https://localhost:8080/",
          "height": 526
        },
        "outputId": "4b031458-80f2-4ccb-bb4c-a2a080e62229"
      },
      "source": [
        "fig, ax = plt.subplots(1, figsize=(16,8))\n",
        "\n",
        "ax.plot(alpha, nb_training_accuracy, label=\"training accuracy\")\n",
        "ax.plot(alpha, nb_val_accuracy, label=\"val accuracy\")\n",
        "ax.set_title(\"MultinomialNB\")\n",
        "ax.set_ylabel(\"Accuracy\")\n",
        "ax.set_xlabel(\"alpha parameter\")\n",
        "ax.legend()\n"
      ],
      "execution_count": null,
      "outputs": [
        {
          "output_type": "execute_result",
          "data": {
            "text/plain": [
              "<matplotlib.legend.Legend at 0x7f571e5200b8>"
            ]
          },
          "metadata": {
            "tags": []
          },
          "execution_count": 110
        },
        {
          "output_type": "display_data",
          "data": {
            "image/png": "[encoded data removed]",
            "text/plain": [
              "<Figure size 1152x576 with 1 Axes>"
            ]
          },
          "metadata": {
            "tags": [],
            "needs_background": "light"
          }
        }
      ]
    },
    {
      "cell_type": "code",
      "metadata": {
        "id": "SfoulKKYZLkE",
        "colab_type": "code",
        "colab": {
          "base_uri": "https://localhost:8080/",
          "height": 88
        },
        "outputId": "0f3834e1-59d1-4165-b75d-7536163bb13b"
      },
      "source": [
        "alpha = np.arange(0, 100, 20)\n",
        "# define grid search\n",
        "grid = dict(alpha=alpha)\n",
        "grid_search = GridSearchCV(estimator=MultinomialNB(), param_grid=grid, scoring='accuracy')\n",
        "grid_result = grid_search.fit(vector_train, y_train)\n",
        "# summarize results\n",
        "print(\"Best: %f using %s\" % (grid_result.best_score_, grid_result.best_params_))"
      ],
      "execution_count": null,
      "outputs": [
        {
          "output_type": "stream",
          "text": [
            "Best: 0.888678 using {'alpha': 0}\n"
          ],
          "name": "stdout"
        },
        {
          "output_type": "stream",
          "text": [
            "/usr/local/lib/python3.6/dist-packages/sklearn/naive_bayes.py:480: UserWarning: alpha too small will result in numeric errors, setting alpha = 1.0e-10\n",
            "  'setting alpha = %.1e' % _ALPHA_MIN)\n"
          ],
          "name": "stderr"
        }
      ]
    },
    {
      "cell_type": "code",
      "metadata": {
        "id": "q-tKONLfMPy6",
        "colab_type": "code",
        "colab": {
          "base_uri": "https://localhost:8080/",
          "height": 224
        },
        "outputId": "a80986b3-2fd8-484c-8bed-640ecda8148d"
      },
      "source": [
        "model[0] = MultinomialNB(alpha=0).fit(vector_train, y_train)\n",
        "report = metrics.classification_report(y_val, model[0].predict(vector_val), labels=[0, 1], digits=3)\n",
        "print(report)"
      ],
      "execution_count": null,
      "outputs": [
        {
          "output_type": "stream",
          "text": [
            "              precision    recall  f1-score   support\n",
            "\n",
            "           0      0.969     0.550     0.702      4964\n",
            "           1      0.877     0.995     0.932     16028\n",
            "\n",
            "   micro avg      0.889     0.889     0.889     20992\n",
            "   macro avg      0.923     0.772     0.817     20992\n",
            "weighted avg      0.899     0.889     0.878     20992\n",
            "\n"
          ],
          "name": "stdout"
        },
        {
          "output_type": "stream",
          "text": [
            "/usr/local/lib/python3.6/dist-packages/sklearn/naive_bayes.py:480: UserWarning: alpha too small will result in numeric errors, setting alpha = 1.0e-10\n",
            "  'setting alpha = %.1e' % _ALPHA_MIN)\n"
          ],
          "name": "stderr"
        }
      ]
    },
    {
      "cell_type": "markdown",
      "metadata": {
        "id": "5U3jTtvYU0uU",
        "colab_type": "text"
      },
      "source": [
        "##### Logistic Regression"
      ]
    },
    {
      "cell_type": "code",
      "metadata": {
        "id": "R76APQn2TWKK",
        "colab_type": "code",
        "colab": {
          "base_uri": "https://localhost:8080/",
          "height": 71
        },
        "outputId": "5b90ce9c-d125-4d88-eae4-aeee79d782fd"
      },
      "source": [
        "lr_training_accuracy = []\n",
        "lr_val_accuracy = []\n",
        "\n",
        "C = np.arange(0.01, 500.001, 10)\n",
        "\n",
        "for C_ in C:\n",
        "  lr = LogisticRegression(C=C_).fit(vector_train, y_train)\n",
        "\n",
        "  # Record\n",
        "  lr_training_accuracy.append(lr.score(vector_train, y_train))\n",
        "  lr_val_accuracy.append(lr.score(vector_val, y_val))"
      ],
      "execution_count": null,
      "outputs": [
        {
          "output_type": "stream",
          "text": [
            "/usr/local/lib/python3.6/dist-packages/sklearn/linear_model/logistic.py:433: FutureWarning: Default solver will be changed to 'lbfgs' in 0.22. Specify a solver to silence this warning.\n",
            "  FutureWarning)\n"
          ],
          "name": "stderr"
        }
      ]
    },
    {
      "cell_type": "code",
      "metadata": {
        "id": "l5YomO8oW00A",
        "colab_type": "code",
        "colab": {
          "base_uri": "https://localhost:8080/",
          "height": 523
        },
        "outputId": "c3c63845-0707-44ff-900f-c9eae39e542a"
      },
      "source": [
        "fig, ax = plt.subplots(1, figsize=(16,8))\n",
        "\n",
        "ax.plot(C, lr_training_accuracy, label=\"training accuracy\")\n",
        "ax.plot(C, lr_val_accuracy, label=\"test accuracy\")\n",
        "ax.set_title(\"Logistic Regression\")\n",
        "ax.set_ylabel(\"Accuracy\")\n",
        "ax.set_xlabel(\"C parameter\")\n",
        "ax.legend()\n"
      ],
      "execution_count": null,
      "outputs": [
        {
          "output_type": "execute_result",
          "data": {
            "text/plain": [
              "<matplotlib.legend.Legend at 0x7f571f110fd0>"
            ]
          },
          "metadata": {
            "tags": []
          },
          "execution_count": 91
        },
        {
          "output_type": "display_data",
          "data": {
            "image/png": "[encoded data removed]",
            "text/plain": [
              "<Figure size 1152x576 with 1 Axes>"
            ]
          },
          "metadata": {
            "tags": [],
            "needs_background": "light"
          }
        }
      ]
    },
    {
      "cell_type": "code",
      "metadata": {
        "id": "counw7sZ4cWr",
        "colab_type": "code",
        "colab": {
          "base_uri": "https://localhost:8080/",
          "height": 34
        },
        "outputId": "b2c0c38d-0f6b-4831-dee0-d4646c3eb797"
      },
      "source": [
        "solvers = ['newton-cg', 'lbfgs', 'liblinear']\n",
        "c_values = np.arange(10, 50, 10)\n",
        "# define grid search\n",
        "grid = dict(solver=solvers,C=c_values)\n",
        "grid_search = GridSearchCV(estimator=model, param_grid=grid, scoring='accuracy')\n",
        "grid_result = grid_search.fit(vector_train, y_train)\n",
        "print(\"Best: %f using %s\" % (grid_result.best_score_, grid_result.best_params_))\n"
      ],
      "execution_count": null,
      "outputs": [
        {
          "output_type": "stream",
          "text": [
            "Best: 0.933678 using {'C': 10, 'solver': 'newton-cg'}\n"
          ],
          "name": "stdout"
        }
      ]
    },
    {
      "cell_type": "code",
      "metadata": {
        "id": "t76RR_zwNOrh",
        "colab_type": "code",
        "colab": {
          "base_uri": "https://localhost:8080/",
          "height": 170
        },
        "outputId": "9ad0f695-cbe5-426d-f8eb-de4cb046be26"
      },
      "source": [
        "model[1] = LogisticRegression(C=10, solver='newton-cg').fit(vector_train, y_train)\n",
        "report = metrics.classification_report(y_val, model[1].predict(vector_val), labels=[0, 1], digits=3)\n",
        "print(report)"
      ],
      "execution_count": null,
      "outputs": [
        {
          "output_type": "stream",
          "text": [
            "              precision    recall  f1-score   support\n",
            "\n",
            "           0      0.871     0.808     0.838      4964\n",
            "           1      0.942     0.963     0.952     16028\n",
            "\n",
            "   micro avg      0.926     0.926     0.926     20992\n",
            "   macro avg      0.906     0.885     0.895     20992\n",
            "weighted avg      0.925     0.926     0.925     20992\n",
            "\n"
          ],
          "name": "stdout"
        }
      ]
    },
    {
      "cell_type": "markdown",
      "metadata": {
        "id": "sJwuI8uIXHpJ",
        "colab_type": "text"
      },
      "source": [
        "##### LinearSVC"
      ]
    },
    {
      "cell_type": "code",
      "metadata": {
        "id": "3REtVY1971Vq",
        "colab_type": "code",
        "colab": {
          "base_uri": "https://localhost:8080/",
          "height": 71
        },
        "outputId": "b6a55f2e-cd96-4cab-f0cf-5455ce329e56"
      },
      "source": [
        "liSVC_training_accuracy = []\n",
        "liSVC_val_accuracy = []\n",
        "\n",
        "C = np.arange(0.01, 500.001, 10)\n",
        "\n",
        "for C_ in C:\n",
        "  liSVC = LinearSVC(C=C_).fit(vector_train, y_train)\n",
        "\n",
        "  # Record\n",
        "  liSVC_training_accuracy.append(liSVC.score(vector_train, y_train))\n",
        "  liSVC_val_accuracy.append(liSVC.score(vector_val, y_val))"
      ],
      "execution_count": null,
      "outputs": [
        {
          "output_type": "stream",
          "text": [
            "/usr/local/lib/python3.6/dist-packages/sklearn/svm/base.py:931: ConvergenceWarning: Liblinear failed to converge, increase the number of iterations.\n",
            "  \"the number of iterations.\", ConvergenceWarning)\n"
          ],
          "name": "stderr"
        }
      ]
    },
    {
      "cell_type": "code",
      "metadata": {
        "id": "GjMMlXY5DF_7",
        "colab_type": "code",
        "colab": {
          "base_uri": "https://localhost:8080/",
          "height": 526
        },
        "outputId": "8e97fb78-6338-499f-c545-985e8a7c81ea"
      },
      "source": [
        "fig, ax = plt.subplots(1, figsize=(16,8))\n",
        "\n",
        "ax.plot(C, liSVC_training_accuracy, label=\"training accuracy\")\n",
        "ax.plot(C, liSVC_val_accuracy, label=\"test accuracy\")\n",
        "ax.set_title(\"LinearSVC\")\n",
        "ax.set_ylabel(\"Accuracy\")\n",
        "ax.set_xlabel(\"C parameter\")\n",
        "ax.legend()\n"
      ],
      "execution_count": null,
      "outputs": [
        {
          "output_type": "execute_result",
          "data": {
            "text/plain": [
              "<matplotlib.legend.Legend at 0x7f9bc2b59fd0>"
            ]
          },
          "metadata": {
            "tags": []
          },
          "execution_count": 38
        },
        {
          "output_type": "display_data",
          "data": {
            "image/png": "[encoded data removed]",
            "text/plain": [
              "<Figure size 1152x576 with 1 Axes>"
            ]
          },
          "metadata": {
            "tags": [],
            "needs_background": "light"
          }
        }
      ]
    },
    {
      "cell_type": "code",
      "metadata": {
        "id": "uA_fZkpWtL13",
        "colab_type": "code",
        "colab": {
          "base_uri": "https://localhost:8080/",
          "height": 90
        },
        "outputId": "35987508-60e2-4832-8a12-46bdcf2dce83"
      },
      "source": [
        "\n",
        "multi_classes = ['ovr', 'crammer_singer']\n",
        "c_values = np.arange(0, 30, 10)\n",
        "# define grid search\n",
        "grid = dict(C=c_values, multi_class=multi_classes)\n",
        "grid_search = GridSearchCV(estimator=LinearSVC(), param_grid=grid, scoring='accuracy')\n",
        "grid_result = grid_search.fit(vector_train, y_train)\n",
        "print(\"Best: %f using %s\" % (grid_result.best_score_, grid_result.best_params_))\n"
      ],
      "execution_count": null,
      "outputs": [
        {
          "output_type": "stream",
          "text": [
            "Best: 0.929234 using {'C': 10, 'multi_class': 'crammer_singer'}\n"
          ],
          "name": "stdout"
        },
        {
          "output_type": "stream",
          "text": [
            "/usr/local/lib/python3.6/dist-packages/sklearn/svm/base.py:931: ConvergenceWarning: Liblinear failed to converge, increase the number of iterations.\n",
            "  \"the number of iterations.\", ConvergenceWarning)\n"
          ],
          "name": "stderr"
        }
      ]
    },
    {
      "cell_type": "code",
      "metadata": {
        "id": "WrnqtodpzdHF",
        "colab_type": "code",
        "colab": {
          "base_uri": "https://localhost:8080/",
          "height": 224
        },
        "outputId": "b49a3c38-b550-49b5-b1fc-f3d361c496d1"
      },
      "source": [
        "model[2] = LinearSVC(C=1, multi_class='crammer_singer').fit(vector_train, y_train)\n",
        "report = metrics.classification_report(y_val, model[2].predict(vector_val), labels=[0, 1], digits=3)\n",
        "print(report)"
      ],
      "execution_count": null,
      "outputs": [
        {
          "output_type": "stream",
          "text": [
            "              precision    recall  f1-score   support\n",
            "\n",
            "           0      0.884     0.809     0.845      4964\n",
            "           1      0.942     0.967     0.955     16028\n",
            "\n",
            "   micro avg      0.930     0.930     0.930     20992\n",
            "   macro avg      0.913     0.888     0.900     20992\n",
            "weighted avg      0.929     0.930     0.929     20992\n",
            "\n"
          ],
          "name": "stdout"
        },
        {
          "output_type": "stream",
          "text": [
            "/usr/local/lib/python3.6/dist-packages/sklearn/svm/base.py:931: ConvergenceWarning: Liblinear failed to converge, increase the number of iterations.\n",
            "  \"the number of iterations.\", ConvergenceWarning)\n"
          ],
          "name": "stderr"
        }
      ]
    },
    {
      "cell_type": "markdown",
      "metadata": {
        "id": "YQ28-VBibRdb",
        "colab_type": "text"
      },
      "source": [
        "####4.2.3 Load tập test và tiền xử lý\n"
      ]
    },
    {
      "cell_type": "code",
      "metadata": {
        "id": "nOQ1Hb8LbWC4",
        "colab_type": "code",
        "colab": {
          "base_uri": "https://localhost:8080/",
          "height": 255
        },
        "outputId": "bd22e7dc-a4ea-48e3-d381-a52c1e7e531a"
      },
      "source": [
        "test_df = pd.read_csv(\"/content/drive/My Drive/Colab Notebooks/sentiment_analysis/quangnam.csv\")\n",
        "test_df.drop([\"web-scraper-order\", \"web-scraper-start-url\", \"links\", \"links-href\"], axis = 1, inplace=True)\n",
        "print(test_df)"
      ],
      "execution_count": null,
      "outputs": [
        {
          "output_type": "stream",
          "text": [
            "                                               comments  ratings\n",
            "0     Quán Cao Lầu này nằm gần khách sạn mà mình ở t...      9.6\n",
            "1     Trưa đấy lang thang khắp Hội An tìm cái ăn thì...      8.2\n",
            "2     Ghé quán khi đang lang thang dạo quanh phố cổ,...      7.8\n",
            "3     Chạy xe 25p từ nhà quán ốc.  đường xá xa xôi +...      5.0\n",
            "4     Quán này vào buổi tối tầm 7h trở đi là rất đôn...      7.4\n",
            "...                                                 ...      ...\n",
            "4112  Nhân viên chắc bận quá nên mình thấy hơi lạnh ...      6.8\n",
            "4113  Chưa bao giờ hết yêu việc đi Hội An lùng những...      7.8\n",
            "4114  Cơm ngon. Nước sốt tuyệt vời luôn. Thịt thì mh...      8.8\n",
            "4115  Mình ghé đến đây vào buổi chiều khá nắng! Mng ...      8.4\n",
            "4116  Ăn mì quán này lâu rồi nhung hôm nay mới thấy ...     10.0\n",
            "\n",
            "[4117 rows x 2 columns]\n"
          ],
          "name": "stdout"
        }
      ]
    },
    {
      "cell_type": "code",
      "metadata": {
        "id": "6NWdT4M9sKWr",
        "colab_type": "code",
        "colab": {
          "base_uri": "https://localhost:8080/",
          "height": 255
        },
        "outputId": "8a03b4fa-f7ab-4717-b0c6-77b49fc728ca"
      },
      "source": [
        "test_df = test_df[((test_df[\"ratings\"] <= 5.0) | (test_df[\"ratings\"] >= 8.0))] # remove the neutral comments (5 < x < 8)\n",
        "test_df.loc[test_df[\"ratings\"] <= 5.0, \"ratings\"] = 0\n",
        "test_df.loc[test_df[\"ratings\"] >= 8.0, \"ratings\"] = 1\n",
        "test_df[\"ratings\"] = test_df[\"ratings\"].astype(int)\n",
        "\n",
        "test_df.reset_index(inplace=True)\n",
        "test_df = test_df.drop(\"index\", axis= 1)\n",
        "print(test_df)"
      ],
      "execution_count": null,
      "outputs": [
        {
          "output_type": "stream",
          "text": [
            "                                               comments  ratings\n",
            "0     Quán Cao Lầu này nằm gần khách sạn mà mình ở t...        1\n",
            "1     Trưa đấy lang thang khắp Hội An tìm cái ăn thì...        1\n",
            "2     Chạy xe 25p từ nhà quán ốc.  đường xá xa xôi +...        0\n",
            "3     Hôm nay vô Hội An chơi, ghé quán Bim Bim 17...        1\n",
            "4     Lướt trên foody và tìm thấy quán này mua bánh ...        1\n",
            "...                                                 ...      ...\n",
            "2394  Quá thích hợp cho những chiều cuối tuần cần th...        1\n",
            "2395  Không gian măt mẻ, trưa nắng nóng vào quán như...        1\n",
            "2396  Cơm ngon. Nước sốt tuyệt vời luôn. Thịt thì mh...        1\n",
            "2397  Mình ghé đến đây vào buổi chiều khá nắng! Mng ...        1\n",
            "2398  Ăn mì quán này lâu rồi nhung hôm nay mới thấy ...        1\n",
            "\n",
            "[2399 rows x 2 columns]\n"
          ],
          "name": "stdout"
        }
      ]
    },
    {
      "cell_type": "code",
      "metadata": {
        "id": "wLMwN_qUaJan",
        "colab_type": "code",
        "colab": {
          "base_uri": "https://localhost:8080/",
          "height": 330
        },
        "outputId": "a611a32e-1419-4314-80b5-8c5cb0146267"
      },
      "source": [
        "sns.countplot(x='ratings', data=test_df)\n",
        "print(test_df['ratings'].value_counts())"
      ],
      "execution_count": null,
      "outputs": [
        {
          "output_type": "stream",
          "text": [
            "1    1899\n",
            "0     500\n",
            "Name: ratings, dtype: int64\n"
          ],
          "name": "stdout"
        },
        {
          "output_type": "display_data",
          "data": {
            "image/png": "[encoded data removed]",
            "text/plain": [
              "<Figure size 432x288 with 1 Axes>"
            ]
          },
          "metadata": {
            "tags": [],
            "needs_background": "light"
          }
        }
      ]
    },
    {
      "cell_type": "markdown",
      "metadata": {
        "id": "VoDAaBvrsqWR",
        "colab_type": "text"
      },
      "source": [
        "####4.2.4 Đánh giá các thuật toán dựa trên tập test"
      ]
    },
    {
      "cell_type": "code",
      "metadata": {
        "id": "b4dn2hkvsp1I",
        "colab_type": "code",
        "colab": {}
      },
      "source": [
        "X_test, y_test = transform_to_dataset(test_df.comments, test_df.ratings)"
      ],
      "execution_count": null,
      "outputs": []
    },
    {
      "cell_type": "code",
      "metadata": {
        "id": "IcIpYUv2tSFM",
        "colab_type": "code",
        "colab": {}
      },
      "source": [
        "vector_test = tfidf.transform(X_test)"
      ],
      "execution_count": null,
      "outputs": []
    },
    {
      "cell_type": "code",
      "metadata": {
        "id": "rDiCA7rr6vic",
        "colab_type": "code",
        "colab": {
          "base_uri": "https://localhost:8080/",
          "height": 476
        },
        "outputId": "f3a6e4d6-0036-4bd2-a22a-6fa19df6f7ff"
      },
      "source": [
        "for i in range (0, len(model)):\n",
        "  y_pred = model[i].predict(vector_test)\n",
        "  report = metrics.classification_report(y_test, y_pred, labels=[0, 1], digits=3)\n",
        "  print(report)"
      ],
      "execution_count": null,
      "outputs": [
        {
          "output_type": "stream",
          "text": [
            "              precision    recall  f1-score   support\n",
            "\n",
            "           0      0.986     0.500     0.664      1000\n",
            "           1      0.883     0.998     0.937      3798\n",
            "\n",
            "   micro avg      0.894     0.894     0.894      4798\n",
            "   macro avg      0.935     0.749     0.800      4798\n",
            "weighted avg      0.905     0.894     0.880      4798\n",
            "\n",
            "              precision    recall  f1-score   support\n",
            "\n",
            "           0      0.919     0.789     0.849      1000\n",
            "           1      0.946     0.982     0.964      3798\n",
            "\n",
            "   micro avg      0.941     0.941     0.941      4798\n",
            "   macro avg      0.932     0.885     0.906      4798\n",
            "weighted avg      0.941     0.941     0.940      4798\n",
            "\n",
            "              precision    recall  f1-score   support\n",
            "\n",
            "           0      0.876     0.805     0.839      1000\n",
            "           1      0.950     0.970     0.960      3798\n",
            "\n",
            "   micro avg      0.936     0.936     0.936      4798\n",
            "   macro avg      0.913     0.887     0.899      4798\n",
            "weighted avg      0.934     0.936     0.935      4798\n",
            "\n"
          ],
          "name": "stdout"
        }
      ]
    },
    {
      "cell_type": "markdown",
      "metadata": {
        "id": "3thQ_o1LdDWU",
        "colab_type": "text"
      },
      "source": [
        "####4.2.5 Lưu model tốt nhất"
      ]
    },
    {
      "cell_type": "code",
      "metadata": {
        "id": "6jPz0w5HdCK0",
        "colab_type": "code",
        "colab": {}
      },
      "source": [
        "filename = '/content/drive/My Drive/Colab Notebooks/sentiment_analysis/best_model.sav'\n",
        "pickle.dump(model[1], open(filename, 'wb'))"
      ],
      "execution_count": null,
      "outputs": []
    },
    {
      "cell_type": "markdown",
      "metadata": {
        "id": "kYODQ8hye4ox",
        "colab_type": "text"
      },
      "source": [
        "###4.3 **Word Embeddings**"
      ]
    },
    {
      "cell_type": "markdown",
      "metadata": {
        "id": "RmTX_Q4fStKh",
        "colab_type": "text"
      },
      "source": [
        "####4.3.1 Khảo sát tập dữ liệu huấn luyện"
      ]
    },
    {
      "cell_type": "markdown",
      "metadata": {
        "id": "98-7TAtPnGLb",
        "colab_type": "text"
      },
      "source": [
        "Do khối lượng dữ liệu lớn (34985 mẫu), nếu chúng ta chọn số lượng từ tối đa cho một câu (MAX_SEQ_LENGTH) quá cao thì sẽ bị lãng phí khi biểu diễn ở những câu review quá ngắn. Ngược lại, nếu sử dụng số lượng từ tối đa quá ít thì sẽ bị bỏ lỡ những từ quan trọng giúp cho việc phân tích cảm xúc. Sau đây chúng ta sẽ tiến hành khảo sát độ dài của các mẫu dữ liệu huấn luyện."
      ]
    },
    {
      "cell_type": "code",
      "metadata": {
        "id": "aSUMXy48mTMR",
        "colab_type": "code",
        "colab": {
          "base_uri": "https://localhost:8080/",
          "height": 68
        },
        "outputId": "418d98a8-9dea-418e-bf29-165d6c73edf9"
      },
      "source": [
        "#find maximum number of words in a sentence\n",
        "num_words = [len(x.split()) for x in list(X_train)]\n",
        "print('The total number of samples is', len(X_train))\n",
        "print('The total number of words in the files is', sum(num_words))\n",
        "print('The average number of words in the files is', sum(num_words)/len(num_words))"
      ],
      "execution_count": null,
      "outputs": [
        {
          "output_type": "stream",
          "text": [
            "The total number of samples is 48978\n",
            "The total number of words in the files is 3783702\n",
            "The average number of words in the files is 77.25309322552982\n"
          ],
          "name": "stdout"
        }
      ]
    },
    {
      "cell_type": "code",
      "metadata": {
        "id": "FJRKUqBusfLX",
        "colab_type": "code",
        "colab": {
          "base_uri": "https://localhost:8080/",
          "height": 283
        },
        "outputId": "6ac3c0f3-6e47-41e6-b3c1-4cb14a6af7f0"
      },
      "source": [
        "%matplotlib inline\n",
        "plt.hist(num_words, 100)\n",
        "plt.xlabel('Sequence Length')\n",
        "plt.ylabel('Frequency')\n",
        "plt.axis([0, 600, 0, 6000])\n",
        "plt.show()"
      ],
      "execution_count": null,
      "outputs": [
        {
          "output_type": "display_data",
          "data": {
            "image/png": "[encoded data removed]",
            "text/plain": [
              "<Figure size 432x288 with 1 Axes>"
            ]
          },
          "metadata": {
            "tags": [],
            "needs_background": "light"
          }
        }
      ]
    },
    {
      "cell_type": "markdown",
      "metadata": {
        "id": "B3ix37ziIbgf",
        "colab_type": "text"
      },
      "source": [
        "####4.3.2 Khởi tạo các tham số"
      ]
    },
    {
      "cell_type": "code",
      "metadata": {
        "id": "of8yCYoue9Rw",
        "colab_type": "code",
        "colab": {}
      },
      "source": [
        "vocab_size = 10000\n",
        "embedding_dim = 100\n",
        "max_length = 250"
      ],
      "execution_count": null,
      "outputs": []
    },
    {
      "cell_type": "code",
      "metadata": {
        "id": "_K16UGbGy5CE",
        "colab_type": "code",
        "colab": {}
      },
      "source": [
        "tokenizer = Tokenizer(num_words=vocab_size, oov_token=\"<OOV>\")\n",
        "tokenizer.fit_on_texts(X_train)\n",
        "word_index = tokenizer.word_index\n",
        "\n",
        "train_sequences = tokenizer.texts_to_sequences(X_train)\n",
        "train_padded = pad_sequences(train_sequences, maxlen=max_length, truncating='post', padding='post')"
      ],
      "execution_count": null,
      "outputs": []
    },
    {
      "cell_type": "code",
      "metadata": {
        "id": "3zkfiUvZ2IaB",
        "colab_type": "code",
        "colab": {
          "base_uri": "https://localhost:8080/",
          "height": 153
        },
        "outputId": "18348f9f-a990-4fad-e637-eba9ebe85010"
      },
      "source": [
        "print(train_padded)\n",
        "print(train_padded.shape)"
      ],
      "execution_count": null,
      "outputs": [
        {
          "output_type": "stream",
          "text": [
            "[[114 312 522 ...   0   0   0]\n",
            " [ 95 306 522 ...   0   0   0]\n",
            " [  4  41 360 ...   0   0   0]\n",
            " ...\n",
            " [258  36  42 ...   0   0   0]\n",
            " [504 494 308 ...   0   0   0]\n",
            " [421 464 282 ...   0   0   0]]\n",
            "(48978, 250)\n"
          ],
          "name": "stdout"
        }
      ]
    },
    {
      "cell_type": "code",
      "metadata": {
        "id": "2cTmz5OI2ZwV",
        "colab_type": "code",
        "colab": {
          "base_uri": "https://localhost:8080/",
          "height": 153
        },
        "outputId": "28affcce-2d10-498c-b5b6-78468718de58"
      },
      "source": [
        "val_sequences = tokenizer.texts_to_sequences(X_val)\n",
        "val_padded = pad_sequences(val_sequences, maxlen=max_length, truncating='post', padding='post')\n",
        "print(val_padded)\n",
        "print(val_padded.shape)"
      ],
      "execution_count": null,
      "outputs": [
        {
          "output_type": "stream",
          "text": [
            "[[ 15  44 920 ...   0   0   0]\n",
            " [ 13  42 879 ...   0   0   0]\n",
            " [248 607 106 ...   0   0   0]\n",
            " ...\n",
            " [350 119   3 ...   0   0   0]\n",
            " [ 96 220   6 ...   0   0   0]\n",
            " [ 47  86   5 ...   0   0   0]]\n",
            "(20992, 250)\n"
          ],
          "name": "stdout"
        }
      ]
    },
    {
      "cell_type": "markdown",
      "metadata": {
        "id": "AjuyV7NbaCaP",
        "colab_type": "text"
      },
      "source": [
        "####4.3.3 Xây dựng mô hình"
      ]
    },
    {
      "cell_type": "code",
      "metadata": {
        "id": "yHjrHP-_3KvX",
        "colab_type": "code",
        "colab": {
          "base_uri": "https://localhost:8080/",
          "height": 289
        },
        "outputId": "52da8302-3b05-4f40-f7dd-61a62c2b5f6a"
      },
      "source": [
        "model_dl = tf.keras.Sequential()\n",
        "model_dl.add(tf.keras.layers.Embedding(vocab_size, embedding_dim, input_length = max_length))\n",
        "model_dl.add(tf.keras.layers.Flatten())\n",
        "model_dl.add(tf.keras.layers.Dense(10, activation=\"relu\"))\n",
        "model_dl.add(tf.keras.layers.Dense(1, activation=\"sigmoid\"))\n",
        "model_dl.compile(loss = 'binary_crossentropy', optimizer='adam', metrics=['accuracy'])\n",
        "model_dl.summary()"
      ],
      "execution_count": null,
      "outputs": [
        {
          "output_type": "stream",
          "text": [
            "Model: \"sequential\"\n",
            "_________________________________________________________________\n",
            "Layer (type)                 Output Shape              Param #   \n",
            "=================================================================\n",
            "embedding (Embedding)        (None, 250, 100)          1000000   \n",
            "_________________________________________________________________\n",
            "flatten (Flatten)            (None, 25000)             0         \n",
            "_________________________________________________________________\n",
            "dense (Dense)                (None, 10)                250010    \n",
            "_________________________________________________________________\n",
            "dense_1 (Dense)              (None, 1)                 11        \n",
            "=================================================================\n",
            "Total params: 1,250,021\n",
            "Trainable params: 1,250,021\n",
            "Non-trainable params: 0\n",
            "_________________________________________________________________\n"
          ],
          "name": "stdout"
        }
      ]
    },
    {
      "cell_type": "markdown",
      "metadata": {
        "id": "0mCSGZXzbkSl",
        "colab_type": "text"
      },
      "source": [
        "####4.3.4 Huấn luyện mô hình"
      ]
    },
    {
      "cell_type": "code",
      "metadata": {
        "id": "j2Mn9vNTE_KW",
        "colab_type": "code",
        "colab": {
          "base_uri": "https://localhost:8080/",
          "height": 1000
        },
        "outputId": "f21da371-b67b-4745-880e-cff20b9ba52a"
      },
      "source": [
        "num_epochs = 40\n",
        "history = model_dl.fit(train_padded, y_train, epochs=num_epochs, validation_data=(val_padded, y_val))\n",
        "# plot loss during training\n",
        "plt.subplot(211)\n",
        "plt.title('Loss')\n",
        "plt.plot(history.history['loss'], label='train')\n",
        "plt.plot(history.history['val_loss'], label='test')\n",
        "plt.legend()\n",
        "# plot accuracy during training\n",
        "plt.subplot(212)\n",
        "plt.title('Accuracy')\n",
        "plt.plot(history.history['accuracy'], label='train')\n",
        "plt.plot(history.history['val_accuracy'], label='test')\n",
        "plt.legend()\n",
        "plt.show()"
      ],
      "execution_count": null,
      "outputs": [
        {
          "output_type": "stream",
          "text": [
            "Epoch 1/40\n",
            "1531/1531 [==============================] - 21s 13ms/step - loss: 0.2416 - accuracy: 0.9081 - val_loss: 0.2241 - val_accuracy: 0.9226\n",
            "Epoch 2/40\n",
            "1531/1531 [==============================] - 21s 13ms/step - loss: 0.0894 - accuracy: 0.9699 - val_loss: 0.3206 - val_accuracy: 0.9115\n",
            "Epoch 3/40\n",
            "1531/1531 [==============================] - 21s 13ms/step - loss: 0.0290 - accuracy: 0.9910 - val_loss: 0.4581 - val_accuracy: 0.9051\n",
            "Epoch 4/40\n",
            "1531/1531 [==============================] - 21s 14ms/step - loss: 0.0138 - accuracy: 0.9957 - val_loss: 0.5291 - val_accuracy: 0.8972\n",
            "Epoch 5/40\n",
            "1531/1531 [==============================] - 21s 13ms/step - loss: 0.0109 - accuracy: 0.9966 - val_loss: 0.6783 - val_accuracy: 0.9000\n",
            "Epoch 6/40\n",
            "1531/1531 [==============================] - 20s 13ms/step - loss: 0.0072 - accuracy: 0.9975 - val_loss: 0.7678 - val_accuracy: 0.8988\n",
            "Epoch 7/40\n",
            "1531/1531 [==============================] - 21s 13ms/step - loss: 0.0104 - accuracy: 0.9965 - val_loss: 0.7539 - val_accuracy: 0.9042\n",
            "Epoch 8/40\n",
            "1531/1531 [==============================] - 21s 14ms/step - loss: 0.0069 - accuracy: 0.9974 - val_loss: 0.8579 - val_accuracy: 0.9049\n",
            "Epoch 9/40\n",
            "1531/1531 [==============================] - 21s 13ms/step - loss: 0.0048 - accuracy: 0.9985 - val_loss: 0.8110 - val_accuracy: 0.9010\n",
            "Epoch 10/40\n",
            "1531/1531 [==============================] - 21s 13ms/step - loss: 0.0055 - accuracy: 0.9981 - val_loss: 0.9017 - val_accuracy: 0.8992\n",
            "Epoch 11/40\n",
            "1531/1531 [==============================] - 21s 14ms/step - loss: 0.0070 - accuracy: 0.9973 - val_loss: 1.0222 - val_accuracy: 0.8983\n",
            "Epoch 12/40\n",
            "1531/1531 [==============================] - 21s 14ms/step - loss: 0.0049 - accuracy: 0.9984 - val_loss: 1.0208 - val_accuracy: 0.8975\n",
            "Epoch 13/40\n",
            "1531/1531 [==============================] - 20s 13ms/step - loss: 0.0047 - accuracy: 0.9982 - val_loss: 1.1229 - val_accuracy: 0.9010\n",
            "Epoch 14/40\n",
            "1531/1531 [==============================] - 20s 13ms/step - loss: 0.0038 - accuracy: 0.9986 - val_loss: 1.0860 - val_accuracy: 0.8981\n",
            "Epoch 15/40\n",
            "1531/1531 [==============================] - 20s 13ms/step - loss: 0.0041 - accuracy: 0.9986 - val_loss: 1.2130 - val_accuracy: 0.8987\n",
            "Epoch 16/40\n",
            "1531/1531 [==============================] - 21s 14ms/step - loss: 0.0058 - accuracy: 0.9982 - val_loss: 1.1052 - val_accuracy: 0.8991\n",
            "Epoch 17/40\n",
            "1531/1531 [==============================] - 22s 14ms/step - loss: 0.0034 - accuracy: 0.9986 - val_loss: 1.1311 - val_accuracy: 0.8997\n",
            "Epoch 18/40\n",
            "1531/1531 [==============================] - 22s 14ms/step - loss: 0.0020 - accuracy: 0.9993 - val_loss: 1.2221 - val_accuracy: 0.9013\n",
            "Epoch 19/40\n",
            "1531/1531 [==============================] - 22s 14ms/step - loss: 0.0049 - accuracy: 0.9984 - val_loss: 1.2207 - val_accuracy: 0.8887\n",
            "Epoch 20/40\n",
            "1531/1531 [==============================] - 22s 14ms/step - loss: 0.0058 - accuracy: 0.9980 - val_loss: 1.3401 - val_accuracy: 0.8988\n",
            "Epoch 21/40\n",
            "1531/1531 [==============================] - 22s 14ms/step - loss: 0.0030 - accuracy: 0.9990 - val_loss: 1.2116 - val_accuracy: 0.8992\n",
            "Epoch 22/40\n",
            "1531/1531 [==============================] - 21s 14ms/step - loss: 0.0020 - accuracy: 0.9993 - val_loss: 1.2633 - val_accuracy: 0.8990\n",
            "Epoch 23/40\n",
            "1531/1531 [==============================] - 21s 13ms/step - loss: 0.0034 - accuracy: 0.9988 - val_loss: 1.2459 - val_accuracy: 0.8976\n",
            "Epoch 24/40\n",
            "1531/1531 [==============================] - 21s 13ms/step - loss: 0.0040 - accuracy: 0.9987 - val_loss: 1.3443 - val_accuracy: 0.8966\n",
            "Epoch 25/40\n",
            "1531/1531 [==============================] - 21s 14ms/step - loss: 0.0034 - accuracy: 0.9989 - val_loss: 1.3208 - val_accuracy: 0.8962\n",
            "Epoch 26/40\n",
            "1531/1531 [==============================] - 22s 14ms/step - loss: 0.0017 - accuracy: 0.9994 - val_loss: 1.2587 - val_accuracy: 0.8996\n",
            "Epoch 27/40\n",
            "1531/1531 [==============================] - 21s 14ms/step - loss: 0.0036 - accuracy: 0.9988 - val_loss: 1.4682 - val_accuracy: 0.9006\n",
            "Epoch 28/40\n",
            "1531/1531 [==============================] - 21s 14ms/step - loss: 0.0040 - accuracy: 0.9987 - val_loss: 1.3936 - val_accuracy: 0.8989\n",
            "Epoch 29/40\n",
            "1531/1531 [==============================] - 22s 14ms/step - loss: 0.0025 - accuracy: 0.9989 - val_loss: 1.2973 - val_accuracy: 0.8996\n",
            "Epoch 30/40\n",
            "1531/1531 [==============================] - 22s 14ms/step - loss: 0.0029 - accuracy: 0.9990 - val_loss: 1.3387 - val_accuracy: 0.8991\n",
            "Epoch 31/40\n",
            "1531/1531 [==============================] - 22s 14ms/step - loss: 0.0021 - accuracy: 0.9991 - val_loss: 1.4567 - val_accuracy: 0.9011\n",
            "Epoch 32/40\n",
            "1531/1531 [==============================] - 21s 14ms/step - loss: 0.0024 - accuracy: 0.9990 - val_loss: 1.3836 - val_accuracy: 0.8979\n",
            "Epoch 33/40\n",
            "1531/1531 [==============================] - 22s 15ms/step - loss: 0.0020 - accuracy: 0.9993 - val_loss: 1.3909 - val_accuracy: 0.8978\n",
            "Epoch 34/40\n",
            "1531/1531 [==============================] - 21s 14ms/step - loss: 0.0022 - accuracy: 0.9992 - val_loss: 1.4846 - val_accuracy: 0.8961\n",
            "Epoch 35/40\n",
            "1531/1531 [==============================] - 21s 14ms/step - loss: 0.0021 - accuracy: 0.9991 - val_loss: 1.5581 - val_accuracy: 0.8901\n",
            "Epoch 36/40\n",
            "1531/1531 [==============================] - 22s 14ms/step - loss: 0.0046 - accuracy: 0.9985 - val_loss: 1.4895 - val_accuracy: 0.8926\n",
            "Epoch 37/40\n",
            "1531/1531 [==============================] - 22s 14ms/step - loss: 0.0027 - accuracy: 0.9990 - val_loss: 1.4809 - val_accuracy: 0.8967\n",
            "Epoch 38/40\n",
            "1531/1531 [==============================] - 22s 14ms/step - loss: 0.0014 - accuracy: 0.9994 - val_loss: 1.5138 - val_accuracy: 0.8903\n",
            "Epoch 39/40\n",
            "1531/1531 [==============================] - 21s 14ms/step - loss: 0.0015 - accuracy: 0.9995 - val_loss: 1.4733 - val_accuracy: 0.8893\n",
            "Epoch 40/40\n",
            "1531/1531 [==============================] - 22s 14ms/step - loss: 0.0019 - accuracy: 0.9993 - val_loss: 1.5812 - val_accuracy: 0.8889\n"
          ],
          "name": "stdout"
        },
        {
          "output_type": "display_data",
          "data": {
            "image/png": "[encoded data removed]",
            "text/plain": [
              "<Figure size 432x288 with 2 Axes>"
            ]
          },
          "metadata": {
            "tags": [],
            "needs_background": "light"
          }
        }
      ]
    },
    {
      "cell_type": "markdown",
      "metadata": {
        "id": "LlwYwP7LbzH9",
        "colab_type": "text"
      },
      "source": [
        "####4.3.5 Đánh giá mô hình trên tập test"
      ]
    },
    {
      "cell_type": "code",
      "metadata": {
        "id": "0_Fmm8rt3cBE",
        "colab_type": "code",
        "colab": {
          "base_uri": "https://localhost:8080/",
          "height": 153
        },
        "outputId": "6aa157db-680b-402c-854c-b38be06441b6"
      },
      "source": [
        "test_sequences = tokenizer.texts_to_sequences(X_test)\n",
        "test_padded = pad_sequences(test_sequences, maxlen=max_length, truncating='post', padding='post')\n",
        "print(test_padded)\n",
        "print(test_padded.shape)"
      ],
      "execution_count": null,
      "outputs": [
        {
          "output_type": "stream",
          "text": [
            "[[  15  324 1576 ...    0    0    0]\n",
            " [  13  324  134 ...    0    0    0]\n",
            " [ 664  667  799 ...    0    0    0]\n",
            " ...\n",
            " [   5  239   73 ...    0    0    0]\n",
            " [   4  279   15 ...    0    0    0]\n",
            " [   3  266   13 ...    0    0    0]]\n",
            "(4798, 250)\n"
          ],
          "name": "stdout"
        }
      ]
    },
    {
      "cell_type": "code",
      "metadata": {
        "id": "emdVZtU54beT",
        "colab_type": "code",
        "colab": {
          "base_uri": "https://localhost:8080/",
          "height": 170
        },
        "outputId": "a0a34974-97e1-417b-a1ce-1ed3884e39f9"
      },
      "source": [
        "test_pred = model.predict(test_padded)\n",
        "for i in range (0, len(test_pred)):\n",
        "  if float(test_pred[i]) >= 0.5:\n",
        "    test_pred[i] = 1\n",
        "  else :\n",
        "    test_pred[i] = 0\n",
        "report = metrics.classification_report(y_test, test_pred, labels=[0,1], digits=3)\n",
        "print(report)"
      ],
      "execution_count": null,
      "outputs": [
        {
          "output_type": "stream",
          "text": [
            "              precision    recall  f1-score   support\n",
            "\n",
            "           0      0.752     0.718     0.735      1000\n",
            "           1      0.927     0.938     0.932      3798\n",
            "\n",
            "   micro avg      0.892     0.892     0.892      4798\n",
            "   macro avg      0.839     0.828     0.833      4798\n",
            "weighted avg      0.890     0.892     0.891      4798\n",
            "\n"
          ],
          "name": "stdout"
        }
      ]
    },
    {
      "cell_type": "code",
      "metadata": {
        "id": "6-GVtcZzky9G",
        "colab_type": "code",
        "colab": {}
      },
      "source": [
        "import io\n",
        "out_v = io.open('vecs.tsv', 'w', encoding='utf-8')\n",
        "out_m = io.open('meta.tsv', 'w', encoding='utf-8')\n",
        "\n",
        "for i in range(1, vocab_size):\n",
        "  word = tokenizer.index_word[i]\n",
        "  vector = weights[i]\n",
        "  out_m.write(word + \"\\n\")\n",
        "  out_v.write(\"\\t\".join([str(x) for x in vector ]) + \"\\n\")\n",
        "\n",
        "out_m.close()\n",
        "out_v.close()\n"
      ],
      "execution_count": null,
      "outputs": []
    },
    {
      "cell_type": "markdown",
      "metadata": {
        "id": "kn2_qFu77ONX",
        "colab_type": "text"
      },
      "source": [
        "## **Xử lý dữ liệu mất cân bằng**\n",
        "Có một hướng tiếp cận được gọi là ‘**Resampling**’ để hai classes có lượng dữ liệu tương đối như nhau. \n",
        "1. Cách thứ nhất là **UNDER-sampling**, tức chỉ chọn ra vài phần tử của class trội hơn và kết hợp với class còn lại để làm dữ liệu training. \n",
        "\n",
        "2. Cách thứ hai là **OVER-sampling**, tức có thể lặp lại dữ liệu, hoặc tìm cách kết hợp để tạo ra dữ liệu mới, của class ít hơn, và kết hợp với class còn lại để làm dữ liệu training."
      ]
    },
    {
      "cell_type": "markdown",
      "metadata": {
        "id": "Mj9Cgf8Fsy_y",
        "colab_type": "text"
      },
      "source": [
        "### **Undersampling**"
      ]
    },
    {
      "cell_type": "markdown",
      "metadata": {
        "id": "GPpTcN4Le4Qi",
        "colab_type": "text"
      },
      "source": [
        "Kiểm tra số lượng của tập nhỏ hơn"
      ]
    },
    {
      "cell_type": "code",
      "metadata": {
        "id": "sPiOjfP_7Q18",
        "colab_type": "code",
        "colab": {
          "base_uri": "https://localhost:8080/",
          "height": 34
        },
        "outputId": "c32a9590-52d9-45fd-a6d9-24884d3da67f"
      },
      "source": [
        "minority_class_len = len(df[df[\"ratings\"] == 0])\n",
        "print(minority_class_len)"
      ],
      "execution_count": null,
      "outputs": [
        {
          "output_type": "stream",
          "text": [
            "8366\n"
          ],
          "name": "stdout"
        }
      ]
    },
    {
      "cell_type": "code",
      "metadata": {
        "id": "TM9e0RPQ7s4L",
        "colab_type": "code",
        "colab": {
          "base_uri": "https://localhost:8080/",
          "height": 119
        },
        "outputId": "c0093fe8-c393-46e6-9d17-9cb66ae9bdb8"
      },
      "source": [
        "majority_class_indices = df[df[\"ratings\"] == 1].index\n",
        "print(majority_class_indices)"
      ],
      "execution_count": null,
      "outputs": [
        {
          "output_type": "stream",
          "text": [
            "Int64Index([    0,     1,     2,     3,     4,     5,     6,     7,     9,\n",
            "               10,\n",
            "            ...\n",
            "            34973, 34974, 34975, 34976, 34977, 34978, 34979, 34980, 34981,\n",
            "            34982],\n",
            "           dtype='int64', length=26619)\n"
          ],
          "name": "stdout"
        }
      ]
    },
    {
      "cell_type": "markdown",
      "metadata": {
        "id": "DOhcdgD7ryYy",
        "colab_type": "text"
      },
      "source": [
        "Chọn ngẫu nhiên các bình luận trong tập lớn với số lượng bằng với số lượng tập nhỏ "
      ]
    },
    {
      "cell_type": "code",
      "metadata": {
        "id": "fJwRDJsl77re",
        "colab_type": "code",
        "colab": {
          "base_uri": "https://localhost:8080/",
          "height": 34
        },
        "outputId": "508570f1-77a6-4e97-fdea-f21e80a3defd"
      },
      "source": [
        "random_majority_indices = np.random.choice(majority_class_indices, minority_class_len, replace=False)\n",
        "print(len(random_majority_indices))"
      ],
      "execution_count": null,
      "outputs": [
        {
          "output_type": "stream",
          "text": [
            "8366\n"
          ],
          "name": "stdout"
        }
      ]
    },
    {
      "cell_type": "code",
      "metadata": {
        "id": "rOYWbiO68PPt",
        "colab_type": "code",
        "colab": {
          "base_uri": "https://localhost:8080/",
          "height": 119
        },
        "outputId": "a835193a-126b-4de5-c178-bace9ca0fdd4"
      },
      "source": [
        "minority_class_indices = df[df[\"ratings\"] == 0].index\n",
        "print(minority_class_indices)"
      ],
      "execution_count": null,
      "outputs": [
        {
          "output_type": "stream",
          "text": [
            "Int64Index([    8,    12,    13,    14,    16,    19,    29,    33,    49,\n",
            "               66,\n",
            "            ...\n",
            "            34955, 34956, 34958, 34960, 34961, 34967, 34971, 34972, 34983,\n",
            "            34984],\n",
            "           dtype='int64', length=8366)\n"
          ],
          "name": "stdout"
        }
      ]
    },
    {
      "cell_type": "markdown",
      "metadata": {
        "id": "ovYSbCstsKgp",
        "colab_type": "text"
      },
      "source": [
        "Kết hợp 2 tập lớn mới mà tập nhỏ ta có được 1 dataset cân bằng hơn dataset cũ. Từ đó, ta chạy lại các thuật toán máy học để đánh giá kết quả"
      ]
    },
    {
      "cell_type": "code",
      "metadata": {
        "id": "4m9hT0_t8p5-",
        "colab_type": "code",
        "colab": {
          "base_uri": "https://localhost:8080/",
          "height": 255
        },
        "outputId": "afe9bd3e-4b2e-4a75-8c79-b487a7f10de8"
      },
      "source": [
        "under_sample_indices = np.concatenate([minority_class_indices, random_majority_indices])\n",
        "under_sample = df.loc[under_sample_indices]\n",
        "print(under_sample)\n"
      ],
      "execution_count": null,
      "outputs": [
        {
          "output_type": "stream",
          "text": [
            "                                               comments  ratings\n",
            "8     Đã tới ăn , vị ổn , nhưng mình tưởng như hình ...        0\n",
            "12    Bánh tráng cuộn thịt heo quá mắc, giá bán 63k ...        0\n",
            "13    Mình chỉ order về 2 món: nộm bò với mì quảng -...        0\n",
            "14      Book foody , quán đóng gói sạch sẽ, ăn khá ngon        0\n",
            "16    Quán ăn ngon, phục vụ tốt, sạch sẽ. Decor quán...        0\n",
            "...                                                 ...      ...\n",
            "8114  .Dành cho ai muốn đi tìm hương vị bình dị của ...        1\n",
            "9547  Mình đến gọi thử thức uống mới là Mango Mango,...        1\n",
            "192   Bánh ngon xuất sắc, vỏ bánh mỏng mềm và dai, l...        1\n",
            "9966  Vào mì cay sasin mà không ăn mì cay vì mình kh...        1\n",
            "8693  Hôm nay order cả hai phần vì đói quá. Bữa nào ...        1\n",
            "\n",
            "[16732 rows x 2 columns]\n"
          ],
          "name": "stdout"
        }
      ]
    },
    {
      "cell_type": "code",
      "metadata": {
        "id": "JlpGHUIIvC8H",
        "colab_type": "code",
        "colab": {
          "base_uri": "https://localhost:8080/",
          "height": 330
        },
        "outputId": "7a83a3c4-55e9-4dd6-b4d3-43d72d1393a3"
      },
      "source": [
        "sns.countplot(x='ratings', data=under_sample)\n",
        "print(under_sample['ratings'].value_counts())"
      ],
      "execution_count": null,
      "outputs": [
        {
          "output_type": "stream",
          "text": [
            "1    8366\n",
            "0    8366\n",
            "Name: ratings, dtype: int64\n"
          ],
          "name": "stdout"
        },
        {
          "output_type": "display_data",
          "data": {
            "image/png": "[encoded data removed]",
            "text/plain": [
              "<Figure size 432x288 with 1 Axes>"
            ]
          },
          "metadata": {
            "tags": [],
            "needs_background": "light"
          }
        }
      ]
    },
    {
      "cell_type": "code",
      "metadata": {
        "id": "1WGuNcIHoc3C",
        "colab_type": "code",
        "colab": {}
      },
      "source": [
        "undersampling_X_train, undersampling_X_val, undersampling_y_train, undersampling_y_val = train_test_split(under_sample[\"comments\"], under_sample[\"ratings\"], test_size=0.3, random_state=42)\n",
        "undersampling_X_train, undersampling_y_train = transform_to_dataset(undersampling_X_train, undersampling_y_train)\n",
        "undersampling_X_val, undersampling_y_val = transform_to_dataset(undersampling_X_val, undersampling_y_val)"
      ],
      "execution_count": null,
      "outputs": []
    },
    {
      "cell_type": "code",
      "metadata": {
        "id": "lVgpkfIinXVy",
        "colab_type": "code",
        "colab": {}
      },
      "source": [
        "undersampling_X_train = np.array(undersampling_X_train)\n",
        "undersampling_y_train = np.array(undersampling_y_train)\n",
        "undersampling_X_val = np.array(undersampling_X_val)\n",
        "undersampling_y_val = np.array(undersampling_y_val)"
      ],
      "execution_count": null,
      "outputs": []
    },
    {
      "cell_type": "markdown",
      "metadata": {
        "id": "cIKpGO6IkVrP",
        "colab_type": "text"
      },
      "source": [
        "#### Tfidf"
      ]
    },
    {
      "cell_type": "code",
      "metadata": {
        "id": "Eag8TAbQ0KR9",
        "colab_type": "code",
        "colab": {
          "base_uri": "https://localhost:8080/",
          "height": 88
        },
        "outputId": "2fb92a42-9d09-4d5b-eb00-e42a511bdfa9"
      },
      "source": [
        "tf_undersampling = TfidfVectorizer(min_df=5,max_df= 0.8,max_features=3000,sublinear_tf=True)\n",
        "tf_undersampling.fit(undersampling_X_train)\n",
        "print(len(tf_undersampling.vocabulary_))\n",
        "undersampling_vector_train = tf_undersampling.transform(undersampling_X_train)\n",
        "undersampling_vector_val = tf_undersampling.transform(undersampling_X_val)\n",
        "\n",
        "print (tf_undersampling.vocabulary_)\n",
        "print (tf_undersampling.idf_)"
      ],
      "execution_count": null,
      "outputs": [
        {
          "output_type": "stream",
          "text": [
            "3000\n",
            "{'hôm_nay': 1080, 'vừa': 2731, 'lúc': 1371, 'đang': 2854, 'có': 610, 'mã': 1512, 'code': 553, '50k': 64, 'cho': 426, 'đơn': 2898, 'đặt_hàng': 2930, 'qua': 1941, 'nên': 1807, 'gọi': 954, 'luôn': 1348, 'ding': 742, 'tea': 2202, 'chùa': 483, 'láng': 1360, 'positive': 1936, 'giao': 888, 'hàng': 1065, 'trường': 2492, 'mình': 1517, 'mất': 1532, 'phí': 1913, '5k': 67, 'thôi': 2317, 'trà': 2475, 'xanh': 2746, 'mà': 1504, 'bù': 288, 'thêm': 2312, 'quá': 1962, 'lời': 1410, 'khá': 1201, 'ok': 1856, 'rất': 2038, 'thơm': 2321, 'thì': 2313, 'thật_sự': 2338, 'ngon': 1622, 'dai': 686, 'dẻo': 817, 'cốc': 659, 'cỡ': 664, 'uống': 2633, 'no': 1764, 'lắm': 1398, 'vị_trí': 2720, 'từ': 2614, 'thanh': 2221, 'đi': 2858, 'vào': 2692, 'khoảng': 1186, 'bên': 277, 'nhân_viên': 1721, 'đồ': 2950, 'hơi': 1085, 'bị': 323, 'sớm': 2165, 'thành': 2304, 'ra': 1977, 'học': 1109, 'cứ': 669, 'phải': 1921, 'để': 2939, 'bạn': 302, 'đợi': 2967, '10p': 4, 'hom_nay': 1030, 'vua': 2675, 'luc': 1335, 'dang': 692, 'co': 540, 'ma': 1418, 'don': 756, 'dat_hang': 699, 'nen': 1588, 'goi': 928, 'luon': 1344, 'chua': 440, 'lang': 1288, 'hang': 972, 'truong': 2471, 'minh': 1460, 'mat': 1431, 'phi': 1892, 'thoi': 2270, 'tra': 2425, 'bu': 225, 'them': 2241, 'loi': 1320, 'kha': 1144, 'rat': 1984, 'thom': 2273, 'thi': 2245, 'that_su': 2231, 'deo': 724, 'coc': 551, 'uong': 2626, 'lam': 1282, 'vi_tri': 2649, 'tu': 2512, 'di': 728, 'vao': 2640, 'khoang': 1177, 'ben': 186, 'nhan_vien': 1680, 'do': 747, 'hoi': 1027, 'bi': 192, 'som': 2099, 'hoc': 1025, 'cu': 572, 'phai': 1879, 'de': 711, 'ban': 142, 'doi': 753, 'quán': 1964, 'dễ': 818, 'tìm': 2549, 'ngay': 1601, 'gần': 950, 'chợ': 527, 'đêm': 2884, 'ăn': 2842, 'tất_cả': 2583, 'đều': 2938, 'tuyệt': 2536, 'đặc_biệt': 2925, 'nguyên_liệu': 1645, 'được': 2902, 'nhật': 1743, 'kem': 1136, 'cá': 597, 'lun': 1338, 'miễn': 1468, 'bàn': 249, 'nhỏ': 1750, 'xinh': 2762, 'nhìn': 1725, 'không_khí': 1216, 'anh': 119, 'chủ': 530, 'là': 1353, 'về': 2714, 'trong': 2458, 'ngoài': 1632, 'và': 2689, 'một': 1556, 'siêu': 2092, 'tâm': 2546, 'nhất_định': 1739, 'sẽ': 2158, 'quay': 1952, 'lại': 1387, 'quan': 1943, 'tim': 2379, 'gan': 857, 'dem': 721, 'an': 107, 'tat_ca': 2196, 'deu': 727, 'tuyet': 2533, 'dac_biet': 682, 'nguyen_lieu': 1643, 'duoc': 778, 'nhat': 1686, 'ca': 345, 'mien': 1453, 'nho': 1703, 'nhin': 1698, 'khong_khi': 1182, 'chu': 434, 'la': 1277, 've': 2645, 'ngoai': 1617, 'va': 2634, 'mot': 1482, 'sieu': 2083, 'tam': 2188, 'nhat_dinh': 1687, 'se': 2074, 'lai': 1280, 'nay': 1578, 'chuyển': 461, '29': 38, 'ngô': 1655, 'gia': 875, 'tự': 2616, 'nha': 1671, 'các': 600, 'không_gian': 1215, 'rộng_rãi': 2045, 'thoáng': 2276, 'mát': 1508, 'phục_vụ': 1930, 'chu_đáo': 439, 'nhiệt_tình': 1702, 'còn': 609, 'thức_uống': 2358, 'pha_chế': 1878, 'chuyen': 457, 'ngo': 1616, 'cac': 351, 'khong_gian': 1181, 'rong_rai': 2008, 'thoang': 2268, 'phuc_vu': 1905, 'chu_dao': 435, 'nhiet_tinh': 1696, 'con': 564, 'thuc_uong': 2292, 'pha_che': 1877, 'sữa_tươi': 2174, 'tc': 2200, 'matcha': 1436, 'nhưng': 1734, 'thấy': 2332, 'đắng': 2921, 'nhẹ': 1747, 'mùi': 1524, 'vị': 2719, 'sữa': 2172, 'cá_nhân': 599, 'chỉ': 516, 'lần': 1392, 'biết': 205, 'sua_tuoi': 2118, 'nhung': 1714, 'thay': 2233, 'nhe': 1690, 'nang': 1573, 'mui': 1491, 'at': 127, 'vi': 2648, 'sua': 2114, 'ca_nhan': 348, 'chi': 409, 'lan': 1287, 'biet': 196, 'ấn_tượng': 2985, 'nhất': 1738, 'khi': 1163, 'đây': 2881, 'đẹp': 2931, 'tha_hồ': 2210, 'tiếp': 2389, 'đến': 2935, 'món': 1521, 'chả_cốm': 498, 'đúng': 2894, 'khác': 1202, 'thường': 2324, 'mỡ': 1564, 'cảm_thấy': 643, 'sự': 2177, 'khách': 1204, 'biệt': 207, 'rõ_ràng': 2029, 'mắm_tôm': 1538, 'cũng': 625, 'ổn': 2996, 'nói_chung': 1810, 'ruột': 2024, 'của': 668, 'an_tuong': 114, 'day': 708, 'dep': 725, 'tha_ho': 2209, 'tiep': 2373, 'den': 722, 'mon': 1478, 'cha_com': 385, 'dung': 777, 'khac': 1145, 'thuong': 2296, 'mo': 1472, 'cam_thay': 362, 'su': 2112, 'khach': 1148, 'ro_rang': 2005, 'mam_tom': 1427, 'cung': 580, 'on': 1860, 'noi_chung': 1770, 'ruot': 2018, 'cua': 574, 'đã': 2882, 'nhiều': 1701, 'nơi': 1815, 'cơm_tấm': 634, 'chất_lượng': 505, 'chuẩn': 463, 'suất': 2133, 'sườn': 2149, 'bì': 278, 'chả': 496, 'trứng': 2507, 'đủ': 2969, 'cả': 638, 'ngày': 1649, 'ướp': 2979, 'nướng': 1825, 'kèm': 1257, 'thỉnh_thoảng': 2347, 'khoai_tây': 1175, 'xào': 2792, 'tuy_nhiên': 2532, 'hay': 983, 'đặt': 2929, 'vì': 2696, 'hẹp': 1101, 'ngồi': 1668, 'mùa': 1523, 'hè': 1072, 'nóng': 1812, 'da': 676, 'nhieu': 1697, 'noi': 1768, 'com_tam': 560, 'chat_luong': 398, 'chuan': 444, 'suat': 2119, 'suon': 2126, 'cha': 383, 'trung': 2462, 'du': 768, 'uop': 2627, 'nuong': 1793, 'thinh_thoang': 2255, 'khoai_tay': 1174, 'xao': 2747, 'tuy_nhien': 2531, 'dat': 698, 'hep': 993, 'ngoi': 1621, 'mua': 1489, 'he': 987, 'nong': 1775, 'cơm': 631, 'trộn': 2503, 'thực_sự': 2365, 'với': 2725, 'giá': 903, '40k': 56, 'nhanh': 1682, 'vẫn': 2709, 'vài': 2690, 'giá_cả': 904, 'oke': 1857, 'nữa': 1848, 'com': 557, 'tron': 2457, 'thuc_su': 2290, 'voi': 2667, 'van': 2636, 'vai': 2635, 'gia_ca': 876, 'nua': 1782, 'er': 839, 'nhà': 1715, 'hương_vị': 1088, 'không': 1214, 'đặc_sắc': 2927, 'nước': 1816, 'dùng': 800, 'hôi': 1078, 'đầu': 2908, 'tôm': 2561, 'huong_vi': 1052, 'khong': 1180, 'dac_sac': 683, 'nuoc': 1784, 'dau': 700, 'tom': 2411, 'huế': 1057, 'tranh_thủ': 2441, 'chay': 400, 'thất_vọng': 2331, 'sợ': 2166, 'nước_chấm': 1817, 'như': 1730, 'đường': 2901, 'rồi': 2043, 'bỏ': 327, 'hue': 1048, 'tranh_thu': 2440, 'that_vong': 2232, 'so': 2093, 'nuoc_cham': 1785, 'nhu': 1708, 'duong': 780, 'dua': 772, 'roi': 2006, 'bo': 211, 'dia': 730, 'vé': 2695, 'vô': 2699, 'đổi': 2960, 'loại': 1330, 'ko': 1254, 'hình': 1073, 'vẻ': 2713, 'bằng': 320, 'ng': 1593, 'trống': 2502, 'kêu': 1261, 'thiệt': 2264, 'làm': 1354, 'gì': 943, 'negative': 1583, 'nhạc': 1735, 'cái': 602, 'view': 2654, 'chứ': 533, 'tạm': 2579, 'tệ': 2594, 'vo': 2664, 'loai': 1315, 'hinh': 1007, 'bang': 150, 'keu': 1142, 'thiet': 2251, 'gi': 874, 'nhac': 1674, 'cai': 355, 'te': 2201, 'lẩu': 1394, 'thực_đơn': 2367, 'chính': 481, 'thái': 2306, 'kể': 1272, 'trái': 2477, 'dứa': 831, 'gỏi': 957, 'đu_đủ': 2869, 'pad': 1870, 'chiên': 423, 'xoài': 2776, 'gà': 939, 'rút_xương': 2032, 'nhớ': 1752, 'hết': 1104, 'đậm_đà': 2915, 'thịt': 2348, 'hải_sản': 1094, 'rau': 1986, 'cùng': 619, 'tươi': 2570, 'đưa': 2900, 'địa_điểm': 2943, 'thường_xuyên': 2325, 'lau': 1295, 'thuc_don': 2286, 'chinh': 420, 'thai': 2213, 'ke': 1134, 'trai': 2427, 'du_du': 769, 'chien': 416, 'xoai': 2770, 'ga': 854, 'rut_xuong': 2021, 'het': 995, 'dam_da': 690, 'thit': 2257, 'hai_san': 967, 'tuoi': 2524, 'dia_diem': 732, 'thuong_xuyen': 2299, 'đĩa': 2896, 'há': 1069, 'cảo': 647, 'star': 2109, 'ưng': 2975, 'chỗ': 524, 'này': 1800, 'ngọt': 1667, 'cực_kỳ': 675, 'sinh_viên': 2090, 'lượng': 1382, 'ít': 2833, 'hoàn_toàn': 1041, 'thông_cảm': 2319, 'mức': 1565, 'hề': 1106, 'ngấm': 1662, 'ngoan': 1620, 'lễ_phép': 1400, 'bảo_vệ': 308, 'ngõ': 1656, 'tầng': 2585, 'cảm_giác': 641, 'phù_hợp': 1917, 'việc': 2661, 'hoặc': 1043, 'đọc': 2945, 'sách': 2136, 'hơn': 1086, 'nhóm': 1728, 'định': 2944, 'đông': 2891, 'nói_chuyện': 1811, 'ha': 962, 'cao': 371, 'ung': 2623, 'ngot': 1631, 'cuc_ky': 578, 'sinh_vien': 2089, 'luong': 1345, 'it': 1129, 'hoan_toan': 1023, 'thong_cam': 2275, 'muc': 1490, 'ngam': 1596, 'le_phep': 1300, 'bao_ve': 171, 'tang': 2191, 'cam_giac': 359, 'phu_hop': 1903, 'viec': 2651, 'hoac': 1021, 'doc': 752, 'sach': 2049, 'hon': 1032, 'nhom': 1707, 'bam': 141, 'dinh': 744, 'dong': 758, 'noi_chuyen': 1771, 'tên': 2548, 'lâu': 1362, 'lên': 1367, 'xong': 2773, 'chẳng': 512, '45': 58, 'phút': 1919, 'mặc_dù': 1541, 'hỏi': 1111, 'trước': 2491, 'ghi': 866, 'bưng': 296, 'từng': 2615, 'nào': 1799, 'chờ': 525, 'nhé': 1724, 'ten': 2204, 'len': 1301, 'chang': 392, 'phut': 1907, 'mac_du': 1421, 'lua': 1332, 'truoc': 2470, 'bung': 237, 'tung': 2523, 'nao': 1574, 'hài_lòng': 1063, 'cách': 601, 'mít': 1519, 'báo': 268, 'người_ta': 1659, 'đằng': 2923, 'sữa_chua': 2173, 'kiểu': 1252, 'hai_long': 966, 'cach': 353, 'mit': 1463, 'bao': 164, 'nguoi_ta': 1640, 'sua_chua': 2115, 'kieu': 1231, 'auto': 129, 'đếm': 2934, 'người': 1657, 'bán': 255, 'dĩa': 801, 'nam': 1571, 'nữ': 1847, 'xa': 2742, 'mệt': 1549, 'ăn_nổi': 2844, 'xin': 2759, 'hộp': 1118, 'mang': 1429, 'đà': 2871, 'lạt': 1389, 'gặp': 953, 'những': 1754, 'thế': 2343, 'phá': 1909, 'hỏng': 1112, 'thành_phố': 2305, 'mọi': 1552, 'cần': 650, 'bước': 297, 'nguoi': 1637, 'nu': 1781, 'met': 1449, 'an_noi': 109, 'hop': 1034, 'lat': 1293, 'gap': 859, 'the': 2238, 'pha': 1876, 'hong': 1033, 'thanh_pho': 2222, 'moi': 1476, 'can': 365, 'buoc': 238, 'bún': 290, 'đậu': 2917, 'giòn': 907, 'ngậy': 1665, 'nem_rán': 1587, 'vừa_miệng': 2732, 'khẩu_vị': 1220, 'điều': 2861, 'mắm': 1536, 'sau': 2069, 'lấy': 1391, 'ủng_hộ': 2999, 'bun': 233, 'gion': 895, 'nem_ran': 1586, 'vua_mieng': 2676, 'khau_vi': 1159, 'dieu': 738, 'mam': 1425, 'lay': 1298, 'ung_ho': 2624, 'pl': 1933, 'hút': 1084, 'bé': 272, 'chắc': 510, 'dám': 788, 'chưa': 493, 'bao_giờ': 166, 'ntn': 1780, 'hut': 1054, 'be': 182, 'chac': 386, 'dam': 688, 'bao_gio': 165, 'thức_ăn': 2359, 'sạch_sẽ': 2151, 'tận_tình': 2588, 'đồ_ăn': 2952, 'cực_kì': 674, 'thuc_an': 2285, 'sach_se': 2050, 'tan_tinh': 2190, 'do_an': 748, 'cuc_ki': 577, 'bàn_ghế': 250, 'gỗ': 960, 'bò': 285, 'cuốn': 588, 'lá': 1359, 'mềm': 1548, 'theo': 2242, 'cảm_nhận': 642, 'mặn': 1542, 'chấm': 502, 'trên': 2484, '10k': 3, 'recomend': 1996, 'đảm_bảo': 2904, 'đỡ': 2966, 'ban_ghe': 147, 'go': 925, 'tiem': 2370, 'cuon': 583, 'lot': 1325, 'mem': 1445, 'cam_nhan': 360, 'man': 1428, 'cham': 389, 'tren': 2447, 'cam': 358, 'dam_bao': 689, 'trần': 2496, 'duy': 781, 'royal': 2010, 'rùi': 2030, 'bất_tiện': 310, 'cố_gắng': 658, 'nhỉ': 1749, 'nổi': 1840, 'khỏi': 1224, 'nói': 1809, 'bao_nhiêu': 170, 'cơ_sở': 630, 'hà': 1061, 'nội': 1843, 'chán': 468, 'ghê': 871, 'giờ': 922, 'menu': 1447, 'hợp_lý': 1121, 'nè': 1803, 'sốt': 2162, 'cực': 673, 'đâu': 2880, 'một_mình': 1558, 'cân': 606, 'bình_thường': 282, 'xuất_sắc': 2788, 'chuyên': 459, 'tran': 2432, 'hung': 1049, 'rui': 2014, 'bat_tien': 179, 'co_gang': 543, 'nhi': 1694, 'khoi': 1179, 'bao_nhieu': 169, 'co_so': 548, 'chan': 391, 'ghe': 864, 'gio': 892, 'hop_ly': 1036, 'ne': 1582, 'sot': 2103, 'cuc': 576, 'mot_minh': 1484, 'binh_thuong': 203, 'xuat_sac': 2780, 'mới': 1560, 'mỹ': 1568, 'bufet': 231, 'rẻ': 2041, 'thử': 2361, 'mặt': 1543, 'điểm': 2863, 'cộng': 663, 'hôm': 1079, 'đó': 2886, 'đứng': 2971, 'chua_cay': 441, 'nồi': 1838, 'khay': 1160, 'chín': 480, 'tiện': 2396, 'nguội': 1646, 'căng': 622, 'lo': 1313, 'giá_thành': 905, 'my': 1503, 're': 1995, 'thu': 2279, 'diem': 735, 'cong': 566, 'hom': 1029, 'chin': 419, 'tien': 2371, 'cang': 367, 'gia_thanh': 878, 'nhà_hàng': 1716, 'chê': 479, 'nổi_bật': 1841, 'sang_trọng': 2062, 'ai': 95, 'hợp': 1119, 'đầu_tiên': 2910, 'bác': 254, 'bình_dân': 280, 'hồng': 1115, 'làm_ăn': 1358, 'rượu': 2036, 'sao': 2064, 'mong': 1479, 'duoi': 779, 'hanh': 973, 'nha_hang': 1672, 'che': 401, 'noi_bat': 1769, 'sang_trong': 2061, 'dau_tien': 706, 'bac': 134, 'binh_dan': 201, 'lam_an': 1283, 'ruou': 2019, 'ngoài_trời': 1634, 'ngắm': 1666, 'cảnh': 646, 'thuốc': 2301, 'thưởng_thức': 2326, 'ngoai_troi': 1619, 'canh': 369, 'thuoc': 2295, 'thuong_thuc': 2298, 'bọn': 326, 'combo': 561, 'gồm': 959, 'nấm': 1827, 'cháy': 472, 'salad': 2052, 'chọn': 520, 'kim_chi': 1233, 'nếu': 1835, 'đậu_phụ': 2918, '20k': 32, 'gái': 940, 'mỗi': 1555, 'tốt': 2599, 'trưa': 2490, 'lát': 1361, 'chắc_chắn': 511, 'bon': 217, 'gom': 930, 'chon': 431, 'neu': 1591, 'dau_phu': 704, 'gai': 855, 'tot': 2421, 'trua': 2460, 'chac_chan': 387, 'aley': 103, 'bài': 247, 'dịch_vụ': 824, 'tôi': 2560, 'dành': 786, 'lối': 1404, 'thu_ngân': 2281, 'now': 1778, 'vn': 2663, 'lựa_chọn': 1417, 'quen_thuộc': 1956, 'bụng': 339, 'sôi': 2145, 'tới': 2606, 'shiper': 2082, 'tại_sao': 2578, 'vụ': 2728, 'thiếu': 2262, 'tôn_trọng': 2562, 'sống': 2161, 'nhau': 1689, 'lẫn': 1395, '2019': 31, 'làm_việc': 1357, 'buổi': 244, 'sáng': 2137, 'ful': 853, 'thời_gian': 2354, 'fody': 849, 'hệ_thống': 1107, 'trả': 2493, 'tiền': 2393, 'khiến': 1166, 'trễ': 2501, 'thái_độ': 2307, 'đánh_giá': 2879, 'yêu_cầu': 2828, 'dù': 799, 'khó_chịu': 1210, 'nhẹ_nhàng': 1748, 'chốt': 521, 'số_lượng': 2160, 'thừa': 2360, 'xuống': 2789, 'phần': 1925, 'coi_thường': 556, 'nhận': 1741, 'vội': 2724, 'lịch_sự': 1401, 'rằng': 2040, 'giúp': 911, 'em': 836, 'tháng': 2308, 'xin_lỗi': 2761, 'bản_thân': 305, 'thế_nào': 2345, 'trời': 2504, 'gửi': 961, 'công_ty': 618, 'lý_do': 1374, 'hình_ảnh': 1076, 'đáng': 2877, 'thương': 2322, 'văn_phòng': 2703, 'thích': 2315, 'gây': 942, 'khó': 1209, 'quen': 1954, 'hiểu': 1012, 'trực_tiếp': 2510, 'dậy': 814, 'đuổi': 2870, 'thằng': 2340, 'đối_với': 2948, 'khách_hàng': 1205, 'mặc': 1540, 'chiếc': 424, 'áo': 2830, 'đỏ': 2946, 'họ': 1108, 'có_khi': 611, 'chung': 448, 'sản_phẩm': 2153, 'ấy': 2986, 'vấn_đề': 2708, 'quyết_định': 1961, 'tính': 2555, 'bộ': 331, 'thứ': 2357, 'chạy': 495, 'riêng': 2002, 'muộn': 1502, 'chậm': 506, 'đời': 2965, 'gia_đình': 881, '12': 5, 'tiếng': 2388, 'dưới': 806, 'nắng': 1830, 'kiếm': 1250, 'lương': 1379, 'nghìn': 1613, 'nó': 1808, 'cuối': 586, 'ship': 2081, 'hãy': 1071, 'tạo': 2580, 'viết': 2660, 'bát': 269, 'thân': 2309, 'bai': 139, 'dich_vu': 734, 'toi': 2407, 'danh': 694, 'thu_ngan': 2280, 'lua_chon': 1333, 'quen_thuoc': 1955, 'soi': 2098, 'ua': 2619, 'nghe': 1604, 'tai_sao': 2185, 'vu': 2674, 'thieu': 2254, 'ton_trong': 2415, 'song': 2102, 'lam_viec': 1286, 'buoi': 239, 'sang': 2059, 'thoi_gian': 2271, 'he_thong': 988, 'khien': 1164, 'tre': 2444, 'thai_do': 2214, 'danh_gia': 695, 'yeu_cau': 2821, 'kho_chiu': 1168, 'nhe_nhang': 1691, 'dap': 697, 'chot': 433, 'so_luong': 2094, 'thua': 2283, 'nem': 1584, 'xuong': 2786, 'phan': 1882, 'coi_thuong': 555, 'nhan': 1678, 'lich_su': 1305, 'rang': 1982, 'giup': 901, 'thang': 2220, 'xin_loi': 2760, 'ban_than': 148, 'the_nao': 2240, 'troi': 2455, 'gui': 938, 'cong_ty': 568, 'ly_do': 1351, 'hinh_anh': 1008, 'van_phong': 2638, 'thich': 2247, 'gay': 862, 'kho': 1167, 'hieu': 1004, 'truc_tiep': 2461, 'doi_voi': 755, 'khach_hang': 1150, 'mac': 1420, 'chiec': 415, 'ao': 123, 'ho': 1016, 'coi': 554, 'co_khi': 545, 'san_pham': 2058, 'ay': 130, 'van_de': 2637, 'quyet_dinh': 1960, 'tinh': 2382, 'rieng': 2000, 'muon': 1495, 'gia_dinh': 877, 'tieng': 2372, 'kiem': 1229, 'nghin': 1609, 'cuoi': 581, 'tao': 2193, 'viet': 2653, 'bat': 175, 'than': 2217, 'thật': 2336, 'mì': 1516, 'miễn_phí': 1469, 'ks': 1255, 'gói': 946, 'xúc_xích': 2800, 'hấp': 1095, 'nguyên': 1644, 'trái_cây': 2478, 'tráng_miệng': 2480, 'chuối': 465, 'mưa': 1529, 'không_thể': 1217, 'that': 2229, 'mi': 1451, 'mien_phi': 1454, 'xuc_xich': 2781, 'hap': 976, 'nguyen': 1642, 'trai_cay': 2428, 'trang_mieng': 2436, 'chuoi': 451, 'tham': 2215, 'khong_the': 1183, 'hết_sức': 1105, 'nghĩ': 1614, 'lỗi': 1406, 'hoài': 1040, 'dở': 829, 'chi_nhánh': 412, 'ly': 1350, 'lúc_nào': 1372, 'vơi': 2705, 'đầy': 2911, 'dính': 797, 'lớn': 1408, 'nhựa': 1755, 'vậy': 2710, 'nv': 1796, 'trả_lời': 2494, 'dạ': 807, 'sử_dụng': 2170, 'cầm': 649, 'oder': 1853, 'mắc': 1535, 'ghé': 869, 'ta': 2180, 'giấy': 918, 'đừng': 2972, 'đấy': 2907, 'toàn': 2422, 'chị': 517, 'câu': 607, 'hay_sao': 986, 'xe': 2751, 'hẻm': 1102, 'tận': 2587, 'het_suc': 996, 'nghi': 1607, 'lap': 1292, 'hoai': 1022, 'chi_nhanh': 411, 'luc_nao': 1336, 'lon': 1322, 'nhua': 1711, 'vay': 2642, 'tra_loi': 2426, 'su_dung': 2113, 'giay': 889, 'toan': 2402, 'cau': 379, 'hem': 990, 'tan': 2189, 'aeon': 91, 'mal': 1424, 'fod': 848, 'sushi': 2130, 'sầu': 2154, 'bây_giờ': 270, 'muốn': 1500, 'phải_chăng': 1922, 'đa_dạng': 2850, 'bảo': 307, 'mấy': 1533, 'tốn': 2598, 'phết': 1926, 'set': 2079, 'miếng': 1466, 'cá_hồi': 598, 'mực': 1566, 'rong': 2007, 'biển': 206, 'chú_ý': 485, '6k': 74, 'khói': 1212, '4k': 62, 'khoai': 1170, 'ỉu': 2989, 'đùi': 2893, 'nui': 1783, 'băm': 294, 'khô': 1213, 'dạo': 809, 'quanh': 1950, 'ăn_uống': 2846, 'trừ': 2509, 'chụp': 529, 'ảnh': 2981, 'lâu_lâu': 1364, 'bay_gio': 181, 'phai_chang': 1880, 'da_dang': 677, 'may': 1439, 'ton': 2414, 'phet': 1891, 'mieng': 1455, 'ca_hoi': 347, 'bien': 195, 'chu_y': 437, 'iu': 1131, 'dui': 776, 'dao': 696, 'an_uong': 115, 'tru': 2459, 'chup': 454, 'lau_lau': 1297, 'hà_nội': 1062, 'giống': 920, 'nửa': 1846, 'ha_noi': 963, 'giong': 898, 'ram': 1980, 'bánh_cuốn': 260, 'tại': 2577, 'nhân': 1720, 'thịt_băm': 2349, 'xương': 2802, 'banh_cuon': 155, 'tai': 2184, 'thit_bam': 2258, '10': 1, 'ơi': 2974, 'mãi': 1513, 'đắt': 2922, 'oi': 1855, 'mai': 1423, 'taxi': 2198, 'hai': 965, 'hàu': 1068, 'cũ': 623, 'đông_lạnh': 2892, 'bắt': 317, 'ghẹ': 872, 'đem': 2856, 'tô': 2559, 'cháo': 469, 'tổng': 2601, 'thiệt_hại': 2265, 'hau': 980, 'dong_lanh': 762, 'hoang': 1024, 'om': 1859, 'to': 2397, 'chao': 394, 'tong': 2416, 'thiet_hai': 2252, 'dắt': 815, 'cây': 608, 'to_đùng': 2400, 'có_thể': 613, 'vỉa_hè': 2718, 'mắt': 1539, 'chua_ngọt': 443, 'ngày_xưa': 1651, 'lạ_miệng': 1385, 'yêu': 2827, 'cay': 380, 'to_dung': 2399, 'co_the': 549, 'via_he': 2650, 'chua_ngot': 442, 'ngay_xua': 1603, 'la_mieng': 1278, 'be_be': 183, 'yeu': 2820, 'cacao': 352, 'chủ_yếu': 532, 'yên_tĩnh': 2826, 'chu_yeu': 438, 'yen_tinh': 2819, 'liền': 1312, 'th': 2207, 'giữa': 924, 'cắn': 654, 'dừng': 833, 'tay': 2199, 'bốc': 329, 'cóc': 615, 'ngâm': 1653, 'đá': 2875, 'ruốc': 2022, '15k': 16, 'đứa': 2970, 'ăn_vặt': 2847, 'nghiện': 1611, 'dễ_thương': 821, '35k': 49, 'lien': 1306, 'giua': 900, 'boc': 214, 'ruoc': 2016, 'hao': 975, 'an_vat': 116, 'nghien': 1608, 'de_thuong': 716, 'hu': 1046, 'bánh': 256, 'học_sinh': 1110, 'cẩn_thận': 652, 'một_chút': 1557, 'càng': 595, 'người_lớn': 1658, 'tí': 2553, 'banh': 151, 'hoc_sinh': 1026, 'can_than': 366, 'mot_chut': 1483, 'nguoi_lon': 1638, 'ti': 2368, 'ăn_ở': 2849, '30k': 44, 'chế_biến': 514, 'đóng_gói': 2889, 'bịch': 324, 'rau_sống': 1994, 'cà_chua': 592, 'tỏi': 2596, 'ớt': 2998, 'muỗng': 1501, 'đầy_đủ': 2913, 'lạnh': 1388, 'thèm': 2311, 'cơm_chiên': 632, 'an_o': 110, 'che_bien': 402, 'dong_goi': 760, 'bich': 194, 'rau_song': 1993, 'ca_chua': 346, 'ot': 1869, 'muong': 1496, 'day_du': 710, 'lanh': 1290, 'com_chien': 558, 'cà_rốt': 594, 'rán': 2027, 'đầu_bếp': 2909, 'nấu': 1828, 'kfc': 1143, 'đóng': 2888, 'ca_rot': 350, 'ran': 1981, 'dau_bep': 701, 'nau': 1577, 'long': 1323, 'phòng': 1915, 'vang': 2639, 'ồn': 2994, 'rõ': 2028, 'thân_thiện': 2310, 'phong': 1897, 'ro': 2004, 'than_thien': 2219, 'hợp_lí': 1120, 'chè': 475, 'bắt_mắt': 318, 'bưởi': 298, 'số': 2159, 'hop_li': 1035, 'bat_mat': 177, 'ban_công': 145, 'tuần': 2539, 'vô_cùng': 2700, 'phố': 1927, 'cổ': 661, 'thập_cẩm': 2335, 'hồi': 1114, 'dịu': 826, 'chút_xíu': 490, 'ban_cong': 144, 'tuan': 2517, 'vo_cung': 2666, 'pho': 1895, 'cot': 569, 'thap_cam': 2228, 'diu': 746, 'chut_xiu': 456, 'mong_đợi': 1481, 'nhà_vệ_sinh': 1717, 'bẩn': 311, 'kimbap': 1236, 'ba': 131, 'mong_doi': 1480, 'nha_ve_sinh': 1673, 'đám': 2876, 'kéo': 1259, 'nằm': 1832, 'bờ': 336, 'cà_phê': 593, 'yên_tâm': 2825, 'xếp_hàng': 2807, '38k': 51, 'keo': 1137, 'mau': 1437, 'ca_phe': 349, 'yen_tam': 2818, 'xep_hang': 2756, 'trông': 2489, 'chảnh': 499, 'bánh_mì': 262, 'phở': 1928, 'có_vẻ': 614, 'gắp': 951, 'tý': 2566, 'xuất': 2787, '19k': 24, 'bơ': 295, 'chanh': 393, 'banh_mi': 159, 'co_ve': 550, 'ty': 2542, 'xuat': 2779, 'max': 1438, 'bánh_xèo': 265, 'lụi': 1414, 'tưởng': 2575, 'thần_thánh': 2333, 'ai_dè': 97, 'chào': 467, 'banh_xeo': 163, 'lui': 1337, 'tuong': 2525, 'than_thanh': 2218, 'ai_de': 96, 'phát_hiện': 1911, 'thịt_nướng': 2351, 'hồ': 1113, 'dây': 793, 'vườn': 2706, 'xứng_đáng': 2811, 'phat_hien': 1889, 'thit_nuong': 2260, 'vuon': 2687, 'xung_dang': 2784, 'đơn_giản': 2899, 'nước_mắm': 1821, 'cứng': 670, 'dày': 787, 'don_gian': 757, 'nuoc_mam': 1790, 'ống': 2992, 'muối': 1499, 'ong': 1863, 'muoi': 1494, 'tầm': 2584, 'vắng': 2712, 'bà': 246, 'bá': 253, 'cố': 657, 'nêm': 1806, 'màu': 1506, 'dã_man': 794, 'da_man': 678, 'đựng': 2973, 'bao_gồm': 168, 'đũa': 2897, 'thìa': 2314, 'làm_nên': 1355, 'túi': 2563, 'điện': 2864, 'cửa_hàng': 672, 'xưa': 2801, 'dòng': 798, 'chữ': 535, 'ông': 2838, 'chú': 484, 'chửi': 534, 'ap': 124, 'bao_gom': 167, 'thia': 2246, 'lam_nen': 1284, 'tui': 2519, 'dien': 736, 'cua_hang': 575, 'xua': 2778, 'chui': 447, 'review': 1998, 'of': 1854, 'chicken': 414, 'we': 2736, 'have': 982, 'and': 118, 'from': 852, 'me': 1444, 'facebok': 840, 'with': 2741, 'top': 2419, 'this': 2256, 'you': 2823, 'al': 102, 'try': 2474, 'one': 1862, 'list': 1310, 'but': 242, 'are': 125, 'never': 1592, 'were': 2737, 'facebook': 841, 'place': 1934, 'eat': 834, 'some': 2100, 'for': 850, 'come': 562, 'what': 2738, 'if': 1124, 'they': 2244, 'wil': 2740, 'restaurant': 1997, 'again': 92, 'had': 964, 'here': 994, 'get': 863, 'in': 1126, 'or': 1867, 'mở': 1562, 'thời': 2353, 'dingtea': 743, 'xem': 2752, 'tường': 2574, 'chân': 474, 'trâu': 2483, 'sợi': 2167, 'best': 190, 'trân_châu': 2482, 'mini': 1461, 'lạ': 1384, 'ngang': 1598, 'gió': 910, 'trung_thành': 2468, 'km': 1253, 'nhắn_tin': 1746, 'năm': 1814, 'trau': 2442, 'tran_chau': 2433, 'trung_thanh': 2467, 'nhan_tin': 1679, 'phô': 1916, 'móng': 1522, 'lừa_đảo': 1416, 'lua_dao': 1334, 'miến': 1465, 'ôi': 2837, 'lợn': 1412, 'giả': 912, 'đất': 2906, 'nhạt': 1736, 'cạch': 636, 'ice': 1123, 'back': 138, 'meo': 1448, 'chè_thái': 476, 'sâm': 2141, 'bh': 191, 'che_thai': 403, 'sam': 2055, 'sen': 2076, 'bất_ngờ': 309, 'decor': 719, 'phong_cách': 1899, 'giữ': 923, 'việt': 2662, 'piza': 1932, 'tổ_chức': 2600, 'sinh_nhật': 2086, 'ồn_ào': 2995, 'cười': 635, 'hic': 1001, 'bat_ngo': 178, 'phong_cach': 1898, 'giu': 899, 'vung': 2685, 'to_chuc': 2398, 'sinh_nhat': 2085, 'on_ao': 1861, 'thật_ra': 2337, 'địa_chỉ': 2942, 'khu': 1187, 'đợt': 2968, 'chăng': 491, 'bún_chả': 292, '25k': 36, 'thui': 2294, 'that_ra': 2230, 'dia_chi': 731, 'dot': 765, 'bun_cha': 235, 'trở_lại': 2506, 'trắng': 2497, 'tro_lai': 2453, 'trang': 2435, 'cọng': 656, 'vệ_sinh': 2716, 'chuyện': 462, 'an_toàn': 112, 'thực_phẩm': 2363, 'non': 1774, 've_sinh': 2647, 'an_toan': 111, 'thuc_pham': 2288, 'tiếc': 2387, 'cửa': 671, 'lầu': 1393, 'hot': 1037, 'tiec': 2369, 'ốc': 2990, 'flan': 846, 'béo': 274, 'ngập': 1664, 'oc': 1850, 'beo': 187, 'ngap': 1600, 'ngờ': 1669, 'kín': 1263, 'đổ': 2959, 'kin': 1240, 'bún_bò': 291, 'phát': 1910, 'bởi': 338, 'tái': 2544, 'gân': 941, 'nước_lèo': 1819, 'quê': 1966, 'bun_bo': 234, 'phat': 1888, 'hien': 1002, 'boi': 215, 'nuoc_leo': 1788, 'que': 1953, 'chật_chội': 509, 'đồ_uống': 2951, 'quả': 1969, 'siro': 2091, 'ngấy': 1663, 'sv': 2135, 'chát': 470, 'chat_choi': 397, 'do_uong': 750, 'ruoi': 2017, 'chat': 396, 'bắp': 315, 'linh_tinh': 1309, 'bap': 172, 'quạt': 1968, 'chật': 508, 'dân': 790, 'cạnh': 637, 'xếp': 2806, 'đầy_đặn': 2912, 'quat': 1951, 'dan': 691, 'xep': 2755, 'day_dan': 709, 'tối': 2597, 'phía': 1914, 'rủ': 2046, 'lote': 1326, 'hình_như': 1074, 'dâu': 791, '50': 63, '75k': 77, 'cơ_mà': 629, 'hoa_quả': 1020, 'vốn': 2723, 'ghét': 870, 'hiện_đại': 1013, 'dịp': 825, 'phia': 1893, 'ru': 2012, 'hinh_nhu': 1009, 'co_ma': 547, 'hoa_qua': 1019, 'von': 2669, 'ghet': 865, 'hien_dai': 1003, 'dip': 745, 'ăn_chay': 2843, 'nga': 1594, 'an_chay': 108, 'bánh_ướt': 267, 'thịt_luộc': 2350, 'banh_uot': 162, 'thit_luoc': 2259, 'anh_chị': 121, 'trung_bình': 2464, 'trang_trí': 2438, 'anh_chi': 120, 'trung_binh': 2463, 'trang_tri': 2437, 'up': 2629, 'nhắc': 1745, 'chiều': 425, 'thạch': 2327, 'puding': 1938, 'caramen': 376, 'tủ': 2611, 'leo': 1302, 'dài': 784, 'gọn_gàng': 956, 'thanh_toán': 2225, 'chieu': 417, 'thach': 2212, 'nep': 1589, 'gon_gang': 932, 'thanh_toan': 2224, 'bức_xúc': 340, 'mung': 1493, 'buc_xuc': 229, 'nọ': 1836, 'mỳ': 1567, 'chút': 489, 'rau_cải': 1990, 'xá_xíu': 2793, 'giòn_tan': 909, 'ấm': 2983, 'tiếp_tục': 2391, 'dài_dài': 785, 'chut': 455, 'rau_cai': 1987, 'xa_xiu': 2744, 'gion_tan': 897, 'am': 104, 'tiep_tuc': 2375, 'dai_dai': 687, '12h': 7, '40p': 57, 'nvien': 1797, '15p': 17, 'chai': 388, 'nước_lọc': 1820, 'bắt_đầu': 319, 'nc': 1579, 'nhúng': 1729, 'mọc': 1551, 'bn': 210, 'ban_đầu': 149, 'hi_vọng': 1000, 'bếp': 321, 'buồn': 243, 'hóa_đơn': 1077, 'nuoc_loc': 1789, 'bat_dau': 176, 'moc': 1474, 'ban_dau': 146, 'hi_vong': 999, 'bep': 189, 'buon': 240, 'hoa_don': 1018, 'thay_đổi': 2237, 'đội': 2963, 'thay_doi': 2234, 'khen': 1161, 'nhầm': 1740, 'lượt': 1383, 'bữa': 341, 'nham': 1676, 'luot': 1346, 'bua': 226, 'toping': 2420, 'tàu': 2543, 'sướng': 2148, 'độ': 2962, 'đói': 2887, 'đối_diện': 2947, 'tau': 2197, 'suong': 2127, 'doi_dien': 754, 'gạo': 948, 'nhai': 1675, 'gao': 858, 'nghen': 1605, 'cô': 616, 'hương': 1087, 'con_trai': 565, 'tuy': 2530, 'huong': 1050, 'tỏ': 2595, 'lý': 1373, 'kém': 1258, 'đào': 2874, 'machiato': 1422, 'ướt': 2980, 'kệ': 1274, 'khăn': 1219, 'cháu': 471, 'chảy': 501, 'uot': 2628, 'yen': 2817, 'khan': 1156, 'chau': 399, 'hôm_qua': 1081, 'cty': 571, 'kể_cả': 1273, 'đau': 2855, 'kinh_khủng': 1245, 'hom_qua': 1031, 'ke_ca': 1135, 'kinh_khung': 1244, 'đồng': 2954, 'ăn_tươi': 2845, 'giới_thiệu': 921, 'bạn_bè': 303, 'an_tuoi': 113, 'gioi_thieu': 894, 'ban_be': 143, 'cafe': 354, 'capuchino': 374, 'đánh': 2878, 'máy': 1510, 'bún_riêu': 293, 'vui_tính': 2681, 'phong_phú': 1901, 'bun_rieu': 236, 'vui_tinh': 2680, 'phong_phu': 1900, 'cơm_rang': 633, 'com_rang': 559, '2018': 30, 'miền': 1467, 'gốc': 958, 'bắc': 314, 'dưa': 803, 'cà': 591, 'niêu': 1762, 'ếch': 2988, 'xả': 2803, 'đậm': 2914, 'chất': 504, 'no_nê': 1766, 'sau_này': 2071, 'goc': 926, 'nieu': 1759, 'ech': 835, 'no_ne': 1765, 'sau_nay': 2070, '70': 75, 'quá_trời': 1963, 'gong': 933, 'qua_troi': 1942, 'bê': 276, 'dê': 795, 'kia': 1227, 'tả': 2581, 'thoải_mái': 2278, 'hầm': 1097, 'như_vậy': 1732, 'hông': 1082, '60k': 70, 'thoai_mai': 2267, 'ham': 969, 'nhu_vay': 1710, 'quầy': 1973, 'quẩy': 1974, '40': 55, 'ô_long': 2836, '37k': 50, 'đen': 2857, 'giảm': 915, 'hẳn': 1099, 'mr': 1487, 'o_long': 1849, 'giam': 884, 'han': 971, 'phụ': 1929, 'chia': 413, 'phu': 1902, 'kinh_doanh': 1243, 'thậm_chí': 2334, 'burger': 241, 'truyền_thống': 2473, 'vứt': 2730, 'sâu': 2143, 'tham_chi': 2216, 'truyen_thong': 2472, 'vut': 2688, 'thấp': 2330, 'ghế': 873, '5h': 66, 'cuộn': 589, 'thap': 2227, 'bánh_canh': 259, 'quất': 1972, '18k': 22, 'banh_canh': 154, 'đèn': 2883, 'vàng': 2691, 'sạch': 2150, 'khúc': 1218, 'gọi_là': 955, 'bỏ_qua': 328, 'khuc': 1191, 'goi_la': 929, 'bo_qua': 212, 'od': 1852, 'nước_ép': 1824, 'phê': 1912, 'nuoc_ep': 1787, 'phe': 1890, 'cuối_cùng': 587, '25': 34, 'vịt': 2721, 'dở_tệ': 830, 'loãng': 1329, 'hay_là': 985, 'tuyệt_vời': 2538, 'cuoi_cung': 582, 'vit': 2658, 'do_te': 749, 'loang': 1317, 'hay_la': 984, 'tuyet_voi': 2535, 'tặng': 2591, '2h': 40, 'olong': 1858, 'vote': 2671, 'tránh': 2481, 'tranh': 2439, 'khuyến_mại': 1199, 'nhạt_nhẽo': 1737, 'súp': 2146, 'wifi': 2739, 'tương': 2571, 'thề': 2346, 'chúc': 486, 'khuyen_mai': 1196, 'ngu': 1636, 'nhat_nheo': 1688, 'sup': 2129, 'heo': 992, 'chuc': 446, 'thấm': 2329, 'mê': 1515, 'chese': 407, 'toco': 2405, 'chấp_nhận': 503, 'ưu_đãi': 2978, 'chap_nhan': 395, 'uu_dai': 2631, 'tư_vấn': 2569, 'đặc_sản': 2926, 'viên': 2659, 'toilet': 2408, 'khách_sạn': 1206, 'tu_van': 2516, 'dac_san': 684, 'vien': 2652, 'khach_san': 1151, 'tụi': 2609, 'lươn': 1378, 'tụi_mình': 2610, 'tui_minh': 2520, 'phúc': 1918, 'nổi_tiếng': 1842, 'vải': 2707, 'sắp': 2156, 'mồm': 1554, '15': 14, '20': 29, 'phuc': 1904, 'noi_tieng': 1772, 'sap': 2065, 'mom': 1477, 'hnay': 1015, 'ú_ụ': 2839, 'đỗ': 2961, 'bánh_tráng': 264, '17k': 19, 'cx': 590, 'mk': 1471, 'đến_nỗi': 2936, 'hộ': 1116, 'tráng': 2479, 'kiwi': 1249, 'ngại': 1661, 'nem_chua': 1585, 'phomai': 1896, 'u_u': 2618, 'banh_trang': 161, 'den_noi': 723, 'ngai': 1595, 'vat': 2641, 'giảm_giá': 916, 'giam_gia': 885, 'duy_nhất': 783, 'ts': 2511, '3k': 54, 'tẹo': 2592, 'gian': 886, 'duy_nhat': 782, 'teo': 2205, 'ni': 1756, 'sụn': 2168, 'gia_vị': 880, 'sun': 2124, 'gia_vi': 879, 'sương': 2147, 'sa': 2048, 'đậu_xanh': 2919, 'coment': 563, 'vâng': 2693, 'giải_quyết': 913, 'kiểm_tra': 1251, 'mẹt': 1547, 'xà_lách': 2790, 'dau_xanh': 707, 'giai_quyet': 882, 'kiem_tra': 1230, 'xa_lach': 2743, 'bở': 337, 'nh': 1670, 'nhg': 1693, 'dừa': 832, 'bực_mình': 344, 'buc_minh': 228, 'mà_còn': 1505, 'sashimi': 2066, 'ma_con': 1419, 'pr': 1937, 'trc': 2443, 'để_ý': 2940, '20p': 33, 'tanh': 2192, 'gắt': 952, 'ý_định': 2841, 'de_y': 718, 'gat': 860, 'y_dinh': 2813, 'kĩ': 1265, '32k': 46, 'chịu': 519, 'suốt': 2134, 'tội': 2604, 'ki': 1226, 'chiu': 422, 'suot': 2128, 'du_lịch': 771, 'du_lich': 770, 'thà': 2303, '250k': 35, 'tưởng_tượng': 2576, 'tha': 2208, 'tuong_tuong': 2528, 'xung_quanh': 2785, 'đế': 2933, 'mỏng': 1553, 'thương_hiệu': 2323, 'thuong_hieu': 2297, 'ngán': 1652, 'chả_cá': 497, 'chuyên_nghiệp': 460, 'thẻ': 2342, 'ngan': 1597, 'cha_ca': 384, 'chuyen_nghiep': 458, 'thời_tiết': 2355, 'cốt': 660, 'thoi_tiet': 2272, 'nhanh_nhẹn': 1684, 'nhanh_nhen': 1683, 'trẻ_con': 2499, 'tre_con': 2445, 'gimbap': 891, 'rút': 2031, 'kinh_nghiệm': 1247, 'rut': 2020, 'kinh_nghiem': 1246, 'hạt': 1091, 'tiêu': 2386, 'hat': 978, 'tieu': 2377, 'nhỏ_xíu': 1751, 'nho_xiu': 1706, '90k': 86, '90': 85, 'le': 1299, '60': 69, 'y_như': 2816, 'liên_tục': 1311, 'ép': 2832, 'dơ': 802, 'y_nhu': 2815, 'lien_tuc': 1307, 'ep': 838, 'rắc': 2039, 'mùi_vị': 1525, 'kết_hợp': 1270, 'rac': 1979, 'mui_vi': 1492, 'ket_hop': 1140, 'xat': 2748, 'vũng_tàu': 2704, 'vung_tau': 2686, 'ưng_ý': 2976, 'pham': 1881, 'ung_y': 2625, 'khuyên': 1197, 'xã': 2794, 'ít_nhất': 2834, '30p': 45, 'quan_tâm': 1947, 'nốt': 1837, 'lòng': 1370, 'đòi': 2885, 'phàn_nàn': 1908, 'sát': 2140, 'pv': 1939, 'khuyen': 1195, 'it_nhat': 1130, 'nhu_the': 1709, 'quan_tam': 1944, 'mut': 1498, 'not': 1777, 'phan_nan': 1885, 'sat': 2068, 'tớ': 2605, 'hến': 1103, 'củ': 666, 'tẩm': 2586, 'miệng': 1470, 'tổng_thể': 2603, 'hen': 991, 'tong_the': 2418, 'hầu_như': 1098, 'hau_nhu': 981, 'mạng': 1530, 'gau': 861, 'bình_luận': 281, 'xôi': 2799, 'xé': 2795, 'pate': 1874, 'binh_luan': 202, 'xoi': 2772, 'sáng_sủa': 2138, 'sang_sua': 2060, 'thoáng_đãng': 2277, 'thoang_dang': 2269, 'tây': 2547, 'chém': 477, 'chem': 405, 'vui_vẻ': 2683, 'vui_ve': 2682, 'đẹp_mắt': 2932, 'dep_mat': 726, 'rửa': 2047, 'dầu_mỡ': 812, 'nhìn_chung': 1726, 'rua': 2013, 'dau_mo': 703, 'nhin_chung': 1699, 'niềm': 1763, 'nở': 1845, 'bonus': 219, 'niem': 1758, 'tho': 2266, 'lang_thang': 1289, 'chương_trình': 494, 'chuong_trinh': 453, 'thẳng': 2341, 'rẽ': 2042, 'luộc': 1349, 'dồi': 828, 'dưa_chuột': 804, 'luoi': 1343, 'luoc': 1342, 'dua_chuot': 773, 'fre': 851, 'kb': 1132, 'take': 2186, 'care': 377, 'cắt': 655, 'tủ_lạnh': 2612, 'cục': 665, 'khuya': 1194, 'cat': 378, 'tu_lanh': 2513, 'tết': 2593, 'tet': 2206, 'góp_ý': 947, 'nhận_xét': 1742, 'gop_y': 935, 'nhan_xet': 1681, 'lướt': 1380, 'vừa_rồi': 2733, 'hn': 1014, 'vòng': 2698, 'tuổi': 2540, 'cơ': 626, 'rộng': 2044, 'thực_khách': 2362, 'must': 1497, 'xịn': 2808, 'vua_roi': 2677, 'gam': 856, 'vong': 2670, 'thuc_khach': 2287, 'béo_ngậy': 275, 'thuc': 2284, 'beo_ngay': 188, 'kichi': 1228, 'hạ': 1090, 'thảo': 2328, 'quên': 1967, 'đăng': 2895, 'tấm': 2582, 'thao': 2226, 'tri': 2449, 'highlands': 1005, 'thiết_kế': 2261, 'gu': 937, 'góc': 945, 'hoa': 1017, 'xấu': 2805, 'trẻ': 2498, '79k': 78, 'mật_ong': 1534, '69k': 72, 'dim': 740, 'thiet_ke': 2253, 'xau': 2749, 'mat_ong': 1434, 'bé_tí': 273, 'be_ti': 184, 'phạm': 1920, 'văn': 2702, 'đồng_tiền': 2957, 'hành': 1066, 'dong_tien': 763, 'nan': 1572, 'xíu': 2797, 'xiu': 2766, 'tin': 2380, 'kết_quả': 1271, '9k': 88, 'ket_qua': 1141, 'dầu': 811, 'quan_trọng': 1946, 'khoai_lang': 1171, 'quan_trong': 1945, 'bufe': 230, 'nhờ': 1753, 'lí': 1368, '01': 0, 'kịp': 1275, 'cảm_ơn': 645, 'li': 1304, 'kip': 1248, 'cam_on': 361, 'tình': 2550, 'kính': 1264, 'may_mắn': 1442, 'nuốt': 1795, 'chuẩn_bị': 464, 'tóc': 2556, 'tức': 2613, 'lưu_ý': 1377, 'bong': 218, 'manh': 1430, 'kinh': 1242, 'may_man': 1441, 'nuot': 1794, 'chuan_bi': 445, 'toc': 2404, 'tuc': 2518, 'luu_y': 1347, 'sức': 2169, 'suc': 2120, 'bánh_bao': 257, 'banh_bao': 152, 'thue': 2293, 'nchung': 1580, 'dac': 681, 'nhun': 1713, 'tiệm': 2395, 'nghỉ': 1615, 'làm_sao': 1356, 'ghiền': 868, 'bánh_ngọt': 263, 'hấp_dẫn': 1096, 'nếm': 1834, 'ngoài_ra': 1633, 'giò': 906, 'bánh_giò': 261, 'khuất': 1200, 'lam_sao': 1285, 'ghien': 867, 'banh_ngot': 160, 'hap_dan': 977, 'ngoai_ra': 1618, 'banh_gio': 157, 'khuat': 1190, 'lỏng': 1403, 'ý_kiến': 2840, 'đặc': 2924, '45k': 59, 'y_kien': 2814, 'điều_hoà': 2862, 'bày': 252, 'đại': 2903, 'hướng_dẫn': 1089, 'dieu_hoa': 739, 'bay': 180, 'huong_dan': 1051, 'big': 197, 'ngã': 1654, 'sân': 2142, 'mát_mẻ': 1509, 'sinh_tố': 2088, 'tổng_cộng': 2602, 'tram': 2431, 'xay': 2750, 'san': 2057, 'mat_me': 1433, 'sinh_to': 2087, 'tong_cong': 2417, '8k': 84, '1c': 25, 'bực': 343, 'buc': 227, 'tóm': 2557, 'gon': 931, 'nhiet': 1695, 'thực_tế': 2366, 'thuc_te': 2291, 'bọc': 325, 'xi': 2757, 'ip': 1127, 'cmt': 538, 'oreo': 1868, 'cake': 357, 'cream': 570, 'hình_thức': 1075, 'chị_em': 518, 'hinh_thuc': 1010, 'chi_em': 410, 'tiết': 2392, 'đỉnh': 2941, 'cay_cay': 381, 'bột_lọc': 333, 'search': 2075, 'nhá': 1718, '35': 47, 'tiet': 2376, 'bot_loc': 222, 'dimsum': 741, 'team': 2203, 'khuyến_mãi': 1198, '30': 43, 'răng': 2033, 'như_thế': 1731, 'hy_vọng': 1060, 'cải_thiện': 640, 'cám_ơn': 603, 'rot': 2009, 'hy_vong': 1059, 'cai_thien': 356, 'ấm_cúng': 2984, 'vui': 2679, 'am_cung': 105, 'xảy': 2804, 'chồng': 522, 'lung_tung': 1341, 'có_lẽ': 612, 'chong': 432, 'nat': 1576, 'co_le': 546, 'sánh': 2139, 'trẻ_em': 2500, 'chơi': 492, 'sanh': 2063, 'tre_em': 2446, 'choi': 430, 'cảm_tình': 644, 'cam_tinh': 363, '1h': 26, 'tat': 2195, 'thuộc': 2302, 'dạng': 808, 'nghiền': 1610, 'bobapop': 213, 'gongcha': 934, 'lục': 1413, 'nâu': 1802, 'hàn': 1064, 'ns': 1779, 'kẹo': 1266, 'haiz': 968, 'về_phần': 2715, 'tròn': 2487, 'vỏ': 2722, 'ngon_ngot': 1628, 've_phan': 2646, 'lơ': 1376, 'bãi': 271, 'fan': 843, 'khoản': 1185, 'tóm_lại': 2558, 'khoan': 1176, 'tom_lai': 2412, 'rưỡi': 2035, 'xem_lại': 2754, 'xem_lai': 2753, 'tach': 2183, 'sả': 2152, 'soup': 2106, '70k': 76, 'vừa_vặn': 2734, 'quận': 1975, 'vua_van': 2678, 'đa_phần': 2851, 'da_phan': 679, 'feedback': 844, 'cn': 539, 'ba_chỉ': 133, 'salat': 2053, 'bắp_cải': 316, 'củ_cải': 667, 'training': 2430, 'sumo': 2123, 'túm': 2565, 'trải_nghiệm': 2495, 'ba_chi': 132, 'bap_cai': 173, 'cu_cai': 573, 'tum': 2522, 'trai_nghiem': 2429, 'suy_nghĩ': 2132, 'hả': 1093, 'suy_nghi': 2131, 'mặt_tiền': 1545, 'mat_tien': 1435, 'bổ': 330, 'cũg': 624, 'kỹ': 1276, 'cug': 579, 'ky': 1256, 'caramel': 375, 'min': 1459, 'giải_thích': 914, 'mặt_bằng': 1544, 'càng_ngày_càng': 596, 'giai_thich': 883, 'mat_bang': 1432, 'cong_nhan': 567, 'cang_ngay_cang': 368, 'đoàn': 2866, 'mía': 1518, 'doan': 751, 'mia': 1452, 'trieu': 2450, 'treo': 2448, 'tomyum': 2413, 'khắc_phục': 1221, 'khac_phuc': 1147, 'dễ_ăn': 823, 'de_an': 712, 'đảo': 2905, 'xiên': 2768, 'ưu_điểm': 2977, 'xien': 2758, 'uu_diem': 2632, 'một_số': 1559, 'đồng_hồ': 2956, 'mot_so': 1485, 'dong_ho': 761, 'tín_đồ': 2554, 'dễ_tính': 822, 'thắc_mắc': 2339, '5p': 68, 'tin_do': 2381, 'de_tinh': 717, 'thac_mac': 2211, 'phản_ánh': 1924, 'phan_anh': 1883, 'kimpab': 1238, 'bq': 224, 'kết': 1269, 'check': 404, 'ket': 1139, 'lọc': 1402, 'quốc': 1976, 'bí': 283, 'loc': 1319, 'quoc': 1958, 'mẹ': 1546, 'đập': 2916, 'hội': 1117, 'quyen': 1959, 'tokb': 2410, 'tok': 2409, 'sốt_cay': 2163, 'kimpap': 1239, 'sot_cay': 2104, 'binh': 200, 'đam': 2853, 'tự_nhiên': 2617, 'tu_nhien': 2514, 'thích_hợp': 2316, 'ảo': 2982, 'âu': 2831, 'thich_hop': 2248, 'au': 128, 'xứng': 2810, 'xung': 2783, 'khoai_môn': 1173, 'sầu_riêng': 2155, 'khoai_mon': 1172, 'sau_rieng': 2072, 'hủ_tiếu': 1122, 'dưa_hấu': 805, 'hu_tieu': 1047, 'dua_hau': 774, 'vỉ': 2717, 'cút': 620, 'cut': 585, 'với_lại': 2726, 'chảo': 500, 'voi_lai': 2668, 'nẵng': 1833, 'bớt': 335, 'tương_ớt': 2573, 'bot': 221, 'tuong_ot': 2527, 'lu': 1331, 'đành': 2873, 'voucher': 2672, 'pepsi': 1875, 'lèo_tèo': 1365, 'city': 536, 'leo_teo': 1303, 'bột': 332, 'kì': 1262, '80k': 82, 'deli': 720, 'xài': 2791, 'airpay': 100, 'xai': 2745, 'công_nhận': 617, 'thiện_cảm': 2263, 'thien_cam': 2250, 'phản_hồi': 1923, 'phan_hoi': 1884, 'lung_linh': 1340, 'vãi': 2694, 'eo': 837, 'sẵn': 2157, '1h30': 27, 'cao_su': 372, 'chim': 418, 'lớp': 1409, 'lop': 1324, 'bề_bề': 322, 'đi_lại': 2859, 'di_lai': 729, 'xốp': 2809, 'trứng_muối': 2508, 'bùi': 289, 'bông': 287, '180k': 21, 'xop': 2774, 'trung_muoi': 2465, 'bui': 232, 'nhìu': 1727, 'nhiu': 1700, 'starbucks': 2110, '13': 9, 'đồng_ý': 2958, 'quát': 1965, 'gấp': 949, 'sai': 2051, 'dong_y': 764, 'dau_do': 702, '65k': 71, 'căn': 621, 'cap': 373, 'ốp': 2993, 'op': 1866, 'nộm': 1844, 'ri': 1999, 'nom': 1773, 'đoạn': 2867, 'kim': 1232, 'bánh_đa': 266, 'tuỳ': 2541, 'rate': 1985, 'banh_da': 156, 'lao': 1291, 'tiệc': 2394, 'nho_nhỏ': 1705, 'ngon_miệng': 1627, 'đa_số': 2852, 'nho_nho': 1704, 'ngon_mieng': 1626, 'da_so': 680, 'bia': 193, 'trog': 2454, 'trí': 2486, 'hào': 1067, 'cổng': 662, 'hát': 1070, 'chờ_đợi': 526, 'mạnh': 1531, 'cho_doi': 427, 'khách_ăn': 1207, 'lo_lo': 1314, 'khach_an': 1149, '4h': 61, 'nhậu': 1744, 'sung': 2125, 'anh_em': 122, 'thuy': 2300, 'đống': 2949, 'nấy': 1829, 'kim_sa': 1234, 'độn': 2964, 'đàng_hoàng': 2872, 'ra_sao': 1978, 'dang_hoang': 693, 'tro': 2452, 'khai_trương': 1153, '18': 20, 'khai_truong': 1152, 'bạch': 300, 'bach': 136, 'tiger': 2378, 'gòn': 944, '9h': 87, '27k': 37, 'dễ_chịu': 819, 'de_chiu': 713, 'nắp': 1831, 'nap': 1575, 'ngao': 1599, 'né': 1804, '6h': 73, 'khoe': 1178, 'tap': 2194, 'lắc': 1397, 'lac': 1279, 'đặc_trưng': 2928, 'thực_ra': 2364, 'dac_trung': 685, 'thuc_ra': 2289, 'ngon_ăn': 1630, 'ớn': 2997, 'ngon_an': 1623, 'bít': 284, 'sữa_đậu': 2175, 'bit': 204, 'sua_dau': 2116, 'óc': 2835, 'bik': 198, 'tụ_tập': 2608, 'tu_tap': 2515, 'tắc': 2589, 'tac': 2182, 'trung_tâm': 2469, 'trung_tam': 2466, 'khọt': 1223, 'dì': 796, 'giòn_rụm': 908, 'khot': 1184, 'gion_rum': 896, 'lộn': 1407, 'dán': 789, '14': 11, 'chính_xác': 482, 'tư': 2568, 'chinh_xac': 421, '80': 81, 'takoyaki': 2187, 'xinh_xắn': 2765, 'bản': 304, 'xinh_xinh': 2764, 'bạch_tuộc': 301, 'nóng_hổi': 1813, 'mịn': 1550, 'xinh_xan': 2763, 'bach_tuoc': 137, 'nong_hoi': 1776, 't2': 2178, 'măng': 1527, 'ngon_lành': 1625, 'ngon_lanh': 1624, 'túi_tiền': 2564, 'tui_tien': 2521, 'tương_đối': 2572, 'tuong_doi': 2526, 'mò': 1520, 'xog': 2771, 'qa': 1940, 'khu_vực': 1189, 'khu_vuc': 1188, 'tờ': 2607, 'võ': 2701, 'quang': 1948, 'bar': 174, 'milk': 1456, 'foam': 847, 'dẫn': 813, 'chúng_tôi': 488, 'cánh': 604, 'chung_toi': 450, 'sốt_me': 2164, 'tuot': 2529, 'sot_me': 2105, 'sale': 2054, '149k': 13, 'coca': 552, 'kimbab': 1235, 'rau_câu': 1989, 'wc': 2735, 'tắt': 2590, 'rau_cau': 1988, 'hq': 1044, 'grab': 936, '7k': 80, '19': 23, 'ốc_hương': 2991, 'oc_huong': 1851, 'staf': 2108, 'hẹn': 1100, 'ngày_càng': 1650, 'cấp': 648, 'cải': 639, 'tình_trạng': 2552, 'ngay_cang': 1602, 'tinh_trang': 2384, 'riêu': 2003, 'love': 1328, 'rieu': 2001, 'bự': 342, 'kế': 1268, 'sửa': 2171, 'chục': 528, 'bltm': 209, 'hiền': 1011, 'toẹt': 2423, 'toet': 2406, 'milo': 1458, 'mayonaise': 1443, 'sugar': 2121, 'lẹ': 1399, 'khủng_khiếp': 1225, 'chocolate': 429, 'double': 766, 'khung_khiep': 1193, 'same': 2056, 'má': 1507, 'cậu': 653, 'lồi_lõm': 1405, 'loi_lom': 1321, 'rv': 2025, 'co_chu': 542, 'phủ': 1931, 'chén': 478, 'ui': 2622, 'chen': 406, 'service': 2078, 'hotpot': 1038, 'there': 2243, 'loteria': 1327, 'say': 2073, 'only': 1865, 'is': 1128, 'as': 126, 'mắm_nêm': 1537, 'mam_nem': 1426, 'đồng_giá': 2955, 'sò': 2144, 'rau_muống': 1992, 'dong_gia': 759, 'rau_muong': 1991, 'ruồi': 2023, 'cơ_hội': 628, 'co_hoi': 544, 'nét': 1805, 'lý_tưởng': 1375, 'net': 1590, 'ly_tuong': 1352, 'lò': 1369, 'xu': 2777, 'hamburger': 970, 'ngon_ngọt': 1629, '150k': 15, '130k': 10, 'nhão': 1723, 'nhao': 1685, 'hekca': 989, 'toa': 2401, 'rảnh': 2037, 'xo': 2769, 'ranh': 1983, 'kbh': 1133, 'vincom': 2655, 'khai_vị': 1155, 'cánh_gà': 605, 'miso': 1462, 'mời': 1561, 'hoá_đơn': 1042, 'khai_vi': 1154, 'canh_ga': 370, 'nhưg': 1733, 'nhug': 1712, 'nhen': 1692, 'tp': 2424, 'bánh_bèo': 258, 'banh_beo': 153, 'tràn_trề': 2476, 'tran_tre': 2434, 'bình': 279, 'ms': 1488, 'trời_ơi': 2505, 'troi_oi': 2456, 'lười': 1381, 'chet': 408, 'highly': 1006, 'thở': 2356, 'yêu_thích': 2829, 'kê': 1260, 'yeu_thich': 2822, 'sg': 2080, 'quảng': 1970, 'tình_cờ': 2551, 'cầu': 651, 'tinh_co': 2383, 'ăn_xin': 2848, 'an_xin': 117, 'cuong': 584, 'table': 2181, 'lừa': 1415, 'line': 1308, 'nước_ngọt': 1823, 'nuoc_ngot': 1792, 'milkfoam': 1457, '2k': 41, 'đôi': 2890, '59k': 65, 'tăng': 2567, 'tiramisu': 2385, 'vt': 2673, 'na': 1569, 'feling': 845, 'vậy_mà': 2711, 'vay_ma': 2643, 'mèo': 1514, 'mouse': 1486, '7h': 79, 'táo': 2545, 'cơ_bản': 627, 'co_ban': 541, '120k': 6, 'chuỗi': 466, 'vợ_chồng': 2727, 'vo_chong': 2665, 'gioi': 893, 'bảng': 306, 'ngàn': 1648, 'thối': 2352, 'điện_thoại': 2865, 'đt': 2868, 'dien_thoai': 737, 'dt': 767, 'chặt': 513, 'nạc': 1826, 'nac': 1570, 'sasin': 2067, 'seoul': 2077, 'mở_cửa': 1563, 'mo_cua': 1473, 'fai': 842, 'chúng': 487, 'mix': 1464, 'pasta': 1873, 'khó_tính': 1211, 'kho_tinh': 1169, 'ny': 1798, '140k': 12, 'son': 2101, 'dọn': 827, 'tuyệt_cú': 2537, 'men': 1446, 'tuyet_cu': 2534, 'king': 1241, 'gogi': 927, 'lê': 1366, 'mũi': 1528, 'quảng_cáo': 1971, 'quang_cao': 1949, 'bok': 216, 'dich': 733, 'panchan': 1871, 'thú_vị': 2320, 'thu_vi': 2282, 'bật': 313, 'nước_cốt': 1818, 'nuoc_cot': 1786, 'xot': 2775, 'thien': 2249, 'trôi': 2488, 'thông_báo': 2318, 'ngta': 1635, 'thong_bao': 2274, 'nước_ngoài': 1822, 'cf': 382, 'nuoc_ngoai': 1791, 'thế_là': 2344, 'the_la': 2239, 'chung_minh': 449, 'đồn': 2953, 'chổ': 523, 'lung': 1339, '12k': 8, 'lạc': 1386, 'bận': 312, 'ak': 101, 'đề_nghị': 2937, 'de_nghi': 714, 'khác_biệt': 1203, 'đinh': 2860, 'khac_biet': 1146, 'khắp': 1222, 'khap': 1157, 'ac': 89, 'lai_rai': 1281, 'vụn': 2729, 'trình_bày': 2485, 'vun': 2684, 'trinh_bay': 2451, 'sữa_đậu_nành': 2176, '8h': 83, 'sua_dau_nanh': 2117, 'rác': 2026, 'ẩm_thực': 2987, 'am_thuc': 106, 'ncl': 1581, 'khinh': 1165, 'lỡ': 1411, 'hạt_dẻ': 1092, 'hat_de': 979, 'uc': 2620, 'house': 1039, 'dầm': 810, 'chậm_chạp': 507, 'loay_hoay': 1318, 'cham_chap': 390, 'húp': 1083, 'hup': 1053, 'nghêu': 1612, 'ngheu': 1606, '39k': 52, 'paris': 1872, '16': 18, 'ví': 2697, 'vintage': 2656, '49k': 60, 'bye': 245, 'bóc': 286, 'nát': 1801, 'soya': 2107, 'dặn': 816, 'tiếp_theo': 2390, 'tiep_theo': 2374, 'múc': 1526, 'nguội_ngắt': 1647, 'nguoi_ngat': 1639, 'late': 1294, 'phan_thiết': 1887, 'phan_thiet': 1886, 'thay_vì': 2236, 'thay_vi': 2235, 'xui': 2782, 'bào': 251, 'kimchi': 1237, 'gimbab': 890, 'châm': 473, 'bài_trí': 248, 'bai_tri': 140, 'dễ_sợ': 820, 'de_so': 715, 'nhâm_nhi': 1719, 'nham_nhi': 1677, '3h': 53, 'duc': 775, 'bột_ngọt': 334, 'bot_ngot': 223, 'xì': 2796, 'vc': 2644, 'dâu_tây': 792, 'dau_tay': 705, 'già': 902, '350k': 48, 'chủ_nhật': 531, 'chu_nhat': 436, 'socola': 2096, 'nice': 1757, 'kẹp': 1267, 'hi': 998, 'kep': 1138, 'quet': 1957, 'royaltea': 2011, 'lâu_dài': 1363, 'lau_dai': 1296, 'hanoi': 974, 'online': 1864, 'khung': 1192, 'lấu': 1390, 'banh_hoi': 158, 'hg': 997, 'rung': 2015, '10h': 2, 'nilong': 1760, 'tob': 2403, 't7': 2179, 'ah': 94, 'nhãn': 1722, 'vip': 2657, 'im': 1125, '29k': 39, 'khau': 1158, 'hoi_han': 1028, 'udon': 2621, 'người_yêu': 1660, 'phim': 1894, 'xíu_mại': 2798, 'nguoi_yeu': 1641, 'xiu_mai': 2767, 'bạc_hà': 299, 'bac_ha': 135, 'chết': 515, 'hutong': 1055, 'huỷ': 1058, 'huy': 1056, 'khét': 1208, 'khet': 1162, 'ai_ngờ': 99, 'ai_ngo': 98, 'bop': 220, 'ae': 90, 'bla': 208, 'agheti': 93, 'giang': 887, 'ninh': 1761, 'bingsu': 199, 'đậu_đỏ': 2920, 'soda': 2097, 'lẫu': 1396, 'soa': 2095, 'thanh_thanh': 2223, 'ck': 537, '2ng': 42, 'plan': 1935, 'loan': 1316, 'phuong': 1906, 'y_chang': 2812, 'máy_lạnh': 1511, 'may_lanh': 1440, 'ust': 2630, 'steak': 2111, 'yum': 2824, 'giảng': 917, 'giọng': 919, 'mocha': 1475, '1k': 28, 'chuong': 452, 'nồng': 1839, 'rơi': 2034, 'singapore': 2084, 'camera': 364, 'befsteak': 185, 'sum': 2122, 'hs': 1045, 'mh': 1450, 'choco': 428, 'noel': 1767}\n",
            "[7.50621105 4.06304946 6.98402166 ... 7.32388949 5.56849766 4.97024923]\n"
          ],
          "name": "stdout"
        }
      ]
    },
    {
      "cell_type": "code",
      "metadata": {
        "id": "NrtLtXKl09kc",
        "colab_type": "code",
        "colab": {
          "base_uri": "https://localhost:8080/",
          "height": 564
        },
        "outputId": "207290d5-dc89-42cf-8ebb-9a17023c01ce"
      },
      "source": [
        "#Try some models\n",
        "classifiers = [\n",
        "            MultinomialNB(),\n",
        "            LogisticRegression(),\n",
        "            LinearSVC(),\n",
        "        ]\n",
        "model_undersampling = []\n",
        "for classifier in classifiers:\n",
        "    clf = classifier\n",
        "    model_undersampling.append(clf.fit(undersampling_vector_train, undersampling_y_train))\n",
        "    undersampling_y_pred = clf.predict(undersampling_vector_val)\n",
        "    report = metrics.classification_report(undersampling_y_val, undersampling_y_pred, labels=[0,1], digits=3)\n",
        "    print(report)\n"
      ],
      "execution_count": null,
      "outputs": [
        {
          "output_type": "stream",
          "text": [
            "/usr/local/lib/python3.6/dist-packages/sklearn/naive_bayes.py:480: UserWarning: alpha too small will result in numeric errors, setting alpha = 1.0e-10\n",
            "  'setting alpha = %.1e' % _ALPHA_MIN)\n",
            "/usr/local/lib/python3.6/dist-packages/sklearn/linear_model/logistic.py:433: FutureWarning: Default solver will be changed to 'lbfgs' in 0.22. Specify a solver to silence this warning.\n",
            "  FutureWarning)\n"
          ],
          "name": "stderr"
        },
        {
          "output_type": "stream",
          "text": [
            "              precision    recall  f1-score   support\n",
            "\n",
            "           0      0.914     0.854     0.883      5106\n",
            "           1      0.859     0.916     0.887      4934\n",
            "\n",
            "   micro avg      0.885     0.885     0.885     10040\n",
            "   macro avg      0.886     0.885     0.885     10040\n",
            "weighted avg      0.887     0.885     0.885     10040\n",
            "\n",
            "              precision    recall  f1-score   support\n",
            "\n",
            "           0      0.903     0.881     0.892      5106\n",
            "           1      0.880     0.902     0.891      4934\n",
            "\n",
            "   micro avg      0.891     0.891     0.891     10040\n",
            "   macro avg      0.891     0.891     0.891     10040\n",
            "weighted avg      0.891     0.891     0.891     10040\n",
            "\n",
            "              precision    recall  f1-score   support\n",
            "\n",
            "           0      0.881     0.869     0.875      5106\n",
            "           1      0.866     0.878     0.872      4934\n",
            "\n",
            "   micro avg      0.873     0.873     0.873     10040\n",
            "   macro avg      0.873     0.873     0.873     10040\n",
            "weighted avg      0.873     0.873     0.873     10040\n",
            "\n"
          ],
          "name": "stdout"
        }
      ]
    },
    {
      "cell_type": "markdown",
      "metadata": {
        "id": "07vGr3A_r2vQ",
        "colab_type": "text"
      },
      "source": [
        "dùng tham số tuning ở trên"
      ]
    },
    {
      "cell_type": "code",
      "metadata": {
        "id": "WChcyyNdr2Cd",
        "colab_type": "code",
        "colab": {
          "base_uri": "https://localhost:8080/",
          "height": 530
        },
        "outputId": "27126811-2e1a-4d93-8142-2063dda20875"
      },
      "source": [
        "#Try some models\n",
        "classifiers = [\n",
        "            MultinomialNB(alpha=0),\n",
        "            LogisticRegression(C=10, solver='newton-cg'),\n",
        "            LinearSVC(C=10, multi_class='crammer_singer'),\n",
        "        ]\n",
        "model_undersampling = []\n",
        "for classifier in classifiers:\n",
        "    clf = classifier\n",
        "    model_undersampling.append(clf.fit(undersampling_vector_train, undersampling_y_train))\n",
        "    undersampling_y_pred = clf.predict(undersampling_vector_val)\n",
        "    report = metrics.classification_report(undersampling_y_val, undersampling_y_pred, labels=[0,1], digits=3)\n",
        "    print(report)\n"
      ],
      "execution_count": null,
      "outputs": [
        {
          "output_type": "stream",
          "text": [
            "              precision    recall  f1-score   support\n",
            "\n",
            "           0      0.913     0.857     0.884      5106\n",
            "           1      0.861     0.916     0.888      4934\n",
            "\n",
            "   micro avg      0.886     0.886     0.886     10040\n",
            "   macro avg      0.887     0.887     0.886     10040\n",
            "weighted avg      0.888     0.886     0.886     10040\n",
            "\n"
          ],
          "name": "stdout"
        },
        {
          "output_type": "stream",
          "text": [
            "/usr/local/lib/python3.6/dist-packages/sklearn/linear_model/logistic.py:433: FutureWarning: Default solver will be changed to 'lbfgs' in 0.22. Specify a solver to silence this warning.\n",
            "  FutureWarning)\n"
          ],
          "name": "stderr"
        },
        {
          "output_type": "stream",
          "text": [
            "              precision    recall  f1-score   support\n",
            "\n",
            "           0      0.918     0.887     0.902      5106\n",
            "           1      0.887     0.919     0.903      4934\n",
            "\n",
            "   micro avg      0.902     0.902     0.902     10040\n",
            "   macro avg      0.903     0.903     0.902     10040\n",
            "weighted avg      0.903     0.902     0.902     10040\n",
            "\n",
            "              precision    recall  f1-score   support\n",
            "\n",
            "           0      0.903     0.878     0.890      5106\n",
            "           1      0.877     0.902     0.889      4934\n",
            "\n",
            "   micro avg      0.890     0.890     0.890     10040\n",
            "   macro avg      0.890     0.890     0.890     10040\n",
            "weighted avg      0.890     0.890     0.890     10040\n",
            "\n"
          ],
          "name": "stdout"
        }
      ]
    },
    {
      "cell_type": "markdown",
      "metadata": {
        "id": "vPu-Vd2Uy1pM",
        "colab_type": "text"
      },
      "source": [
        "#### Đánh giá trên tập test"
      ]
    },
    {
      "cell_type": "code",
      "metadata": {
        "id": "kIX3hwFly3b0",
        "colab_type": "code",
        "colab": {}
      },
      "source": [
        "vector_test_undersampling = tf_undersampling.transform(X_test)"
      ],
      "execution_count": null,
      "outputs": []
    },
    {
      "cell_type": "code",
      "metadata": {
        "id": "bMFbOqG8z32M",
        "colab_type": "code",
        "colab": {
          "base_uri": "https://localhost:8080/",
          "height": 476
        },
        "outputId": "25b9b759-748c-4921-916a-a2b13ea8f118"
      },
      "source": [
        "for i in range (0, len(model_undersampling)):\n",
        "  y_pred = model_undersampling[i].predict(vector_test_undersampling)\n",
        "  report = metrics.classification_report(y_test, y_pred, labels=[0, 1], digits=3)\n",
        "  print(report)"
      ],
      "execution_count": null,
      "outputs": [
        {
          "output_type": "stream",
          "text": [
            "              precision    recall  f1-score   support\n",
            "\n",
            "           0      0.755     0.846     0.798      1000\n",
            "           1      0.958     0.928     0.943      3798\n",
            "\n",
            "   micro avg      0.911     0.911     0.911      4798\n",
            "   macro avg      0.856     0.887     0.870      4798\n",
            "weighted avg      0.916     0.911     0.912      4798\n",
            "\n",
            "              precision    recall  f1-score   support\n",
            "\n",
            "           0      0.742     0.888     0.809      1000\n",
            "           1      0.969     0.919     0.943      3798\n",
            "\n",
            "   micro avg      0.912     0.912     0.912      4798\n",
            "   macro avg      0.856     0.903     0.876      4798\n",
            "weighted avg      0.922     0.912     0.915      4798\n",
            "\n",
            "              precision    recall  f1-score   support\n",
            "\n",
            "           0      0.721     0.883     0.794      1000\n",
            "           1      0.967     0.910     0.938      3798\n",
            "\n",
            "   micro avg      0.905     0.905     0.905      4798\n",
            "   macro avg      0.844     0.897     0.866      4798\n",
            "weighted avg      0.916     0.905     0.908      4798\n",
            "\n"
          ],
          "name": "stdout"
        }
      ]
    },
    {
      "cell_type": "markdown",
      "metadata": {
        "id": "cF0zl0Upgy_N",
        "colab_type": "text"
      },
      "source": [
        "#### Word embedding"
      ]
    },
    {
      "cell_type": "code",
      "metadata": {
        "id": "4MITtQtNhpjJ",
        "colab_type": "code",
        "colab": {}
      },
      "source": [
        "tokenizer_undersampling = Tokenizer(num_words=vocab_size, oov_token=\"<OOV>\")\n",
        "tokenizer_undersampling.fit_on_texts(undersampling_X_train)\n",
        "word_index = tokenizer_undersampling.word_index\n",
        "undersampling_train_sequences = tokenizer_undersampling.texts_to_sequences(undersampling_X_train)\n",
        "undersampling_train_padded = pad_sequences(undersampling_train_sequences, maxlen=max_length, truncating='post', padding='post')"
      ],
      "execution_count": null,
      "outputs": []
    },
    {
      "cell_type": "code",
      "metadata": {
        "id": "DOYWhYWSiOao",
        "colab_type": "code",
        "colab": {
          "base_uri": "https://localhost:8080/",
          "height": 153
        },
        "outputId": "a243e157-32f4-4d1f-e8a2-350f6fb41b8f"
      },
      "source": [
        "print(undersampling_train_padded)\n",
        "print(undersampling_train_padded.shape)"
      ],
      "execution_count": null,
      "outputs": [
        {
          "output_type": "stream",
          "text": [
            "[[ 257  218  654 ...    0    0    0]\n",
            " [ 194  210  151 ...    0    0    0]\n",
            " [  18   26  162 ...    0    0    0]\n",
            " ...\n",
            " [ 128  313  184 ...    0    0    0]\n",
            " [ 129  853 1498 ...    0    0    0]\n",
            " [  58  723 1415 ...    0    0    0]]\n",
            "(23424, 250)\n"
          ],
          "name": "stdout"
        }
      ]
    },
    {
      "cell_type": "code",
      "metadata": {
        "id": "HCJkG3fRirf3",
        "colab_type": "code",
        "colab": {
          "base_uri": "https://localhost:8080/",
          "height": 153
        },
        "outputId": "3bd55a25-e2c8-498e-cc7e-8ecd63ee7fc5"
      },
      "source": [
        "undersampling_val_sequences = tokenizer_undersampling.texts_to_sequences(undersampling_X_val)\n",
        "undersampling_val_padded = pad_sequences(undersampling_val_sequences, maxlen=max_length, truncating='post', padding='post')\n",
        "print(undersampling_val_padded)\n",
        "print(undersampling_val_padded.shape)"
      ],
      "execution_count": null,
      "outputs": [
        {
          "output_type": "stream",
          "text": [
            "[[ 672  676  857 ...    0    0    0]\n",
            " [ 603  303  405 ...    0    0    0]\n",
            " [ 326  595   18 ...    0    0    0]\n",
            " ...\n",
            " [  58  107  216 ...  154    0    0]\n",
            " [  94  572 2073 ...    0    0    0]\n",
            " [  70   59  912 ...    0    0    0]]\n",
            "(10040, 250)\n"
          ],
          "name": "stdout"
        }
      ]
    },
    {
      "cell_type": "code",
      "metadata": {
        "id": "1R2rq2IAgcvK",
        "colab_type": "code",
        "colab": {
          "base_uri": "https://localhost:8080/",
          "height": 289
        },
        "outputId": "eab39a2e-2cda-4b69-f808-a74f7273eebc"
      },
      "source": [
        "model_undersampling_dl = tf.keras.Sequential()\n",
        "model_undersampling_dl.add(tf.keras.layers.Embedding(vocab_size, embedding_dim, input_length = max_length))\n",
        "model_undersampling_dl.add(tf.keras.layers.Flatten())\n",
        "model_undersampling_dl.add(tf.keras.layers.Dense(10, activation=\"relu\"))\n",
        "model_undersampling_dl.add(tf.keras.layers.Dense(1, activation=\"sigmoid\"))\n",
        "model_undersampling_dl.compile(loss = 'binary_crossentropy', optimizer='adam', metrics=['accuracy'])\n",
        "model_undersampling_dl.summary()"
      ],
      "execution_count": null,
      "outputs": [
        {
          "output_type": "stream",
          "text": [
            "Model: \"sequential_1\"\n",
            "_________________________________________________________________\n",
            "Layer (type)                 Output Shape              Param #   \n",
            "=================================================================\n",
            "embedding_1 (Embedding)      (None, 250, 100)          1000000   \n",
            "_________________________________________________________________\n",
            "flatten_1 (Flatten)          (None, 25000)             0         \n",
            "_________________________________________________________________\n",
            "dense_2 (Dense)              (None, 10)                250010    \n",
            "_________________________________________________________________\n",
            "dense_3 (Dense)              (None, 1)                 11        \n",
            "=================================================================\n",
            "Total params: 1,250,021\n",
            "Trainable params: 1,250,021\n",
            "Non-trainable params: 0\n",
            "_________________________________________________________________\n"
          ],
          "name": "stdout"
        }
      ]
    },
    {
      "cell_type": "code",
      "metadata": {
        "id": "KMNTWdmwhEEs",
        "colab_type": "code",
        "colab": {
          "base_uri": "https://localhost:8080/",
          "height": 1000
        },
        "outputId": "18cf2c2b-f71f-4612-d64e-f42c743d3a10"
      },
      "source": [
        "num_epochs = 40\n",
        "history_undersampling = model_undersampling_dl.fit(undersampling_train_padded, undersampling_y_train, epochs=num_epochs, validation_data=(undersampling_val_padded, undersampling_y_val))\n",
        "# plot loss during training\n",
        "plt.subplot(211)\n",
        "plt.title('Loss')\n",
        "plt.plot(history_undersampling.history['loss'], label='train')\n",
        "plt.plot(history_undersampling.history['val_loss'], label='test')\n",
        "plt.legend()\n",
        "# plot accuracy during training\n",
        "plt.subplot(212)\n",
        "plt.title('Accuracy')\n",
        "plt.plot(history_undersampling.history['accuracy'], label='train')\n",
        "plt.plot(history_undersampling.history['val_accuracy'], label='test')\n",
        "plt.legend()\n",
        "plt.show()"
      ],
      "execution_count": null,
      "outputs": [
        {
          "output_type": "stream",
          "text": [
            "Epoch 1/40\n",
            "732/732 [==============================] - 11s 15ms/step - loss: 0.3351 - accuracy: 0.8513 - val_loss: 0.2852 - val_accuracy: 0.8929\n",
            "Epoch 2/40\n",
            "732/732 [==============================] - 10s 14ms/step - loss: 0.1303 - accuracy: 0.9554 - val_loss: 0.3375 - val_accuracy: 0.8803\n",
            "Epoch 3/40\n",
            "732/732 [==============================] - 10s 14ms/step - loss: 0.0407 - accuracy: 0.9878 - val_loss: 0.4686 - val_accuracy: 0.8653\n",
            "Epoch 4/40\n",
            "732/732 [==============================] - 11s 14ms/step - loss: 0.0132 - accuracy: 0.9966 - val_loss: 0.5399 - val_accuracy: 0.8704\n",
            "Epoch 5/40\n",
            "732/732 [==============================] - 10s 14ms/step - loss: 0.0061 - accuracy: 0.9982 - val_loss: 0.6339 - val_accuracy: 0.8693\n",
            "Epoch 6/40\n",
            "732/732 [==============================] - 11s 15ms/step - loss: 0.0041 - accuracy: 0.9988 - val_loss: 0.7033 - val_accuracy: 0.8651\n",
            "Epoch 7/40\n",
            "732/732 [==============================] - 11s 15ms/step - loss: 0.0026 - accuracy: 0.9992 - val_loss: 0.7799 - val_accuracy: 0.8633\n",
            "Epoch 8/40\n",
            "732/732 [==============================] - 11s 15ms/step - loss: 0.0030 - accuracy: 0.9991 - val_loss: 0.8198 - val_accuracy: 0.8606\n",
            "Epoch 9/40\n",
            "732/732 [==============================] - 10s 14ms/step - loss: 0.0024 - accuracy: 0.9992 - val_loss: 0.8389 - val_accuracy: 0.8618\n",
            "Epoch 10/40\n",
            "732/732 [==============================] - 10s 14ms/step - loss: 0.0187 - accuracy: 0.9942 - val_loss: 0.9048 - val_accuracy: 0.8511\n",
            "Epoch 11/40\n",
            "732/732 [==============================] - 10s 14ms/step - loss: 0.0186 - accuracy: 0.9939 - val_loss: 0.8902 - val_accuracy: 0.8539\n",
            "Epoch 12/40\n",
            "732/732 [==============================] - 10s 14ms/step - loss: 0.0038 - accuracy: 0.9987 - val_loss: 0.9759 - val_accuracy: 0.8631\n",
            "Epoch 13/40\n",
            "732/732 [==============================] - 10s 14ms/step - loss: 0.0020 - accuracy: 0.9992 - val_loss: 1.0152 - val_accuracy: 0.8607\n",
            "Epoch 14/40\n",
            "732/732 [==============================] - 10s 14ms/step - loss: 0.0018 - accuracy: 0.9994 - val_loss: 1.0697 - val_accuracy: 0.8589\n",
            "Epoch 15/40\n",
            "732/732 [==============================] - 10s 14ms/step - loss: 0.0019 - accuracy: 0.9991 - val_loss: 1.0838 - val_accuracy: 0.8593\n",
            "Epoch 16/40\n",
            "732/732 [==============================] - 10s 14ms/step - loss: 0.0027 - accuracy: 0.9992 - val_loss: 1.1181 - val_accuracy: 0.8535\n",
            "Epoch 17/40\n",
            "732/732 [==============================] - 10s 14ms/step - loss: 0.0071 - accuracy: 0.9974 - val_loss: 1.2254 - val_accuracy: 0.8551\n",
            "Epoch 18/40\n",
            "732/732 [==============================] - 11s 15ms/step - loss: 0.0113 - accuracy: 0.9961 - val_loss: 1.1414 - val_accuracy: 0.8527\n",
            "Epoch 19/40\n",
            "732/732 [==============================] - 11s 14ms/step - loss: 0.0031 - accuracy: 0.9988 - val_loss: 1.3194 - val_accuracy: 0.8426\n",
            "Epoch 20/40\n",
            "732/732 [==============================] - 11s 14ms/step - loss: 0.0017 - accuracy: 0.9993 - val_loss: 1.3017 - val_accuracy: 0.8542\n",
            "Epoch 21/40\n",
            "732/732 [==============================] - 11s 15ms/step - loss: 0.0015 - accuracy: 0.9994 - val_loss: 1.2164 - val_accuracy: 0.8467\n",
            "Epoch 22/40\n",
            "732/732 [==============================] - 11s 15ms/step - loss: 0.0018 - accuracy: 0.9993 - val_loss: 1.2748 - val_accuracy: 0.8520\n",
            "Epoch 23/40\n",
            "732/732 [==============================] - 11s 15ms/step - loss: 0.0019 - accuracy: 0.9992 - val_loss: 1.3389 - val_accuracy: 0.8522\n",
            "Epoch 24/40\n",
            "732/732 [==============================] - 11s 15ms/step - loss: 0.0023 - accuracy: 0.9991 - val_loss: 1.2871 - val_accuracy: 0.8552\n",
            "Epoch 25/40\n",
            "732/732 [==============================] - 11s 16ms/step - loss: 0.0039 - accuracy: 0.9986 - val_loss: 1.3838 - val_accuracy: 0.8534\n",
            "Epoch 26/40\n",
            "732/732 [==============================] - 12s 16ms/step - loss: 0.0057 - accuracy: 0.9980 - val_loss: 1.4824 - val_accuracy: 0.8535\n",
            "Epoch 27/40\n",
            "732/732 [==============================] - 11s 15ms/step - loss: 0.0061 - accuracy: 0.9978 - val_loss: 1.5321 - val_accuracy: 0.8531\n",
            "Epoch 28/40\n",
            "732/732 [==============================] - 11s 15ms/step - loss: 0.0021 - accuracy: 0.9991 - val_loss: 1.4728 - val_accuracy: 0.8533\n",
            "Epoch 29/40\n",
            "732/732 [==============================] - 11s 15ms/step - loss: 0.0024 - accuracy: 0.9990 - val_loss: 1.5280 - val_accuracy: 0.8552\n",
            "Epoch 30/40\n",
            "732/732 [==============================] - 11s 15ms/step - loss: 0.0019 - accuracy: 0.9993 - val_loss: 1.4268 - val_accuracy: 0.8489\n",
            "Epoch 31/40\n",
            "732/732 [==============================] - 11s 15ms/step - loss: 0.0016 - accuracy: 0.9995 - val_loss: 1.5923 - val_accuracy: 0.8504\n",
            "Epoch 32/40\n",
            "732/732 [==============================] - 11s 14ms/step - loss: 0.0018 - accuracy: 0.9992 - val_loss: 1.5018 - val_accuracy: 0.8513\n",
            "Epoch 33/40\n",
            "732/732 [==============================] - 11s 14ms/step - loss: 0.0020 - accuracy: 0.9992 - val_loss: 1.5068 - val_accuracy: 0.8486\n",
            "Epoch 34/40\n",
            "732/732 [==============================] - 11s 15ms/step - loss: 0.0034 - accuracy: 0.9989 - val_loss: 1.7175 - val_accuracy: 0.8408\n",
            "Epoch 35/40\n",
            "732/732 [==============================] - 11s 14ms/step - loss: 0.0073 - accuracy: 0.9975 - val_loss: 1.5795 - val_accuracy: 0.8490\n",
            "Epoch 36/40\n",
            "732/732 [==============================] - 10s 14ms/step - loss: 0.0033 - accuracy: 0.9988 - val_loss: 1.6081 - val_accuracy: 0.8517\n",
            "Epoch 37/40\n",
            "732/732 [==============================] - 11s 15ms/step - loss: 0.0019 - accuracy: 0.9993 - val_loss: 1.5170 - val_accuracy: 0.8374\n",
            "Epoch 38/40\n",
            "732/732 [==============================] - 11s 15ms/step - loss: 0.0017 - accuracy: 0.9994 - val_loss: 1.6049 - val_accuracy: 0.8476\n",
            "Epoch 39/40\n",
            "732/732 [==============================] - 11s 16ms/step - loss: 0.0019 - accuracy: 0.9992 - val_loss: 1.4973 - val_accuracy: 0.8502\n",
            "Epoch 40/40\n",
            "732/732 [==============================] - 11s 16ms/step - loss: 0.0020 - accuracy: 0.9992 - val_loss: 1.7302 - val_accuracy: 0.8507\n"
          ],
          "name": "stdout"
        },
        {
          "output_type": "display_data",
          "data": {
            "image/png": "[encoded data removed]",
            "text/plain": [
              "<Figure size 432x288 with 2 Axes>"
            ]
          },
          "metadata": {
            "tags": [],
            "needs_background": "light"
          }
        }
      ]
    },
    {
      "cell_type": "markdown",
      "metadata": {
        "id": "RkQHyi3Z1fds",
        "colab_type": "text"
      },
      "source": [
        "#### Đánh giá trên tập test"
      ]
    },
    {
      "cell_type": "code",
      "metadata": {
        "id": "u41_-2J11gkT",
        "colab_type": "code",
        "colab": {
          "base_uri": "https://localhost:8080/",
          "height": 153
        },
        "outputId": "7e2ea822-10e3-4adf-9f47-c83c2f8b6b3a"
      },
      "source": [
        "undersampling_test_sequences = tokenizer_undersampling.texts_to_sequences(X_test)\n",
        "undersampling_test_padded = pad_sequences(undersampling_test_sequences, maxlen=max_length, truncating='post', padding='post')\n",
        "print(undersampling_test_padded)\n",
        "print(undersampling_test_padded.shape)"
      ],
      "execution_count": null,
      "outputs": [
        {
          "output_type": "stream",
          "text": [
            "[[  18  332 1852 ...    0    0    0]\n",
            " [  14  332  142 ...    0    0    0]\n",
            " [ 694  588  880 ...    0    0    0]\n",
            " ...\n",
            " [   6  253   70 ...    0    0    0]\n",
            " [   5  272   18 ...    0    0    0]\n",
            " [   4  265   14 ...    0    0    0]]\n",
            "(4798, 250)\n"
          ],
          "name": "stdout"
        }
      ]
    },
    {
      "cell_type": "code",
      "metadata": {
        "id": "IZMPuY8l1lcM",
        "colab_type": "code",
        "colab": {
          "base_uri": "https://localhost:8080/",
          "height": 170
        },
        "outputId": "f783e101-f5be-4076-b7fa-479614a330db"
      },
      "source": [
        "test_pred = model_undersampling_dl.predict(undersampling_test_padded)\n",
        "for i in range (0, len(test_pred)):\n",
        "  if float(test_pred[i]) >= 0.5:\n",
        "    test_pred[i] = 1\n",
        "  else :\n",
        "    test_pred[i] = 0\n",
        "report = metrics.classification_report(y_test, test_pred, labels=[0,1], digits=3)\n",
        "print(report)"
      ],
      "execution_count": null,
      "outputs": [
        {
          "output_type": "stream",
          "text": [
            "              precision    recall  f1-score   support\n",
            "\n",
            "           0      0.654     0.819     0.727      1000\n",
            "           1      0.949     0.886     0.916      3798\n",
            "\n",
            "   micro avg      0.872     0.872     0.872      4798\n",
            "   macro avg      0.801     0.852     0.822      4798\n",
            "weighted avg      0.887     0.872     0.877      4798\n",
            "\n"
          ],
          "name": "stdout"
        }
      ]
    },
    {
      "cell_type": "markdown",
      "metadata": {
        "id": "XnL7kQYzGs-g",
        "colab_type": "text"
      },
      "source": [
        "## **Deploy to the website** "
      ]
    },
    {
      "cell_type": "code",
      "metadata": {
        "id": "PggJwFFZUIb-",
        "colab_type": "code",
        "colab": {}
      },
      "source": [
        "import pickle\n",
        "filename = '/content/drive/My Drive/Colab Notebooks/sentiment_analysis/best_model.sav'\n",
        "loaded_model = pickle.load(open(filename, 'rb'))"
      ],
      "execution_count": null,
      "outputs": []
    },
    {
      "cell_type": "code",
      "metadata": {
        "id": "zGQyY38o_ZOm",
        "colab_type": "code",
        "colab": {}
      },
      "source": [
        "app = Flask(__name__, template_folder=r'/content/drive/My Drive/Colab Notebooks/sentiment_analysis')\n",
        "run_with_ngrok(app)  # Start ngrok when app is run\n",
        "\n",
        "\n",
        "@app.route(\"/\")\n",
        "def home():\n",
        "    return render_template('home.html')\n",
        "\n",
        "@app.route('/predict',methods=['POST'])\n",
        "def predict():\n",
        "    if request.method == 'POST':\n",
        "        message = request.form['message']\n",
        "        data = [message]\n",
        "        data = normalize_text(data)\n",
        "        data = [data]\n",
        "        data = tfidf.transform(data)\n",
        "        my_prediction = loaded_model.predict(data)\n",
        "        \n",
        "    return render_template('result.html',prediction = my_prediction)\n",
        "\n",
        "if __name__ == '__main__':\n",
        "    app.run()\n"
      ],
      "execution_count": null,
      "outputs": []
    }
  ]
}